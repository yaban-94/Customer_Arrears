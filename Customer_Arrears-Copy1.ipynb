{
 "cells": [
  {
   "cell_type": "code",
   "execution_count": 2,
   "metadata": {},
   "outputs": [],
   "source": [
    "import os\n",
    "import pandas as pd\n",
    "import numpy as np\n",
    "from sklearn import preprocessing\n",
    "import matplotlib.pyplot as plt \n",
    "plt.rc(\"font\", size=14)\n",
    "from sklearn.linear_model import LogisticRegression\n",
    "from sklearn.model_selection import train_test_split\n",
    "import seaborn as sns\n",
    "sns.set(style=\"white\")\n",
    "sns.set(style=\"whitegrid\", color_codes=True)\n",
    "import warnings\n",
    "warnings.filterwarnings('ignore')"
   ]
  },
  {
   "cell_type": "code",
   "execution_count": 3,
   "metadata": {},
   "outputs": [
    {
     "data": {
      "text/plain": [
       "'C:\\\\users\\\\JYIN\\\\Customer_Arrears'"
      ]
     },
     "execution_count": 3,
     "metadata": {},
     "output_type": "execute_result"
    }
   ],
   "source": [
    "os.getcwd()"
   ]
  },
  {
   "cell_type": "code",
   "execution_count": 4,
   "metadata": {},
   "outputs": [],
   "source": [
    "os.chdir('H:\\\\Desktop')"
   ]
  },
  {
   "cell_type": "code",
   "execution_count": 5,
   "metadata": {},
   "outputs": [],
   "source": [
    "newdata = pd.read_csv('FINALS.csv')"
   ]
  },
  {
   "cell_type": "code",
   "execution_count": 6,
   "metadata": {},
   "outputs": [
    {
     "data": {
      "text/html": [
       "<div>\n",
       "<style scoped>\n",
       "    .dataframe tbody tr th:only-of-type {\n",
       "        vertical-align: middle;\n",
       "    }\n",
       "\n",
       "    .dataframe tbody tr th {\n",
       "        vertical-align: top;\n",
       "    }\n",
       "\n",
       "    .dataframe thead th {\n",
       "        text-align: right;\n",
       "    }\n",
       "</style>\n",
       "<table border=\"1\" class=\"dataframe\">\n",
       "  <thead>\n",
       "    <tr style=\"text-align: right;\">\n",
       "      <th></th>\n",
       "      <th>KY_BA</th>\n",
       "      <th>Account_Age_Mar</th>\n",
       "      <th>Account_Age_Apr</th>\n",
       "      <th>Account_Age_May</th>\n",
       "      <th>usage3</th>\n",
       "      <th>usage4</th>\n",
       "      <th>usage5</th>\n",
       "      <th>chgrt3</th>\n",
       "      <th>chgrt4</th>\n",
       "      <th>chgrt5</th>\n",
       "      <th>...</th>\n",
       "      <th>FL_EBILL</th>\n",
       "      <th>CD_AD_TYPE</th>\n",
       "      <th>SQFT_Code</th>\n",
       "      <th>SQFT_Desc</th>\n",
       "      <th>mo3</th>\n",
       "      <th>mo4</th>\n",
       "      <th>mo5</th>\n",
       "      <th>DD3</th>\n",
       "      <th>DD4</th>\n",
       "      <th>DD5</th>\n",
       "    </tr>\n",
       "  </thead>\n",
       "  <tbody>\n",
       "    <tr>\n",
       "      <td>0</td>\n",
       "      <td>100925</td>\n",
       "      <td>6.846575</td>\n",
       "      <td>6.928767</td>\n",
       "      <td>7.013699</td>\n",
       "      <td>12000.0</td>\n",
       "      <td>10800.0</td>\n",
       "      <td>9000.0</td>\n",
       "      <td>0.111111</td>\n",
       "      <td>-0.100000</td>\n",
       "      <td>-0.166667</td>\n",
       "      <td>...</td>\n",
       "      <td>N</td>\n",
       "      <td>M</td>\n",
       "      <td>6.0</td>\n",
       "      <td>20,000 - 39,999</td>\n",
       "      <td>2200.56</td>\n",
       "      <td>2007.88</td>\n",
       "      <td>1698.36</td>\n",
       "      <td>0</td>\n",
       "      <td>0</td>\n",
       "      <td>0</td>\n",
       "    </tr>\n",
       "    <tr>\n",
       "      <td>1</td>\n",
       "      <td>101020</td>\n",
       "      <td>1.210959</td>\n",
       "      <td>1.293151</td>\n",
       "      <td>1.378082</td>\n",
       "      <td>167244.0</td>\n",
       "      <td>105544.0</td>\n",
       "      <td>103471.0</td>\n",
       "      <td>-0.078469</td>\n",
       "      <td>-0.368922</td>\n",
       "      <td>-0.019641</td>\n",
       "      <td>...</td>\n",
       "      <td>M</td>\n",
       "      <td>M</td>\n",
       "      <td>7.0</td>\n",
       "      <td>40,000 - 99,999</td>\n",
       "      <td>0.00</td>\n",
       "      <td>15607.90</td>\n",
       "      <td>13385.13</td>\n",
       "      <td>0</td>\n",
       "      <td>0</td>\n",
       "      <td>0</td>\n",
       "    </tr>\n",
       "    <tr>\n",
       "      <td>2</td>\n",
       "      <td>101646</td>\n",
       "      <td>2.123288</td>\n",
       "      <td>2.205479</td>\n",
       "      <td>2.290411</td>\n",
       "      <td>168898.0</td>\n",
       "      <td>106447.0</td>\n",
       "      <td>102988.0</td>\n",
       "      <td>-0.047383</td>\n",
       "      <td>-0.369756</td>\n",
       "      <td>-0.032495</td>\n",
       "      <td>...</td>\n",
       "      <td>M</td>\n",
       "      <td>M</td>\n",
       "      <td>1.0</td>\n",
       "      <td>0 - 1,499</td>\n",
       "      <td>22444.97</td>\n",
       "      <td>7523.33</td>\n",
       "      <td>0.00</td>\n",
       "      <td>0</td>\n",
       "      <td>0</td>\n",
       "      <td>0</td>\n",
       "    </tr>\n",
       "    <tr>\n",
       "      <td>3</td>\n",
       "      <td>102401</td>\n",
       "      <td>22.915068</td>\n",
       "      <td>22.997260</td>\n",
       "      <td>23.082192</td>\n",
       "      <td>52489.0</td>\n",
       "      <td>45266.0</td>\n",
       "      <td>59314.0</td>\n",
       "      <td>-0.231651</td>\n",
       "      <td>-0.137610</td>\n",
       "      <td>0.310343</td>\n",
       "      <td>...</td>\n",
       "      <td>D</td>\n",
       "      <td>M</td>\n",
       "      <td>7.0</td>\n",
       "      <td>40,000 - 99,999</td>\n",
       "      <td>3181.58</td>\n",
       "      <td>3097.32</td>\n",
       "      <td>0.00</td>\n",
       "      <td>0</td>\n",
       "      <td>0</td>\n",
       "      <td>1</td>\n",
       "    </tr>\n",
       "    <tr>\n",
       "      <td>4</td>\n",
       "      <td>102554</td>\n",
       "      <td>16.715068</td>\n",
       "      <td>16.797260</td>\n",
       "      <td>16.882192</td>\n",
       "      <td>61200.0</td>\n",
       "      <td>34500.0</td>\n",
       "      <td>21900.0</td>\n",
       "      <td>-0.055556</td>\n",
       "      <td>-0.436275</td>\n",
       "      <td>-0.365217</td>\n",
       "      <td>...</td>\n",
       "      <td>D</td>\n",
       "      <td>M</td>\n",
       "      <td>3.0</td>\n",
       "      <td>2,500 - 4,999</td>\n",
       "      <td>7348.08</td>\n",
       "      <td>0.00</td>\n",
       "      <td>0.00</td>\n",
       "      <td>0</td>\n",
       "      <td>0</td>\n",
       "      <td>1</td>\n",
       "    </tr>\n",
       "  </tbody>\n",
       "</table>\n",
       "<p>5 rows × 23 columns</p>\n",
       "</div>"
      ],
      "text/plain": [
       "    KY_BA  Account_Age_Mar  Account_Age_Apr  Account_Age_May    usage3  \\\n",
       "0  100925         6.846575         6.928767         7.013699   12000.0   \n",
       "1  101020         1.210959         1.293151         1.378082  167244.0   \n",
       "2  101646         2.123288         2.205479         2.290411  168898.0   \n",
       "3  102401        22.915068        22.997260        23.082192   52489.0   \n",
       "4  102554        16.715068        16.797260        16.882192   61200.0   \n",
       "\n",
       "     usage4    usage5    chgrt3    chgrt4    chgrt5  ... FL_EBILL CD_AD_TYPE  \\\n",
       "0   10800.0    9000.0  0.111111 -0.100000 -0.166667  ...        N          M   \n",
       "1  105544.0  103471.0 -0.078469 -0.368922 -0.019641  ...        M          M   \n",
       "2  106447.0  102988.0 -0.047383 -0.369756 -0.032495  ...        M          M   \n",
       "3   45266.0   59314.0 -0.231651 -0.137610  0.310343  ...        D          M   \n",
       "4   34500.0   21900.0 -0.055556 -0.436275 -0.365217  ...        D          M   \n",
       "\n",
       "  SQFT_Code        SQFT_Desc       mo3       mo4       mo5  DD3  DD4  DD5  \n",
       "0       6.0  20,000 - 39,999   2200.56   2007.88   1698.36    0    0    0  \n",
       "1       7.0  40,000 - 99,999      0.00  15607.90  13385.13    0    0    0  \n",
       "2       1.0        0 - 1,499  22444.97   7523.33      0.00    0    0    0  \n",
       "3       7.0  40,000 - 99,999   3181.58   3097.32      0.00    0    0    1  \n",
       "4       3.0    2,500 - 4,999   7348.08      0.00      0.00    0    0    1  \n",
       "\n",
       "[5 rows x 23 columns]"
      ]
     },
     "execution_count": 6,
     "metadata": {},
     "output_type": "execute_result"
    }
   ],
   "source": [
    "newdata.head()"
   ]
  },
  {
   "cell_type": "code",
   "execution_count": 7,
   "metadata": {},
   "outputs": [
    {
     "data": {
      "text/plain": [
       "KY_BA                   0\n",
       "Account_Age_Mar         0\n",
       "Account_Age_Apr         0\n",
       "Account_Age_May         0\n",
       "usage3              23307\n",
       "usage4              20178\n",
       "usage5              17163\n",
       "chgrt3              39860\n",
       "chgrt4              36395\n",
       "chgrt5              34052\n",
       "sgmt                    0\n",
       "GPC_Region          12653\n",
       "CD_CREDIT_RATING    12878\n",
       "FL_EBILL                0\n",
       "CD_AD_TYPE              0\n",
       "SQFT_Code           98428\n",
       "SQFT_Desc           98428\n",
       "mo3                     0\n",
       "mo4                     0\n",
       "mo5                     0\n",
       "DD3                     0\n",
       "DD4                     0\n",
       "DD5                     0\n",
       "dtype: int64"
      ]
     },
     "execution_count": 7,
     "metadata": {},
     "output_type": "execute_result"
    }
   ],
   "source": [
    "newdata.isnull().sum()"
   ]
  },
  {
   "cell_type": "code",
   "execution_count": 9,
   "metadata": {},
   "outputs": [],
   "source": [
    "# imputation on several columns, fillna(0))\n",
    "newdata[['usage3', 'usage4', 'usage5', 'chgrt3', 'chgrt4', 'chgrt5']] = newdata[['usage3', 'usage4', 'usage5', 'chgrt3', 'chgrt4', 'chgrt5']].fillna(0)"
   ]
  },
  {
   "cell_type": "code",
   "execution_count": 10,
   "metadata": {},
   "outputs": [],
   "source": [
    "newdata['GPC_Region'].fillna('Missing', inplace = True)"
   ]
  },
  {
   "cell_type": "code",
   "execution_count": 15,
   "metadata": {},
   "outputs": [],
   "source": [
    "def Credit_Rating(c):\n",
    "  if c['CD_CREDIT_RATING'] == 'A':\n",
    "    return 1\n",
    "  elif c['CD_CREDIT_RATING'] == 'B':\n",
    "    return 2\n",
    "  elif c['CD_CREDIT_RATING'] == 'C':\n",
    "    return 3\n",
    "  elif c['CD_CREDIT_RATING'] == 'D':\n",
    "    return 4\n",
    "  else:\n",
    "    return None\n",
    "    \n",
    "newdata['Credit_Rating'] = newdata.apply(Credit_Rating, axis=1)\n"
   ]
  },
  {
   "cell_type": "code",
   "execution_count": 16,
   "metadata": {},
   "outputs": [
    {
     "data": {
      "text/plain": [
       "12878"
      ]
     },
     "execution_count": 16,
     "metadata": {},
     "output_type": "execute_result"
    }
   ],
   "source": [
    "newdata['Credit_Rating'].isnull().sum()"
   ]
  },
  {
   "cell_type": "code",
   "execution_count": 12,
   "metadata": {},
   "outputs": [
    {
     "data": {
      "text/html": [
       "<div>\n",
       "<style scoped>\n",
       "    .dataframe tbody tr th:only-of-type {\n",
       "        vertical-align: middle;\n",
       "    }\n",
       "\n",
       "    .dataframe tbody tr th {\n",
       "        vertical-align: top;\n",
       "    }\n",
       "\n",
       "    .dataframe thead th {\n",
       "        text-align: right;\n",
       "    }\n",
       "</style>\n",
       "<table border=\"1\" class=\"dataframe\">\n",
       "  <thead>\n",
       "    <tr style=\"text-align: right;\">\n",
       "      <th></th>\n",
       "      <th>CD_CREDIT_RATING</th>\n",
       "      <th>KY_BA</th>\n",
       "    </tr>\n",
       "  </thead>\n",
       "  <tbody>\n",
       "    <tr>\n",
       "      <td>0</td>\n",
       "      <td>A</td>\n",
       "      <td>275183</td>\n",
       "    </tr>\n",
       "    <tr>\n",
       "      <td>1</td>\n",
       "      <td>B</td>\n",
       "      <td>5692</td>\n",
       "    </tr>\n",
       "    <tr>\n",
       "      <td>2</td>\n",
       "      <td>C</td>\n",
       "      <td>4363</td>\n",
       "    </tr>\n",
       "    <tr>\n",
       "      <td>3</td>\n",
       "      <td>D</td>\n",
       "      <td>24247</td>\n",
       "    </tr>\n",
       "    <tr>\n",
       "      <td>4</td>\n",
       "      <td>Missing</td>\n",
       "      <td>12878</td>\n",
       "    </tr>\n",
       "  </tbody>\n",
       "</table>\n",
       "</div>"
      ],
      "text/plain": [
       "  CD_CREDIT_RATING   KY_BA\n",
       "0                A  275183\n",
       "1                B    5692\n",
       "2                C    4363\n",
       "3                D   24247\n",
       "4          Missing   12878"
      ]
     },
     "execution_count": 12,
     "metadata": {},
     "output_type": "execute_result"
    }
   ],
   "source": [
    "newdata.groupby(by = 'CD_CREDIT_RATING', as_index = False).agg({'KY_BA': pd.Series.nunique})"
   ]
  },
  {
   "cell_type": "code",
   "execution_count": 19,
   "metadata": {},
   "outputs": [],
   "source": [
    "sgmt_list = list(set(newdata['sgmt']))"
   ]
  },
  {
   "cell_type": "code",
   "execution_count": 20,
   "metadata": {
    "scrolled": true
   },
   "outputs": [],
   "source": [
    "# sort list  \n",
    "# essential for grouping \n",
    "sgmt_list.sort() "
   ]
  },
  {
   "cell_type": "code",
   "execution_count": 21,
   "metadata": {},
   "outputs": [
    {
     "data": {
      "text/plain": [
       "['Mfg. Automotive',\n",
       " 'Mfg. Chemicals',\n",
       " 'Mfg. Fabricated Metal and Machinery',\n",
       " 'Mfg. Food & Beverage',\n",
       " 'Mfg. Forest Products',\n",
       " 'Mfg. Light Manufacturing',\n",
       " 'Mfg. Plastics & Rubber',\n",
       " 'Mfg. Primary Metal',\n",
       " 'Mfg. Stone, Clay, and Glass',\n",
       " 'Mfg. Textile & Apparel']"
      ]
     },
     "execution_count": 21,
     "metadata": {},
     "output_type": "execute_result"
    }
   ],
   "source": [
    "gov_group = sgmt_list[7:9]\n",
    "manu_list = sgmt_list[12:22]\n",
    "manu_list"
   ]
  },
  {
   "cell_type": "code",
   "execution_count": 22,
   "metadata": {},
   "outputs": [],
   "source": [
    "newdata['newsgmt1'] = np.where(newdata['sgmt'].isin(gov_group), \"Government\", newdata['sgmt'])\n",
    "newdata['newsgmt2'] = np.where(newdata['newsgmt1'].isin([\"Other\", \"Other Information\", \"Missing\"]), \"Other\", newdata['newsgmt1'])\n",
    "newdata['newsgmt3'] = np.where(newdata['newsgmt2'].isin([\"Utility-Electricity\", \"Utility-Gas\", \"Utility-Water or Wastewater\"]), \"Utility\", newdata['newsgmt2'])\n",
    "newdata['newsgmt4'] = np.where(newdata['newsgmt3'].isin([\"Data Centers\", \"Web Service\"]), \"Data Center & Web Service\", newdata['newsgmt3'])"
   ]
  },
  {
   "cell_type": "code",
   "execution_count": 23,
   "metadata": {},
   "outputs": [],
   "source": [
    "newdata['newsgmt5'] = np.where(newdata['newsgmt4'].isin(manu_list), \"Manufacturing\", newdata['newsgmt4'])"
   ]
  },
  {
   "cell_type": "code",
   "execution_count": 25,
   "metadata": {},
   "outputs": [],
   "source": [
    "# Create a groupby object: by_sgmt_class\n",
    "by_newsgmt5 = newdata.groupby(['newsgmt5'])\n",
    "\n",
    "# # Write a function that imputes median\n",
    "def impute_median(series):\n",
    "    return series.fillna(series.median())\n",
    "\n",
    "# # Impute SQFT_Code and assign to missing SQFT_Code\n",
    "newdata.SQFT_Code = by_newsgmt5.SQFT_Code.transform(impute_median)\n",
    "# # Impute SQFT_Code and assign to missing SQFT_Code\n",
    "newdata.Credit_Rating = by_newsgmt5.Credit_Rating.transform(impute_median)"
   ]
  },
  {
   "cell_type": "code",
   "execution_count": 26,
   "metadata": {},
   "outputs": [
    {
     "data": {
      "text/plain": [
       "KY_BA                   0\n",
       "Account_Age_Mar         0\n",
       "Account_Age_Apr         0\n",
       "Account_Age_May         0\n",
       "usage3                  0\n",
       "usage4                  0\n",
       "usage5                  0\n",
       "chgrt3                  0\n",
       "chgrt4                  0\n",
       "chgrt5                  0\n",
       "sgmt                    0\n",
       "GPC_Region              0\n",
       "CD_CREDIT_RATING    12878\n",
       "FL_EBILL                0\n",
       "CD_AD_TYPE              0\n",
       "SQFT_Code               0\n",
       "SQFT_Desc           98428\n",
       "mo3                     0\n",
       "mo4                     0\n",
       "mo5                     0\n",
       "DD3                     0\n",
       "DD4                     0\n",
       "DD5                     0\n",
       "Credit_Rating           0\n",
       "newsgmt1                0\n",
       "newsgmt2                0\n",
       "newsgmt3                0\n",
       "newsgmt4                0\n",
       "newsgmt5                0\n",
       "dtype: int64"
      ]
     },
     "execution_count": 26,
     "metadata": {},
     "output_type": "execute_result"
    }
   ],
   "source": [
    "newdata.isna().sum()"
   ]
  },
  {
   "cell_type": "code",
   "execution_count": 27,
   "metadata": {},
   "outputs": [],
   "source": [
    "data_Mar = newdata[['Account_Age_Mar','usage3','chgrt3', 'SQFT_Code', 'mo3', 'Credit_Rating', 'newsgmt5', 'GPC_Region',\\\n",
    "                    'FL_EBILL', 'CD_AD_TYPE']]\n",
    "data_Mar[\"In_Arrears\"] = np.where(newdata['DD4']>1, 1,newdata['DD4'])\n",
    "data_Mar.columns = ['Account_Age','electricity_monthly_usage','chgrt', 'SQFT_Code', 'mothly_Payment', 'Credit_Rating', \\\n",
    "                    'sgmt', 'GPC_Region', 'FL_EBILL', 'CD_AD_TYPE', 'In_Arrears']\n"
   ]
  },
  {
   "cell_type": "code",
   "execution_count": 28,
   "metadata": {
    "scrolled": true
   },
   "outputs": [
    {
     "data": {
      "text/plain": [
       "0    289866\n",
       "1     32497\n",
       "Name: In_Arrears, dtype: int64"
      ]
     },
     "execution_count": 28,
     "metadata": {},
     "output_type": "execute_result"
    }
   ],
   "source": [
    "data_Mar[\"In_Arrears\"].value_counts()"
   ]
  },
  {
   "cell_type": "code",
   "execution_count": 29,
   "metadata": {},
   "outputs": [],
   "source": [
    "data_Apr = newdata[['Account_Age_Apr','usage4','chgrt4', 'SQFT_Code', 'mo4', 'Credit_Rating', 'newsgmt5', 'GPC_Region', \\\n",
    "                    'FL_EBILL', 'CD_AD_TYPE']]\n",
    "data_Apr[\"In_Arrears\"] = np.where(newdata['DD5']>1, 1,newdata['DD5'])\n",
    "data_Apr.columns = ['Account_Age','electricity_monthly_usage','chgrt', 'SQFT_Code', 'mothly_Payment', 'Credit_Rating', \\\n",
    "                    'sgmt', 'GPC_Region', 'FL_EBILL', 'CD_AD_TYPE', 'In_Arrears']\n"
   ]
  },
  {
   "cell_type": "code",
   "execution_count": 30,
   "metadata": {},
   "outputs": [
    {
     "data": {
      "text/plain": [
       "0    288877\n",
       "1     33486\n",
       "Name: In_Arrears, dtype: int64"
      ]
     },
     "execution_count": 30,
     "metadata": {},
     "output_type": "execute_result"
    }
   ],
   "source": [
    "#April Arrears Count\n",
    "data_Apr[\"In_Arrears\"].value_counts()"
   ]
  },
  {
   "cell_type": "code",
   "execution_count": 31,
   "metadata": {},
   "outputs": [],
   "source": [
    "data_May = newdata[['Account_Age_May','usage5','chgrt5', 'SQFT_Code', 'mo5', 'Credit_Rating', 'newsgmt5', 'GPC_Region',\\\n",
    "                    'FL_EBILL', 'CD_AD_TYPE']]\n",
    "data_May.columns = ['Account_Age','electricity_monthly_usage','chgrt', 'SQFT_Code', 'mothly_Payment', 'Credit_Rating', 'sgmt', 'GPC_Region',\\\n",
    "                    'FL_EBILL', 'CD_AD_TYPE']"
   ]
  },
  {
   "cell_type": "code",
   "execution_count": 32,
   "metadata": {},
   "outputs": [],
   "source": [
    "Training_Data = pd.concat([data_Mar, data_Apr], ignore_index=True)"
   ]
  },
  {
   "cell_type": "code",
   "execution_count": 33,
   "metadata": {},
   "outputs": [
    {
     "data": {
      "image/png": "[encoded data removed]",
      "text/plain": [
       "<Figure size 432x288 with 1 Axes>"
      ]
     },
     "metadata": {
      "needs_background": "light"
     },
     "output_type": "display_data"
    },
    {
     "data": {
      "text/plain": [
       "<Figure size 432x288 with 0 Axes>"
      ]
     },
     "metadata": {},
     "output_type": "display_data"
    }
   ],
   "source": [
    "sns.countplot(x = 'In_Arrears', data = Training_Data, palette = 'hls')\n",
    "plt.show()\n",
    "plt.savefig('count_plot')"
   ]
  },
  {
   "cell_type": "code",
   "execution_count": 34,
   "metadata": {},
   "outputs": [
    {
     "name": "stdout",
     "output_type": "stream",
     "text": [
      "percentage of non arrears is 89.76572993798916\n",
      "percentage of arrears 10.23427006201084\n"
     ]
    }
   ],
   "source": [
    "count_no_arr = len(Training_Data[Training_Data['In_Arrears']==0])\n",
    "count_arr = len(Training_Data[Training_Data['In_Arrears']==1])\n",
    "pct_of_no_arr = count_no_arr/(count_no_arr+count_arr)\n",
    "print(\"percentage of non arrears is\", pct_of_no_arr*100)\n",
    "pct_of_arr = count_arr/(count_no_arr+count_arr)\n",
    "print(\"percentage of arrears\", pct_of_arr*100)"
   ]
  },
  {
   "cell_type": "code",
   "execution_count": 35,
   "metadata": {},
   "outputs": [
    {
     "data": {
      "text/html": [
       "<div>\n",
       "<style scoped>\n",
       "    .dataframe tbody tr th:only-of-type {\n",
       "        vertical-align: middle;\n",
       "    }\n",
       "\n",
       "    .dataframe tbody tr th {\n",
       "        vertical-align: top;\n",
       "    }\n",
       "\n",
       "    .dataframe thead th {\n",
       "        text-align: right;\n",
       "    }\n",
       "</style>\n",
       "<table border=\"1\" class=\"dataframe\">\n",
       "  <thead>\n",
       "    <tr style=\"text-align: right;\">\n",
       "      <th></th>\n",
       "      <th>Account_Age</th>\n",
       "      <th>electricity_monthly_usage</th>\n",
       "      <th>chgrt</th>\n",
       "      <th>SQFT_Code</th>\n",
       "      <th>mothly_Payment</th>\n",
       "      <th>Credit_Rating</th>\n",
       "    </tr>\n",
       "    <tr>\n",
       "      <th>In_Arrears</th>\n",
       "      <th></th>\n",
       "      <th></th>\n",
       "      <th></th>\n",
       "      <th></th>\n",
       "      <th></th>\n",
       "      <th></th>\n",
       "    </tr>\n",
       "  </thead>\n",
       "  <tbody>\n",
       "    <tr>\n",
       "      <td>0</td>\n",
       "      <td>12.771988</td>\n",
       "      <td>4862.924706</td>\n",
       "      <td>0.080273</td>\n",
       "      <td>3.266239</td>\n",
       "      <td>642.980661</td>\n",
       "      <td>1.168375</td>\n",
       "    </tr>\n",
       "    <tr>\n",
       "      <td>1</td>\n",
       "      <td>8.467752</td>\n",
       "      <td>3562.586969</td>\n",
       "      <td>0.051557</td>\n",
       "      <td>2.878514</td>\n",
       "      <td>331.964503</td>\n",
       "      <td>2.165027</td>\n",
       "    </tr>\n",
       "  </tbody>\n",
       "</table>\n",
       "</div>"
      ],
      "text/plain": [
       "            Account_Age  electricity_monthly_usage     chgrt  SQFT_Code  \\\n",
       "In_Arrears                                                                \n",
       "0             12.771988                4862.924706  0.080273   3.266239   \n",
       "1              8.467752                3562.586969  0.051557   2.878514   \n",
       "\n",
       "            mothly_Payment  Credit_Rating  \n",
       "In_Arrears                                 \n",
       "0               642.980661       1.168375  \n",
       "1               331.964503       2.165027  "
      ]
     },
     "execution_count": 35,
     "metadata": {},
     "output_type": "execute_result"
    }
   ],
   "source": [
    "Training_Data.groupby('In_Arrears').mean()"
   ]
  },
  {
   "cell_type": "code",
   "execution_count": 36,
   "metadata": {},
   "outputs": [
    {
     "data": {
      "text/html": [
       "<div>\n",
       "<style scoped>\n",
       "    .dataframe tbody tr th:only-of-type {\n",
       "        vertical-align: middle;\n",
       "    }\n",
       "\n",
       "    .dataframe tbody tr th {\n",
       "        vertical-align: top;\n",
       "    }\n",
       "\n",
       "    .dataframe thead th {\n",
       "        text-align: right;\n",
       "    }\n",
       "</style>\n",
       "<table border=\"1\" class=\"dataframe\">\n",
       "  <thead>\n",
       "    <tr style=\"text-align: right;\">\n",
       "      <th></th>\n",
       "      <th>Account_Age</th>\n",
       "      <th>electricity_monthly_usage</th>\n",
       "      <th>chgrt</th>\n",
       "      <th>SQFT_Code</th>\n",
       "      <th>mothly_Payment</th>\n",
       "      <th>Credit_Rating</th>\n",
       "      <th>In_Arrears</th>\n",
       "    </tr>\n",
       "    <tr>\n",
       "      <th>sgmt</th>\n",
       "      <th></th>\n",
       "      <th></th>\n",
       "      <th></th>\n",
       "      <th></th>\n",
       "      <th></th>\n",
       "      <th></th>\n",
       "      <th></th>\n",
       "    </tr>\n",
       "  </thead>\n",
       "  <tbody>\n",
       "    <tr>\n",
       "      <td>Agriculture</td>\n",
       "      <td>14.778958</td>\n",
       "      <td>3517.911737</td>\n",
       "      <td>1.158169</td>\n",
       "      <td>2.397659</td>\n",
       "      <td>342.860457</td>\n",
       "      <td>1.182854</td>\n",
       "      <td>0.066118</td>\n",
       "    </tr>\n",
       "    <tr>\n",
       "      <td>Amusement</td>\n",
       "      <td>12.453721</td>\n",
       "      <td>3510.178586</td>\n",
       "      <td>0.026013</td>\n",
       "      <td>3.667831</td>\n",
       "      <td>543.765834</td>\n",
       "      <td>1.348931</td>\n",
       "      <td>0.137240</td>\n",
       "    </tr>\n",
       "    <tr>\n",
       "      <td>Communications</td>\n",
       "      <td>15.362741</td>\n",
       "      <td>2450.793574</td>\n",
       "      <td>0.049186</td>\n",
       "      <td>3.151522</td>\n",
       "      <td>289.705860</td>\n",
       "      <td>1.020296</td>\n",
       "      <td>0.039517</td>\n",
       "    </tr>\n",
       "    <tr>\n",
       "      <td>Construction</td>\n",
       "      <td>7.017536</td>\n",
       "      <td>2033.862323</td>\n",
       "      <td>0.214933</td>\n",
       "      <td>3.073103</td>\n",
       "      <td>312.263672</td>\n",
       "      <td>1.214387</td>\n",
       "      <td>0.101857</td>\n",
       "    </tr>\n",
       "    <tr>\n",
       "      <td>Convenience Stores</td>\n",
       "      <td>9.595270</td>\n",
       "      <td>8919.000548</td>\n",
       "      <td>0.053159</td>\n",
       "      <td>2.177632</td>\n",
       "      <td>1076.598791</td>\n",
       "      <td>1.527961</td>\n",
       "      <td>0.128838</td>\n",
       "    </tr>\n",
       "    <tr>\n",
       "      <td>Data Center &amp; Web Service</td>\n",
       "      <td>12.356208</td>\n",
       "      <td>71767.648148</td>\n",
       "      <td>-0.053657</td>\n",
       "      <td>3.232804</td>\n",
       "      <td>3943.125688</td>\n",
       "      <td>1.243386</td>\n",
       "      <td>0.097884</td>\n",
       "    </tr>\n",
       "    <tr>\n",
       "      <td>Education</td>\n",
       "      <td>13.194885</td>\n",
       "      <td>5920.652509</td>\n",
       "      <td>-0.071015</td>\n",
       "      <td>4.388582</td>\n",
       "      <td>837.021199</td>\n",
       "      <td>1.276373</td>\n",
       "      <td>0.098874</td>\n",
       "    </tr>\n",
       "    <tr>\n",
       "      <td>Government</td>\n",
       "      <td>17.957904</td>\n",
       "      <td>3571.124081</td>\n",
       "      <td>0.043967</td>\n",
       "      <td>4.853934</td>\n",
       "      <td>510.574554</td>\n",
       "      <td>1.078206</td>\n",
       "      <td>0.027974</td>\n",
       "    </tr>\n",
       "    <tr>\n",
       "      <td>Grocery</td>\n",
       "      <td>14.318473</td>\n",
       "      <td>23626.140838</td>\n",
       "      <td>0.184844</td>\n",
       "      <td>3.100959</td>\n",
       "      <td>2174.313776</td>\n",
       "      <td>1.362191</td>\n",
       "      <td>0.100707</td>\n",
       "    </tr>\n",
       "    <tr>\n",
       "      <td>Healthcare</td>\n",
       "      <td>11.719490</td>\n",
       "      <td>6803.901344</td>\n",
       "      <td>-0.055255</td>\n",
       "      <td>3.338399</td>\n",
       "      <td>862.184313</td>\n",
       "      <td>1.262057</td>\n",
       "      <td>0.080998</td>\n",
       "    </tr>\n",
       "    <tr>\n",
       "      <td>Hotels/Lodging</td>\n",
       "      <td>12.855351</td>\n",
       "      <td>17739.085753</td>\n",
       "      <td>-0.019569</td>\n",
       "      <td>3.563005</td>\n",
       "      <td>2067.787957</td>\n",
       "      <td>1.273571</td>\n",
       "      <td>0.143969</td>\n",
       "    </tr>\n",
       "    <tr>\n",
       "      <td>Manufacturing</td>\n",
       "      <td>12.030247</td>\n",
       "      <td>8034.676175</td>\n",
       "      <td>0.027494</td>\n",
       "      <td>3.580229</td>\n",
       "      <td>944.520600</td>\n",
       "      <td>1.245738</td>\n",
       "      <td>0.078583</td>\n",
       "    </tr>\n",
       "    <tr>\n",
       "      <td>Office/Real Estate</td>\n",
       "      <td>9.406334</td>\n",
       "      <td>3852.886145</td>\n",
       "      <td>0.048636</td>\n",
       "      <td>3.295672</td>\n",
       "      <td>554.974218</td>\n",
       "      <td>1.225173</td>\n",
       "      <td>0.101029</td>\n",
       "    </tr>\n",
       "    <tr>\n",
       "      <td>Other</td>\n",
       "      <td>13.571609</td>\n",
       "      <td>2300.802566</td>\n",
       "      <td>0.014635</td>\n",
       "      <td>3.129158</td>\n",
       "      <td>351.185230</td>\n",
       "      <td>1.163600</td>\n",
       "      <td>0.075671</td>\n",
       "    </tr>\n",
       "    <tr>\n",
       "      <td>Restaurants</td>\n",
       "      <td>9.138139</td>\n",
       "      <td>8342.588518</td>\n",
       "      <td>0.017975</td>\n",
       "      <td>2.722096</td>\n",
       "      <td>1065.228508</td>\n",
       "      <td>1.506342</td>\n",
       "      <td>0.200567</td>\n",
       "    </tr>\n",
       "    <tr>\n",
       "      <td>Retail/Mercantile</td>\n",
       "      <td>11.008879</td>\n",
       "      <td>6865.479276</td>\n",
       "      <td>-0.022818</td>\n",
       "      <td>3.121741</td>\n",
       "      <td>798.362196</td>\n",
       "      <td>1.359679</td>\n",
       "      <td>0.124713</td>\n",
       "    </tr>\n",
       "    <tr>\n",
       "      <td>Services</td>\n",
       "      <td>12.251756</td>\n",
       "      <td>2049.457244</td>\n",
       "      <td>-0.059094</td>\n",
       "      <td>2.222246</td>\n",
       "      <td>346.833168</td>\n",
       "      <td>1.631854</td>\n",
       "      <td>0.199372</td>\n",
       "    </tr>\n",
       "    <tr>\n",
       "      <td>Transportation</td>\n",
       "      <td>12.819473</td>\n",
       "      <td>3748.637935</td>\n",
       "      <td>0.017452</td>\n",
       "      <td>4.233067</td>\n",
       "      <td>556.913663</td>\n",
       "      <td>1.251881</td>\n",
       "      <td>0.108302</td>\n",
       "    </tr>\n",
       "    <tr>\n",
       "      <td>Utility</td>\n",
       "      <td>15.665908</td>\n",
       "      <td>3644.353646</td>\n",
       "      <td>2.350025</td>\n",
       "      <td>4.109890</td>\n",
       "      <td>363.232919</td>\n",
       "      <td>1.067133</td>\n",
       "      <td>0.040659</td>\n",
       "    </tr>\n",
       "    <tr>\n",
       "      <td>Warehouses</td>\n",
       "      <td>6.567306</td>\n",
       "      <td>3848.063740</td>\n",
       "      <td>0.112314</td>\n",
       "      <td>3.114323</td>\n",
       "      <td>501.097885</td>\n",
       "      <td>1.317515</td>\n",
       "      <td>0.104400</td>\n",
       "    </tr>\n",
       "    <tr>\n",
       "      <td>Wholesale</td>\n",
       "      <td>16.165703</td>\n",
       "      <td>6856.003080</td>\n",
       "      <td>0.298250</td>\n",
       "      <td>3.719004</td>\n",
       "      <td>789.245627</td>\n",
       "      <td>1.239581</td>\n",
       "      <td>0.077523</td>\n",
       "    </tr>\n",
       "    <tr>\n",
       "      <td>Worship</td>\n",
       "      <td>24.701906</td>\n",
       "      <td>2303.305482</td>\n",
       "      <td>-0.124903</td>\n",
       "      <td>2.428219</td>\n",
       "      <td>447.693750</td>\n",
       "      <td>1.349411</td>\n",
       "      <td>0.088049</td>\n",
       "    </tr>\n",
       "  </tbody>\n",
       "</table>\n",
       "</div>"
      ],
      "text/plain": [
       "                           Account_Age  electricity_monthly_usage     chgrt  \\\n",
       "sgmt                                                                          \n",
       "Agriculture                  14.778958                3517.911737  1.158169   \n",
       "Amusement                    12.453721                3510.178586  0.026013   \n",
       "Communications               15.362741                2450.793574  0.049186   \n",
       "Construction                  7.017536                2033.862323  0.214933   \n",
       "Convenience Stores            9.595270                8919.000548  0.053159   \n",
       "Data Center & Web Service    12.356208               71767.648148 -0.053657   \n",
       "Education                    13.194885                5920.652509 -0.071015   \n",
       "Government                   17.957904                3571.124081  0.043967   \n",
       "Grocery                      14.318473               23626.140838  0.184844   \n",
       "Healthcare                   11.719490                6803.901344 -0.055255   \n",
       "Hotels/Lodging               12.855351               17739.085753 -0.019569   \n",
       "Manufacturing                12.030247                8034.676175  0.027494   \n",
       "Office/Real Estate            9.406334                3852.886145  0.048636   \n",
       "Other                        13.571609                2300.802566  0.014635   \n",
       "Restaurants                   9.138139                8342.588518  0.017975   \n",
       "Retail/Mercantile            11.008879                6865.479276 -0.022818   \n",
       "Services                     12.251756                2049.457244 -0.059094   \n",
       "Transportation               12.819473                3748.637935  0.017452   \n",
       "Utility                      15.665908                3644.353646  2.350025   \n",
       "Warehouses                    6.567306                3848.063740  0.112314   \n",
       "Wholesale                    16.165703                6856.003080  0.298250   \n",
       "Worship                      24.701906                2303.305482 -0.124903   \n",
       "\n",
       "                           SQFT_Code  mothly_Payment  Credit_Rating  \\\n",
       "sgmt                                                                  \n",
       "Agriculture                 2.397659      342.860457       1.182854   \n",
       "Amusement                   3.667831      543.765834       1.348931   \n",
       "Communications              3.151522      289.705860       1.020296   \n",
       "Construction                3.073103      312.263672       1.214387   \n",
       "Convenience Stores          2.177632     1076.598791       1.527961   \n",
       "Data Center & Web Service   3.232804     3943.125688       1.243386   \n",
       "Education                   4.388582      837.021199       1.276373   \n",
       "Government                  4.853934      510.574554       1.078206   \n",
       "Grocery                     3.100959     2174.313776       1.362191   \n",
       "Healthcare                  3.338399      862.184313       1.262057   \n",
       "Hotels/Lodging              3.563005     2067.787957       1.273571   \n",
       "Manufacturing               3.580229      944.520600       1.245738   \n",
       "Office/Real Estate          3.295672      554.974218       1.225173   \n",
       "Other                       3.129158      351.185230       1.163600   \n",
       "Restaurants                 2.722096     1065.228508       1.506342   \n",
       "Retail/Mercantile           3.121741      798.362196       1.359679   \n",
       "Services                    2.222246      346.833168       1.631854   \n",
       "Transportation              4.233067      556.913663       1.251881   \n",
       "Utility                     4.109890      363.232919       1.067133   \n",
       "Warehouses                  3.114323      501.097885       1.317515   \n",
       "Wholesale                   3.719004      789.245627       1.239581   \n",
       "Worship                     2.428219      447.693750       1.349411   \n",
       "\n",
       "                           In_Arrears  \n",
       "sgmt                                   \n",
       "Agriculture                  0.066118  \n",
       "Amusement                    0.137240  \n",
       "Communications               0.039517  \n",
       "Construction                 0.101857  \n",
       "Convenience Stores           0.128838  \n",
       "Data Center & Web Service    0.097884  \n",
       "Education                    0.098874  \n",
       "Government                   0.027974  \n",
       "Grocery                      0.100707  \n",
       "Healthcare                   0.080998  \n",
       "Hotels/Lodging               0.143969  \n",
       "Manufacturing                0.078583  \n",
       "Office/Real Estate           0.101029  \n",
       "Other                        0.075671  \n",
       "Restaurants                  0.200567  \n",
       "Retail/Mercantile            0.124713  \n",
       "Services                     0.199372  \n",
       "Transportation               0.108302  \n",
       "Utility                      0.040659  \n",
       "Warehouses                   0.104400  \n",
       "Wholesale                    0.077523  \n",
       "Worship                      0.088049  "
      ]
     },
     "execution_count": 36,
     "metadata": {},
     "output_type": "execute_result"
    }
   ],
   "source": [
    "Training_Data.groupby('sgmt').mean()"
   ]
  },
  {
   "cell_type": "code",
   "execution_count": 37,
   "metadata": {},
   "outputs": [
    {
     "data": {
      "text/html": [
       "<div>\n",
       "<style scoped>\n",
       "    .dataframe tbody tr th:only-of-type {\n",
       "        vertical-align: middle;\n",
       "    }\n",
       "\n",
       "    .dataframe tbody tr th {\n",
       "        vertical-align: top;\n",
       "    }\n",
       "\n",
       "    .dataframe thead th {\n",
       "        text-align: right;\n",
       "    }\n",
       "</style>\n",
       "<table border=\"1\" class=\"dataframe\">\n",
       "  <thead>\n",
       "    <tr style=\"text-align: right;\">\n",
       "      <th></th>\n",
       "      <th>Account_Age</th>\n",
       "      <th>electricity_monthly_usage</th>\n",
       "      <th>chgrt</th>\n",
       "      <th>SQFT_Code</th>\n",
       "      <th>mothly_Payment</th>\n",
       "      <th>Credit_Rating</th>\n",
       "      <th>In_Arrears</th>\n",
       "    </tr>\n",
       "    <tr>\n",
       "      <th>GPC_Region</th>\n",
       "      <th></th>\n",
       "      <th></th>\n",
       "      <th></th>\n",
       "      <th></th>\n",
       "      <th></th>\n",
       "      <th></th>\n",
       "      <th></th>\n",
       "    </tr>\n",
       "  </thead>\n",
       "  <tbody>\n",
       "    <tr>\n",
       "      <td>Missing</td>\n",
       "      <td>10.050156</td>\n",
       "      <td>0.156406</td>\n",
       "      <td>0.000051</td>\n",
       "      <td>3.023789</td>\n",
       "      <td>85.523441</td>\n",
       "      <td>1.006086</td>\n",
       "      <td>0.054453</td>\n",
       "    </tr>\n",
       "    <tr>\n",
       "      <td>Northeast</td>\n",
       "      <td>13.105021</td>\n",
       "      <td>4333.244579</td>\n",
       "      <td>0.013749</td>\n",
       "      <td>3.183236</td>\n",
       "      <td>563.932680</td>\n",
       "      <td>1.231229</td>\n",
       "      <td>0.089715</td>\n",
       "    </tr>\n",
       "    <tr>\n",
       "      <td>Northwest</td>\n",
       "      <td>10.935509</td>\n",
       "      <td>5745.895986</td>\n",
       "      <td>0.003037</td>\n",
       "      <td>3.278818</td>\n",
       "      <td>728.242825</td>\n",
       "      <td>1.309460</td>\n",
       "      <td>0.112608</td>\n",
       "    </tr>\n",
       "    <tr>\n",
       "      <td>Southeast</td>\n",
       "      <td>13.892020</td>\n",
       "      <td>3983.841277</td>\n",
       "      <td>0.107096</td>\n",
       "      <td>3.240643</td>\n",
       "      <td>542.766512</td>\n",
       "      <td>1.263643</td>\n",
       "      <td>0.099226</td>\n",
       "    </tr>\n",
       "    <tr>\n",
       "      <td>Southwest</td>\n",
       "      <td>14.634541</td>\n",
       "      <td>4032.908076</td>\n",
       "      <td>0.342731</td>\n",
       "      <td>3.155916</td>\n",
       "      <td>511.641775</td>\n",
       "      <td>1.266581</td>\n",
       "      <td>0.099859</td>\n",
       "    </tr>\n",
       "  </tbody>\n",
       "</table>\n",
       "</div>"
      ],
      "text/plain": [
       "            Account_Age  electricity_monthly_usage     chgrt  SQFT_Code  \\\n",
       "GPC_Region                                                                \n",
       "Missing       10.050156                   0.156406  0.000051   3.023789   \n",
       "Northeast     13.105021                4333.244579  0.013749   3.183236   \n",
       "Northwest     10.935509                5745.895986  0.003037   3.278818   \n",
       "Southeast     13.892020                3983.841277  0.107096   3.240643   \n",
       "Southwest     14.634541                4032.908076  0.342731   3.155916   \n",
       "\n",
       "            mothly_Payment  Credit_Rating  In_Arrears  \n",
       "GPC_Region                                             \n",
       "Missing          85.523441       1.006086    0.054453  \n",
       "Northeast       563.932680       1.231229    0.089715  \n",
       "Northwest       728.242825       1.309460    0.112608  \n",
       "Southeast       542.766512       1.263643    0.099226  \n",
       "Southwest       511.641775       1.266581    0.099859  "
      ]
     },
     "execution_count": 37,
     "metadata": {},
     "output_type": "execute_result"
    }
   ],
   "source": [
    "Training_Data.groupby('GPC_Region').mean()"
   ]
  },
  {
   "cell_type": "code",
   "execution_count": 38,
   "metadata": {},
   "outputs": [
    {
     "data": {
      "text/html": [
       "<div>\n",
       "<style scoped>\n",
       "    .dataframe tbody tr th:only-of-type {\n",
       "        vertical-align: middle;\n",
       "    }\n",
       "\n",
       "    .dataframe tbody tr th {\n",
       "        vertical-align: top;\n",
       "    }\n",
       "\n",
       "    .dataframe thead th {\n",
       "        text-align: right;\n",
       "    }\n",
       "</style>\n",
       "<table border=\"1\" class=\"dataframe\">\n",
       "  <thead>\n",
       "    <tr style=\"text-align: right;\">\n",
       "      <th></th>\n",
       "      <th>Account_Age</th>\n",
       "      <th>electricity_monthly_usage</th>\n",
       "      <th>chgrt</th>\n",
       "      <th>SQFT_Code</th>\n",
       "      <th>mothly_Payment</th>\n",
       "      <th>Credit_Rating</th>\n",
       "      <th>In_Arrears</th>\n",
       "    </tr>\n",
       "    <tr>\n",
       "      <th>FL_EBILL</th>\n",
       "      <th></th>\n",
       "      <th></th>\n",
       "      <th></th>\n",
       "      <th></th>\n",
       "      <th></th>\n",
       "      <th></th>\n",
       "      <th></th>\n",
       "    </tr>\n",
       "  </thead>\n",
       "  <tbody>\n",
       "    <tr>\n",
       "      <td>D</td>\n",
       "      <td>16.601816</td>\n",
       "      <td>10143.941869</td>\n",
       "      <td>-0.000242</td>\n",
       "      <td>3.500437</td>\n",
       "      <td>1039.836128</td>\n",
       "      <td>1.015102</td>\n",
       "      <td>0.011439</td>\n",
       "    </tr>\n",
       "    <tr>\n",
       "      <td>E</td>\n",
       "      <td>7.647970</td>\n",
       "      <td>4562.628035</td>\n",
       "      <td>0.054402</td>\n",
       "      <td>3.003403</td>\n",
       "      <td>632.670580</td>\n",
       "      <td>1.471647</td>\n",
       "      <td>0.148590</td>\n",
       "    </tr>\n",
       "    <tr>\n",
       "      <td>F</td>\n",
       "      <td>26.734247</td>\n",
       "      <td>748.500000</td>\n",
       "      <td>-0.157178</td>\n",
       "      <td>3.000000</td>\n",
       "      <td>104.670000</td>\n",
       "      <td>3.000000</td>\n",
       "      <td>0.000000</td>\n",
       "    </tr>\n",
       "    <tr>\n",
       "      <td>I</td>\n",
       "      <td>12.482877</td>\n",
       "      <td>14154.325000</td>\n",
       "      <td>0.019149</td>\n",
       "      <td>3.450000</td>\n",
       "      <td>2055.708000</td>\n",
       "      <td>1.250000</td>\n",
       "      <td>0.000000</td>\n",
       "    </tr>\n",
       "    <tr>\n",
       "      <td>M</td>\n",
       "      <td>24.946979</td>\n",
       "      <td>5963.920131</td>\n",
       "      <td>0.046446</td>\n",
       "      <td>3.319068</td>\n",
       "      <td>686.224109</td>\n",
       "      <td>1.212260</td>\n",
       "      <td>0.078383</td>\n",
       "    </tr>\n",
       "    <tr>\n",
       "      <td>N</td>\n",
       "      <td>8.114553</td>\n",
       "      <td>2963.056153</td>\n",
       "      <td>0.123795</td>\n",
       "      <td>3.249399</td>\n",
       "      <td>461.397149</td>\n",
       "      <td>1.239718</td>\n",
       "      <td>0.107957</td>\n",
       "    </tr>\n",
       "  </tbody>\n",
       "</table>\n",
       "</div>"
      ],
      "text/plain": [
       "          Account_Age  electricity_monthly_usage     chgrt  SQFT_Code  \\\n",
       "FL_EBILL                                                                \n",
       "D           16.601816               10143.941869 -0.000242   3.500437   \n",
       "E            7.647970                4562.628035  0.054402   3.003403   \n",
       "F           26.734247                 748.500000 -0.157178   3.000000   \n",
       "I           12.482877               14154.325000  0.019149   3.450000   \n",
       "M           24.946979                5963.920131  0.046446   3.319068   \n",
       "N            8.114553                2963.056153  0.123795   3.249399   \n",
       "\n",
       "          mothly_Payment  Credit_Rating  In_Arrears  \n",
       "FL_EBILL                                             \n",
       "D            1039.836128       1.015102    0.011439  \n",
       "E             632.670580       1.471647    0.148590  \n",
       "F             104.670000       3.000000    0.000000  \n",
       "I            2055.708000       1.250000    0.000000  \n",
       "M             686.224109       1.212260    0.078383  \n",
       "N             461.397149       1.239718    0.107957  "
      ]
     },
     "execution_count": 38,
     "metadata": {},
     "output_type": "execute_result"
    }
   ],
   "source": [
    "Training_Data.groupby('FL_EBILL').mean()"
   ]
  },
  {
   "cell_type": "code",
   "execution_count": 39,
   "metadata": {},
   "outputs": [
    {
     "data": {
      "text/html": [
       "<div>\n",
       "<style scoped>\n",
       "    .dataframe tbody tr th:only-of-type {\n",
       "        vertical-align: middle;\n",
       "    }\n",
       "\n",
       "    .dataframe tbody tr th {\n",
       "        vertical-align: top;\n",
       "    }\n",
       "\n",
       "    .dataframe thead th {\n",
       "        text-align: right;\n",
       "    }\n",
       "</style>\n",
       "<table border=\"1\" class=\"dataframe\">\n",
       "  <thead>\n",
       "    <tr style=\"text-align: right;\">\n",
       "      <th></th>\n",
       "      <th>Account_Age</th>\n",
       "      <th>electricity_monthly_usage</th>\n",
       "      <th>chgrt</th>\n",
       "      <th>SQFT_Code</th>\n",
       "      <th>mothly_Payment</th>\n",
       "      <th>Credit_Rating</th>\n",
       "      <th>In_Arrears</th>\n",
       "    </tr>\n",
       "    <tr>\n",
       "      <th>CD_AD_TYPE</th>\n",
       "      <th></th>\n",
       "      <th></th>\n",
       "      <th></th>\n",
       "      <th></th>\n",
       "      <th></th>\n",
       "      <th></th>\n",
       "      <th></th>\n",
       "    </tr>\n",
       "  </thead>\n",
       "  <tbody>\n",
       "    <tr>\n",
       "      <td>C</td>\n",
       "      <td>11.754265</td>\n",
       "      <td>4878.884912</td>\n",
       "      <td>0.119049</td>\n",
       "      <td>3.496436</td>\n",
       "      <td>578.988074</td>\n",
       "      <td>1.103215</td>\n",
       "      <td>0.069474</td>\n",
       "    </tr>\n",
       "    <tr>\n",
       "      <td>L</td>\n",
       "      <td>2.657449</td>\n",
       "      <td>434.278155</td>\n",
       "      <td>0.113956</td>\n",
       "      <td>3.266990</td>\n",
       "      <td>90.345694</td>\n",
       "      <td>1.111650</td>\n",
       "      <td>0.087864</td>\n",
       "    </tr>\n",
       "    <tr>\n",
       "      <td>M</td>\n",
       "      <td>13.676504</td>\n",
       "      <td>5103.088463</td>\n",
       "      <td>0.097481</td>\n",
       "      <td>3.283840</td>\n",
       "      <td>653.672518</td>\n",
       "      <td>1.236745</td>\n",
       "      <td>0.090874</td>\n",
       "    </tr>\n",
       "    <tr>\n",
       "      <td>P</td>\n",
       "      <td>9.543135</td>\n",
       "      <td>3652.227991</td>\n",
       "      <td>-0.024021</td>\n",
       "      <td>2.779207</td>\n",
       "      <td>542.646662</td>\n",
       "      <td>1.544225</td>\n",
       "      <td>0.168899</td>\n",
       "    </tr>\n",
       "    <tr>\n",
       "      <td>Y</td>\n",
       "      <td>17.272027</td>\n",
       "      <td>4280.300725</td>\n",
       "      <td>0.406391</td>\n",
       "      <td>3.195652</td>\n",
       "      <td>584.854855</td>\n",
       "      <td>1.355072</td>\n",
       "      <td>0.088164</td>\n",
       "    </tr>\n",
       "  </tbody>\n",
       "</table>\n",
       "</div>"
      ],
      "text/plain": [
       "            Account_Age  electricity_monthly_usage     chgrt  SQFT_Code  \\\n",
       "CD_AD_TYPE                                                                \n",
       "C             11.754265                4878.884912  0.119049   3.496436   \n",
       "L              2.657449                 434.278155  0.113956   3.266990   \n",
       "M             13.676504                5103.088463  0.097481   3.283840   \n",
       "P              9.543135                3652.227991 -0.024021   2.779207   \n",
       "Y             17.272027                4280.300725  0.406391   3.195652   \n",
       "\n",
       "            mothly_Payment  Credit_Rating  In_Arrears  \n",
       "CD_AD_TYPE                                             \n",
       "C               578.988074       1.103215    0.069474  \n",
       "L                90.345694       1.111650    0.087864  \n",
       "M               653.672518       1.236745    0.090874  \n",
       "P               542.646662       1.544225    0.168899  \n",
       "Y               584.854855       1.355072    0.088164  "
      ]
     },
     "execution_count": 39,
     "metadata": {},
     "output_type": "execute_result"
    }
   ],
   "source": [
    "Training_Data.groupby('CD_AD_TYPE').mean()"
   ]
  },
  {
   "cell_type": "code",
   "execution_count": 41,
   "metadata": {
    "scrolled": false
   },
   "outputs": [
    {
     "data": {
      "text/plain": [
       "(6.0, 0.0)"
      ]
     },
     "execution_count": 41,
     "metadata": {},
     "output_type": "execute_result"
    },
    {
     "data": {
      "image/png": "[encoded data removed]",
      "text/plain": [
       "<Figure size 432x288 with 2 Axes>"
      ]
     },
     "metadata": {
      "needs_background": "light"
     },
     "output_type": "display_data"
    }
   ],
   "source": [
    "df = Training_Data.iloc[:,0:6]\n",
    "hm = sns.heatmap(df.corr(), fmt='.1g', annot = True, vmin=-1, vmax=1, cmap = 'coolwarm', square = True)\n",
    "bottom, top = hm.get_ylim()\n",
    "hm.set_ylim(bottom + 0.5, top - 0.5)\n"
   ]
  },
  {
   "cell_type": "code",
   "execution_count": 42,
   "metadata": {
    "scrolled": true
   },
   "outputs": [
    {
     "data": {
      "text/html": [
       "<div>\n",
       "<style scoped>\n",
       "    .dataframe tbody tr th:only-of-type {\n",
       "        vertical-align: middle;\n",
       "    }\n",
       "\n",
       "    .dataframe tbody tr th {\n",
       "        vertical-align: top;\n",
       "    }\n",
       "\n",
       "    .dataframe thead th {\n",
       "        text-align: right;\n",
       "    }\n",
       "</style>\n",
       "<table border=\"1\" class=\"dataframe\">\n",
       "  <thead>\n",
       "    <tr style=\"text-align: right;\">\n",
       "      <th></th>\n",
       "      <th>Account_Age</th>\n",
       "      <th>electricity_monthly_usage</th>\n",
       "      <th>chgrt</th>\n",
       "      <th>SQFT_Code</th>\n",
       "      <th>mothly_Payment</th>\n",
       "      <th>Credit_Rating</th>\n",
       "      <th>sgmt</th>\n",
       "      <th>GPC_Region</th>\n",
       "      <th>FL_EBILL</th>\n",
       "      <th>CD_AD_TYPE</th>\n",
       "    </tr>\n",
       "  </thead>\n",
       "  <tbody>\n",
       "    <tr>\n",
       "      <td>0</td>\n",
       "      <td>6.846575</td>\n",
       "      <td>12000.0</td>\n",
       "      <td>0.111111</td>\n",
       "      <td>6.0</td>\n",
       "      <td>2200.56</td>\n",
       "      <td>1.0</td>\n",
       "      <td>Manufacturing</td>\n",
       "      <td>Southeast</td>\n",
       "      <td>N</td>\n",
       "      <td>M</td>\n",
       "    </tr>\n",
       "    <tr>\n",
       "      <td>1</td>\n",
       "      <td>1.210959</td>\n",
       "      <td>167244.0</td>\n",
       "      <td>-0.078469</td>\n",
       "      <td>7.0</td>\n",
       "      <td>0.00</td>\n",
       "      <td>1.0</td>\n",
       "      <td>Office/Real Estate</td>\n",
       "      <td>Northwest</td>\n",
       "      <td>M</td>\n",
       "      <td>M</td>\n",
       "    </tr>\n",
       "    <tr>\n",
       "      <td>2</td>\n",
       "      <td>2.123288</td>\n",
       "      <td>168898.0</td>\n",
       "      <td>-0.047383</td>\n",
       "      <td>1.0</td>\n",
       "      <td>22444.97</td>\n",
       "      <td>1.0</td>\n",
       "      <td>Office/Real Estate</td>\n",
       "      <td>Northwest</td>\n",
       "      <td>M</td>\n",
       "      <td>M</td>\n",
       "    </tr>\n",
       "    <tr>\n",
       "      <td>3</td>\n",
       "      <td>22.915068</td>\n",
       "      <td>52489.0</td>\n",
       "      <td>-0.231651</td>\n",
       "      <td>7.0</td>\n",
       "      <td>3181.58</td>\n",
       "      <td>1.0</td>\n",
       "      <td>Hotels/Lodging</td>\n",
       "      <td>Northwest</td>\n",
       "      <td>D</td>\n",
       "      <td>M</td>\n",
       "    </tr>\n",
       "    <tr>\n",
       "      <td>4</td>\n",
       "      <td>16.715068</td>\n",
       "      <td>61200.0</td>\n",
       "      <td>-0.055556</td>\n",
       "      <td>3.0</td>\n",
       "      <td>7348.08</td>\n",
       "      <td>1.0</td>\n",
       "      <td>Retail/Mercantile</td>\n",
       "      <td>Northwest</td>\n",
       "      <td>D</td>\n",
       "      <td>M</td>\n",
       "    </tr>\n",
       "  </tbody>\n",
       "</table>\n",
       "</div>"
      ],
      "text/plain": [
       "   Account_Age  electricity_monthly_usage     chgrt  SQFT_Code  \\\n",
       "0     6.846575                    12000.0  0.111111        6.0   \n",
       "1     1.210959                   167244.0 -0.078469        7.0   \n",
       "2     2.123288                   168898.0 -0.047383        1.0   \n",
       "3    22.915068                    52489.0 -0.231651        7.0   \n",
       "4    16.715068                    61200.0 -0.055556        3.0   \n",
       "\n",
       "   mothly_Payment  Credit_Rating                sgmt GPC_Region FL_EBILL  \\\n",
       "0         2200.56            1.0       Manufacturing  Southeast        N   \n",
       "1            0.00            1.0  Office/Real Estate  Northwest        M   \n",
       "2        22444.97            1.0  Office/Real Estate  Northwest        M   \n",
       "3         3181.58            1.0      Hotels/Lodging  Northwest        D   \n",
       "4         7348.08            1.0   Retail/Mercantile  Northwest        D   \n",
       "\n",
       "  CD_AD_TYPE  \n",
       "0          M  \n",
       "1          M  \n",
       "2          M  \n",
       "3          M  \n",
       "4          M  "
      ]
     },
     "execution_count": 42,
     "metadata": {},
     "output_type": "execute_result"
    }
   ],
   "source": [
    "X = Training_Data.iloc[:,:-1]\n",
    "X.head()"
   ]
  },
  {
   "cell_type": "code",
   "execution_count": 43,
   "metadata": {},
   "outputs": [],
   "source": [
    "from statsmodels.stats.outliers_influence import variance_inflation_factor \n",
    "def calc_vif(X): \n",
    "    # Calculating VIF \n",
    "    vif = pd.DataFrame()\n",
    "    vif[\"variables\"] = X.columns \n",
    "    vif[\"VIF\"] = [variance_inflation_factor(X.values, i) for i in range(X.shape[1])] \n",
    "    return(vif) "
   ]
  },
  {
   "cell_type": "code",
   "execution_count": 44,
   "metadata": {},
   "outputs": [
    {
     "data": {
      "text/html": [
       "<div>\n",
       "<style scoped>\n",
       "    .dataframe tbody tr th:only-of-type {\n",
       "        vertical-align: middle;\n",
       "    }\n",
       "\n",
       "    .dataframe tbody tr th {\n",
       "        vertical-align: top;\n",
       "    }\n",
       "\n",
       "    .dataframe thead th {\n",
       "        text-align: right;\n",
       "    }\n",
       "</style>\n",
       "<table border=\"1\" class=\"dataframe\">\n",
       "  <thead>\n",
       "    <tr style=\"text-align: right;\">\n",
       "      <th></th>\n",
       "      <th>variables</th>\n",
       "      <th>VIF</th>\n",
       "    </tr>\n",
       "  </thead>\n",
       "  <tbody>\n",
       "    <tr>\n",
       "      <td>0</td>\n",
       "      <td>Account_Age</td>\n",
       "      <td>1.751377</td>\n",
       "    </tr>\n",
       "    <tr>\n",
       "      <td>1</td>\n",
       "      <td>electricity_monthly_usage</td>\n",
       "      <td>2.577374</td>\n",
       "    </tr>\n",
       "    <tr>\n",
       "      <td>2</td>\n",
       "      <td>chgrt</td>\n",
       "      <td>1.000111</td>\n",
       "    </tr>\n",
       "    <tr>\n",
       "      <td>3</td>\n",
       "      <td>SQFT_Code</td>\n",
       "      <td>2.521835</td>\n",
       "    </tr>\n",
       "    <tr>\n",
       "      <td>4</td>\n",
       "      <td>mothly_Payment</td>\n",
       "      <td>2.701658</td>\n",
       "    </tr>\n",
       "    <tr>\n",
       "      <td>5</td>\n",
       "      <td>Credit_Rating</td>\n",
       "      <td>2.071392</td>\n",
       "    </tr>\n",
       "  </tbody>\n",
       "</table>\n",
       "</div>"
      ],
      "text/plain": [
       "                   variables       VIF\n",
       "0                Account_Age  1.751377\n",
       "1  electricity_monthly_usage  2.577374\n",
       "2                      chgrt  1.000111\n",
       "3                  SQFT_Code  2.521835\n",
       "4             mothly_Payment  2.701658\n",
       "5              Credit_Rating  2.071392"
      ]
     },
     "execution_count": 44,
     "metadata": {},
     "output_type": "execute_result"
    }
   ],
   "source": [
    "calc_vif(X.iloc[:,:6])"
   ]
  },
  {
   "cell_type": "code",
   "execution_count": 46,
   "metadata": {},
   "outputs": [
    {
     "data": {
      "text/plain": [
       "['sgmt', 'GPC_Region', 'FL_EBILL', 'CD_AD_TYPE']"
      ]
     },
     "execution_count": 46,
     "metadata": {},
     "output_type": "execute_result"
    }
   ],
   "source": [
    "cat_vars = list(X.columns[6:])\n",
    "cat_vars"
   ]
  },
  {
   "cell_type": "code",
   "execution_count": 47,
   "metadata": {
    "scrolled": true
   },
   "outputs": [],
   "source": [
    "for var in cat_vars:\n",
    "    cat_list='var'+'_'+var\n",
    "    cat_list = pd.get_dummies(X[var], prefix = var)\n",
    "    data1 = pd.concat([X, cat_list], axis = 1)\n",
    "    X = data1"
   ]
  },
  {
   "cell_type": "code",
   "execution_count": 91,
   "metadata": {
    "scrolled": true
   },
   "outputs": [
    {
     "data": {
      "text/html": [
       "<div>\n",
       "<style scoped>\n",
       "    .dataframe tbody tr th:only-of-type {\n",
       "        vertical-align: middle;\n",
       "    }\n",
       "\n",
       "    .dataframe tbody tr th {\n",
       "        vertical-align: top;\n",
       "    }\n",
       "\n",
       "    .dataframe thead th {\n",
       "        text-align: right;\n",
       "    }\n",
       "</style>\n",
       "<table border=\"1\" class=\"dataframe\">\n",
       "  <thead>\n",
       "    <tr style=\"text-align: right;\">\n",
       "      <th></th>\n",
       "      <th>Account_Age</th>\n",
       "      <th>electricity_monthly_usage</th>\n",
       "      <th>chgrt</th>\n",
       "      <th>SQFT_Code</th>\n",
       "      <th>mothly_Payment</th>\n",
       "      <th>Credit_Rating</th>\n",
       "      <th>sgmt</th>\n",
       "      <th>GPC_Region</th>\n",
       "      <th>FL_EBILL</th>\n",
       "      <th>CD_AD_TYPE</th>\n",
       "      <th>...</th>\n",
       "      <th>FL_EBILL_E</th>\n",
       "      <th>FL_EBILL_F</th>\n",
       "      <th>FL_EBILL_I</th>\n",
       "      <th>FL_EBILL_M</th>\n",
       "      <th>FL_EBILL_N</th>\n",
       "      <th>CD_AD_TYPE_C</th>\n",
       "      <th>CD_AD_TYPE_L</th>\n",
       "      <th>CD_AD_TYPE_M</th>\n",
       "      <th>CD_AD_TYPE_P</th>\n",
       "      <th>CD_AD_TYPE_Y</th>\n",
       "    </tr>\n",
       "  </thead>\n",
       "  <tbody>\n",
       "    <tr>\n",
       "      <td>0</td>\n",
       "      <td>6.846575</td>\n",
       "      <td>12000.0</td>\n",
       "      <td>0.111111</td>\n",
       "      <td>6.0</td>\n",
       "      <td>2200.56</td>\n",
       "      <td>1.0</td>\n",
       "      <td>Manufacturing</td>\n",
       "      <td>Southeast</td>\n",
       "      <td>N</td>\n",
       "      <td>M</td>\n",
       "      <td>...</td>\n",
       "      <td>0</td>\n",
       "      <td>0</td>\n",
       "      <td>0</td>\n",
       "      <td>0</td>\n",
       "      <td>1</td>\n",
       "      <td>0</td>\n",
       "      <td>0</td>\n",
       "      <td>1</td>\n",
       "      <td>0</td>\n",
       "      <td>0</td>\n",
       "    </tr>\n",
       "    <tr>\n",
       "      <td>1</td>\n",
       "      <td>1.210959</td>\n",
       "      <td>167244.0</td>\n",
       "      <td>-0.078469</td>\n",
       "      <td>7.0</td>\n",
       "      <td>0.00</td>\n",
       "      <td>1.0</td>\n",
       "      <td>Office/Real Estate</td>\n",
       "      <td>Northwest</td>\n",
       "      <td>M</td>\n",
       "      <td>M</td>\n",
       "      <td>...</td>\n",
       "      <td>0</td>\n",
       "      <td>0</td>\n",
       "      <td>0</td>\n",
       "      <td>1</td>\n",
       "      <td>0</td>\n",
       "      <td>0</td>\n",
       "      <td>0</td>\n",
       "      <td>1</td>\n",
       "      <td>0</td>\n",
       "      <td>0</td>\n",
       "    </tr>\n",
       "    <tr>\n",
       "      <td>2</td>\n",
       "      <td>2.123288</td>\n",
       "      <td>168898.0</td>\n",
       "      <td>-0.047383</td>\n",
       "      <td>1.0</td>\n",
       "      <td>22444.97</td>\n",
       "      <td>1.0</td>\n",
       "      <td>Office/Real Estate</td>\n",
       "      <td>Northwest</td>\n",
       "      <td>M</td>\n",
       "      <td>M</td>\n",
       "      <td>...</td>\n",
       "      <td>0</td>\n",
       "      <td>0</td>\n",
       "      <td>0</td>\n",
       "      <td>1</td>\n",
       "      <td>0</td>\n",
       "      <td>0</td>\n",
       "      <td>0</td>\n",
       "      <td>1</td>\n",
       "      <td>0</td>\n",
       "      <td>0</td>\n",
       "    </tr>\n",
       "    <tr>\n",
       "      <td>3</td>\n",
       "      <td>22.915068</td>\n",
       "      <td>52489.0</td>\n",
       "      <td>-0.231651</td>\n",
       "      <td>7.0</td>\n",
       "      <td>3181.58</td>\n",
       "      <td>1.0</td>\n",
       "      <td>Hotels/Lodging</td>\n",
       "      <td>Northwest</td>\n",
       "      <td>D</td>\n",
       "      <td>M</td>\n",
       "      <td>...</td>\n",
       "      <td>0</td>\n",
       "      <td>0</td>\n",
       "      <td>0</td>\n",
       "      <td>0</td>\n",
       "      <td>0</td>\n",
       "      <td>0</td>\n",
       "      <td>0</td>\n",
       "      <td>1</td>\n",
       "      <td>0</td>\n",
       "      <td>0</td>\n",
       "    </tr>\n",
       "    <tr>\n",
       "      <td>4</td>\n",
       "      <td>16.715068</td>\n",
       "      <td>61200.0</td>\n",
       "      <td>-0.055556</td>\n",
       "      <td>3.0</td>\n",
       "      <td>7348.08</td>\n",
       "      <td>1.0</td>\n",
       "      <td>Retail/Mercantile</td>\n",
       "      <td>Northwest</td>\n",
       "      <td>D</td>\n",
       "      <td>M</td>\n",
       "      <td>...</td>\n",
       "      <td>0</td>\n",
       "      <td>0</td>\n",
       "      <td>0</td>\n",
       "      <td>0</td>\n",
       "      <td>0</td>\n",
       "      <td>0</td>\n",
       "      <td>0</td>\n",
       "      <td>1</td>\n",
       "      <td>0</td>\n",
       "      <td>0</td>\n",
       "    </tr>\n",
       "  </tbody>\n",
       "</table>\n",
       "<p>5 rows × 48 columns</p>\n",
       "</div>"
      ],
      "text/plain": [
       "   Account_Age  electricity_monthly_usage     chgrt  SQFT_Code  \\\n",
       "0     6.846575                    12000.0  0.111111        6.0   \n",
       "1     1.210959                   167244.0 -0.078469        7.0   \n",
       "2     2.123288                   168898.0 -0.047383        1.0   \n",
       "3    22.915068                    52489.0 -0.231651        7.0   \n",
       "4    16.715068                    61200.0 -0.055556        3.0   \n",
       "\n",
       "   mothly_Payment  Credit_Rating                sgmt GPC_Region FL_EBILL  \\\n",
       "0         2200.56            1.0       Manufacturing  Southeast        N   \n",
       "1            0.00            1.0  Office/Real Estate  Northwest        M   \n",
       "2        22444.97            1.0  Office/Real Estate  Northwest        M   \n",
       "3         3181.58            1.0      Hotels/Lodging  Northwest        D   \n",
       "4         7348.08            1.0   Retail/Mercantile  Northwest        D   \n",
       "\n",
       "  CD_AD_TYPE  ...  FL_EBILL_E  FL_EBILL_F  FL_EBILL_I  FL_EBILL_M  FL_EBILL_N  \\\n",
       "0          M  ...           0           0           0           0           1   \n",
       "1          M  ...           0           0           0           1           0   \n",
       "2          M  ...           0           0           0           1           0   \n",
       "3          M  ...           0           0           0           0           0   \n",
       "4          M  ...           0           0           0           0           0   \n",
       "\n",
       "   CD_AD_TYPE_C  CD_AD_TYPE_L  CD_AD_TYPE_M  CD_AD_TYPE_P  CD_AD_TYPE_Y  \n",
       "0             0             0             1             0             0  \n",
       "1             0             0             1             0             0  \n",
       "2             0             0             1             0             0  \n",
       "3             0             0             1             0             0  \n",
       "4             0             0             1             0             0  \n",
       "\n",
       "[5 rows x 48 columns]"
      ]
     },
     "execution_count": 91,
     "metadata": {},
     "output_type": "execute_result"
    }
   ],
   "source": [
    "X.head()"
   ]
  },
  {
   "cell_type": "code",
   "execution_count": 92,
   "metadata": {},
   "outputs": [],
   "source": [
    "data_vars = X.columns.values.tolist()\n",
    "to_keep = [i for i in data_vars if i not in cat_vars]"
   ]
  },
  {
   "cell_type": "code",
   "execution_count": 93,
   "metadata": {},
   "outputs": [],
   "source": [
    "X_Train=X[to_keep]"
   ]
  },
  {
   "cell_type": "code",
   "execution_count": 94,
   "metadata": {},
   "outputs": [],
   "source": [
    "Train_Label = Training_Data['In_Arrears']"
   ]
  },
  {
   "cell_type": "code",
   "execution_count": 95,
   "metadata": {},
   "outputs": [],
   "source": [
    "X_train, X_test, y_train, y_test = train_test_split(X_Train, Train_Label, test_size=0.3, random_state=0)"
   ]
  },
  {
   "cell_type": "code",
   "execution_count": 96,
   "metadata": {
    "scrolled": true
   },
   "outputs": [
    {
     "name": "stdout",
     "output_type": "stream",
     "text": [
      "length of oversampled data is  810332\n",
      "Number of non-arrears in oversampled data 405166\n",
      "Number of arrears in oversampled data 405166\n",
      "Proportion of non-arrears data in oversampled data is  0.5\n",
      "Proportion of arrears data in oversampled data is  0.5\n"
     ]
    }
   ],
   "source": [
    "#SMOTE\n",
    "from imblearn.over_sampling import SMOTE\n",
    "os = SMOTE(random_state=0)\n",
    "columns = X_train.columns\n",
    "os_data_X,os_data_y=os.fit_sample(X_train, y_train)\n",
    "os_data_X = pd.DataFrame(data=os_data_X,columns=columns )\n",
    "os_data_y= pd.DataFrame(data=os_data_y,columns=['In_Arrears'])\n",
    "# we can Check the numbers of our data\n",
    "print(\"length of oversampled data is \",len(os_data_X))\n",
    "print(\"Number of non-arrears in oversampled data\",len(os_data_y[os_data_y['In_Arrears']==0]))\n",
    "print(\"Number of arrears in oversampled data\",len(os_data_y[os_data_y['In_Arrears']==1]))\n",
    "print(\"Proportion of non-arrears data in oversampled data is \",len(os_data_y[os_data_y['In_Arrears']==0])/len(os_data_X))\n",
    "print(\"Proportion of arrears data in oversampled data is \",len(os_data_y[os_data_y['In_Arrears']==1])/len(os_data_X))"
   ]
  },
  {
   "cell_type": "code",
   "execution_count": 97,
   "metadata": {
    "scrolled": false
   },
   "outputs": [
    {
     "name": "stdout",
     "output_type": "stream",
     "text": [
      "Warning: Maximum number of iterations has been exceeded.\n",
      "         Current function value: 0.317526\n",
      "         Iterations: 35\n",
      "                                       Results: Logit\n",
      "=============================================================================================\n",
      "Model:                       Logit                     Pseudo R-squared:          0.542      \n",
      "Dependent Variable:          In_Arrears                AIC:                       514691.3016\n",
      "Date:                        2020-06-22 12:23          BIC:                       515201.9304\n",
      "No. Observations:            810332                    Log-Likelihood:            -2.5730e+05\n",
      "Df Model:                    43                        LL-Null:                   -5.6168e+05\n",
      "Df Residuals:                810288                    LLR p-value:               0.0000     \n",
      "Converged:                   0.0000                    Scale:                     1.0000     \n",
      "No. Iterations:              35.0000                                                         \n",
      "---------------------------------------------------------------------------------------------\n",
      "                                Coef.     Std.Err.      z     P>|z|     [0.025       0.975]  \n",
      "---------------------------------------------------------------------------------------------\n",
      "Account_Age                      0.0124      0.0004   30.9900 0.0000       0.0116      0.0131\n",
      "electricity_monthly_usage        0.0000      0.0000   30.3319 0.0000       0.0000      0.0000\n",
      "chgrt                            0.0013      0.0006    2.0762 0.0379       0.0001      0.0025\n",
      "SQFT_Code                        0.3740      0.0021  176.1268 0.0000       0.3699      0.3782\n",
      "mothly_Payment                  -0.0002      0.0000  -45.8756 0.0000      -0.0002     -0.0002\n",
      "Credit_Rating                    1.2849      0.0038  339.9534 0.0000       1.2775      1.2923\n",
      "sgmt_Agriculture                -3.6182      0.0557  -64.9302 0.0000      -3.7274     -3.5090\n",
      "sgmt_Amusement                  -3.7830      0.0327 -115.5755 0.0000      -3.8471     -3.7188\n",
      "sgmt_Communications             -2.3171      0.0233  -99.6568 0.0000      -2.3626     -2.2715\n",
      "sgmt_Construction               -2.6398      0.0172 -153.6560 0.0000      -2.6735     -2.6061\n",
      "sgmt_Convenience Stores         -4.0189      0.0741  -54.2712 0.0000      -4.1641     -3.8738\n",
      "sgmt_Data Center & Web Service  -4.0991      0.2350  -17.4411 0.0000      -4.5597     -3.6384\n",
      "sgmt_Education                  -4.5607      0.0437 -104.2945 0.0000      -4.6464     -4.4750\n",
      "sgmt_Government                 -5.5871      0.0425 -131.3452 0.0000      -5.6705     -5.5037\n",
      "sgmt_Grocery                    -3.4255      0.0441  -77.7405 0.0000      -3.5119     -3.3392\n",
      "sgmt_Healthcare                 -4.1949      0.0325 -129.0138 0.0000      -4.2586     -4.1312\n",
      "sgmt_Hotels/Lodging             -2.9379      0.0413  -71.1849 0.0000      -3.0188     -2.8570\n",
      "sgmt_Manufacturing              -3.7974      0.0217 -175.3433 0.0000      -3.8399     -3.7550\n",
      "sgmt_Office/Real Estate         -2.6491      0.0123 -216.0499 0.0000      -2.6731     -2.6251\n",
      "sgmt_Other                      -3.5365      0.0228 -155.2498 0.0000      -3.5812     -3.4919\n",
      "sgmt_Restaurants                -2.3175      0.0179 -129.1459 0.0000      -2.3526     -2.2823\n",
      "sgmt_Retail/Mercantile          -3.0419      0.0162 -188.2910 0.0000      -3.0736     -3.0103\n",
      "sgmt_Services                   -2.5930      0.0163 -159.0828 0.0000      -2.6250     -2.5611\n",
      "sgmt_Transportation             -3.8740      0.0411  -94.3252 0.0000      -3.9545     -3.7935\n",
      "sgmt_Utility                    -4.4515      0.0525  -84.7522 0.0000      -4.5544     -4.3485\n",
      "sgmt_Warehouses                 -4.0047      0.0457  -87.5500 0.0000      -4.0943     -3.9150\n",
      "sgmt_Wholesale                  -4.3807      0.0395 -110.7905 0.0000      -4.4582     -4.3032\n",
      "sgmt_Worship                    -3.7217      0.0261 -142.7281 0.0000      -3.7728     -3.6706\n",
      "GPC_Region_Missing               1.2866      0.0277   46.3788 0.0000       1.2322      1.3409\n",
      "GPC_Region_Northeast            -1.1965      0.0151  -79.1115 0.0000      -1.2262     -1.1669\n",
      "GPC_Region_Northwest            -0.7395      0.0110  -66.9813 0.0000      -0.7612     -0.7179\n",
      "GPC_Region_Southeast            -1.1877      0.0155  -76.6081 0.0000      -1.2181     -1.1573\n",
      "GPC_Region_Southwest            -0.9115      0.0147  -61.8989 0.0000      -0.9404     -0.8827\n",
      "FL_EBILL_D                      -3.0554      0.0404  -75.6759 0.0000      -3.1346     -2.9763\n",
      "FL_EBILL_E                      -0.0067      0.0126   -0.5344 0.5931      -0.0314      0.0179\n",
      "FL_EBILL_F                     -25.0136 134470.3133   -0.0002 0.9999 -263581.9846 263531.9574\n",
      "FL_EBILL_I                     -14.2474    353.6099   -0.0403 0.9679    -707.3101    678.8152\n",
      "FL_EBILL_M                      -0.6884      0.0165  -41.8461 0.0000      -0.7206     -0.6561\n",
      "FL_EBILL_N                       0.1398      0.0119   11.7204 0.0000       0.1164      0.1632\n",
      "CD_AD_TYPE_C                    -0.4464      0.0144  -31.0035 0.0000      -0.4746     -0.4181\n",
      "CD_AD_TYPE_L                    -1.1403      0.0870  -13.1131 0.0000      -1.3107     -0.9699\n",
      "CD_AD_TYPE_M                    -0.5030      0.0116  -43.1764 0.0000      -0.5258     -0.4801\n",
      "CD_AD_TYPE_P                    -0.3553      0.0130  -27.3375 0.0000      -0.3808     -0.3299\n",
      "CD_AD_TYPE_Y                    -1.8160      0.1690  -10.7422 0.0000      -2.1473     -1.4846\n",
      "=============================================================================================\n",
      "\n"
     ]
    }
   ],
   "source": [
    "import statsmodels.api as sm\n",
    "logit_model=sm.Logit(os_data_y,os_data_X)\n",
    "result=logit_model.fit()\n",
    "print(result.summary2())"
   ]
  },
  {
   "cell_type": "code",
   "execution_count": 98,
   "metadata": {},
   "outputs": [
    {
     "name": "stdout",
     "output_type": "stream",
     "text": [
      "Optimization terminated successfully.\n",
      "         Current function value: 0.318238\n",
      "         Iterations 8\n",
      "                                 Results: Logit\n",
      "================================================================================\n",
      "Model:                    Logit                Pseudo R-squared:     0.541      \n",
      "Dependent Variable:       In_Arrears           AIC:                  515837.5466\n",
      "Date:                     2020-06-22 12:23     BIC:                  516301.7546\n",
      "No. Observations:         810332               Log-Likelihood:       -2.5788e+05\n",
      "Df Model:                 39                   LL-Null:              -5.6168e+05\n",
      "Df Residuals:             810292               LLR p-value:          0.0000     \n",
      "Converged:                1.0000               Scale:                1.0000     \n",
      "No. Iterations:           8.0000                                                \n",
      "--------------------------------------------------------------------------------\n",
      "                                Coef.  Std.Err.     z     P>|z|   [0.025  0.975]\n",
      "--------------------------------------------------------------------------------\n",
      "Account_Age                     0.0122   0.0004   30.5743 0.0000  0.0114  0.0130\n",
      "chgrt                           0.0013   0.0006    2.1854 0.0289  0.0001  0.0025\n",
      "SQFT_Code                       0.3758   0.0021  178.6137 0.0000  0.3717  0.3800\n",
      "mothly_Payment                 -0.0001   0.0000  -37.0889 0.0000 -0.0001 -0.0001\n",
      "Credit_Rating                   1.2841   0.0037  342.6912 0.0000  1.2767  1.2914\n",
      "sgmt_Agriculture               -3.6068   0.0556  -64.9218 0.0000 -3.7157 -3.4979\n",
      "sgmt_Amusement                 -3.7937   0.0326 -116.3660 0.0000 -3.8576 -3.7298\n",
      "sgmt_Communications            -2.3261   0.0231 -100.7078 0.0000 -2.3714 -2.2808\n",
      "sgmt_Construction              -2.6460   0.0169 -156.2363 0.0000 -2.6792 -2.6128\n",
      "sgmt_Convenience Stores        -4.0175   0.0739  -54.3563 0.0000 -4.1623 -3.8726\n",
      "sgmt_Data Center & Web Service -3.9037   0.2295  -17.0059 0.0000 -4.3536 -3.4538\n",
      "sgmt_Education                 -4.5709   0.0436 -104.8405 0.0000 -4.6564 -4.4855\n",
      "sgmt_Government                -5.5921   0.0424 -131.7652 0.0000 -5.6753 -5.5089\n",
      "sgmt_Grocery                   -3.3784   0.0440  -76.7737 0.0000 -3.4646 -3.2921\n",
      "sgmt_Healthcare                -4.1967   0.0323 -129.7751 0.0000 -4.2601 -4.1333\n",
      "sgmt_Hotels/Lodging            -2.8962   0.0407  -71.1379 0.0000 -2.9760 -2.8164\n",
      "sgmt_Manufacturing             -3.7953   0.0215 -176.8033 0.0000 -3.8374 -3.7533\n",
      "sgmt_Office/Real Estate        -2.6586   0.0120 -222.3264 0.0000 -2.6821 -2.6352\n",
      "sgmt_Other                     -3.5473   0.0226 -156.8076 0.0000 -3.5917 -3.5030\n",
      "sgmt_Restaurants               -2.3113   0.0177 -130.2232 0.0000 -2.3461 -2.2765\n",
      "sgmt_Retail/Mercantile         -3.0466   0.0160 -190.9043 0.0000 -3.0779 -3.0153\n",
      "sgmt_Services                  -2.5984   0.0161 -161.1129 0.0000 -2.6300 -2.5668\n",
      "sgmt_Transportation            -3.8850   0.0410  -94.8042 0.0000 -3.9654 -3.8047\n",
      "sgmt_Utility                   -4.4478   0.0524  -84.8755 0.0000 -4.5505 -4.3451\n",
      "sgmt_Warehouses                -4.0097   0.0456  -87.8803 0.0000 -4.0991 -3.9203\n",
      "sgmt_Wholesale                 -4.3865   0.0394 -111.2562 0.0000 -4.4638 -4.3092\n",
      "sgmt_Worship                   -3.7334   0.0259 -143.9629 0.0000 -3.7842 -3.6825\n",
      "GPC_Region_Missing              1.2785   0.0276   46.3453 0.0000  1.2244  1.3325\n",
      "GPC_Region_Northeast           -1.2031   0.0149  -80.8243 0.0000 -1.2323 -1.1740\n",
      "GPC_Region_Northwest           -0.7455   0.0107  -69.5793 0.0000 -0.7665 -0.7245\n",
      "GPC_Region_Southeast           -1.1944   0.0153  -78.2488 0.0000 -1.2243 -1.1645\n",
      "GPC_Region_Southwest           -0.9184   0.0145  -63.4191 0.0000 -0.9468 -0.8900\n",
      "FL_EBILL_D                     -2.9998   0.0388  -77.2208 0.0000 -3.0759 -2.9237\n",
      "FL_EBILL_M                     -0.6758   0.0139  -48.7404 0.0000 -0.7030 -0.6486\n",
      "FL_EBILL_N                      0.1410   0.0083   16.9506 0.0000  0.1247  0.1573\n",
      "CD_AD_TYPE_C                   -0.4485   0.0141  -31.7302 0.0000 -0.4762 -0.4208\n",
      "CD_AD_TYPE_L                   -1.1381   0.0870  -13.0865 0.0000 -1.3085 -0.9676\n",
      "CD_AD_TYPE_M                   -0.5015   0.0113  -44.3521 0.0000 -0.5236 -0.4793\n",
      "CD_AD_TYPE_P                   -0.3588   0.0125  -28.7677 0.0000 -0.3832 -0.3343\n",
      "CD_AD_TYPE_Y                   -1.8226   0.1693  -10.7666 0.0000 -2.1543 -1.4908\n",
      "================================================================================\n",
      "\n"
     ]
    }
   ],
   "source": [
    "cols_drop = ['FL_EBILL_E', 'FL_EBILL_F', 'FL_EBILL_I', 'electricity_monthly_usage']\n",
    "os_X = os_data_X.drop(columns=cols_drop)\n",
    "logit_model2=sm.Logit(os_data_y, os_X)\n",
    "result2=logit_model2.fit()\n",
    "print(result2.summary2())"
   ]
  },
  {
   "cell_type": "code",
   "execution_count": 99,
   "metadata": {},
   "outputs": [],
   "source": [
    "feature_name = os_X.columns.values.tolist()"
   ]
  },
  {
   "cell_type": "code",
   "execution_count": 100,
   "metadata": {
    "scrolled": true
   },
   "outputs": [
    {
     "data": {
      "text/plain": [
       "LogisticRegression(C=15)"
      ]
     },
     "execution_count": 100,
     "metadata": {},
     "output_type": "execute_result"
    }
   ],
   "source": [
    "from sklearn.linear_model import LogisticRegression\n",
    "from sklearn import metrics\n",
    "logreg = LogisticRegression(C = 15)\n",
    "logreg.fit(os_X, os_data_y)"
   ]
  },
  {
   "cell_type": "code",
   "execution_count": 101,
   "metadata": {
    "scrolled": true
   },
   "outputs": [
    {
     "name": "stdout",
     "output_type": "stream",
     "text": [
      "Accuracy of logistic regression classifier on test set: 0.88\n"
     ]
    }
   ],
   "source": [
    "X_testd = X_test.drop(columns=cols_drop)\n",
    "y_test_pred = logreg.predict(X_testd)\n",
    "y_train_pred = logreg.predict(os_X)\n",
    "print('Accuracy of logistic regression classifier on test set: {:.2f}'.format(logreg.score(X_testd, y_test)))"
   ]
  },
  {
   "cell_type": "code",
   "execution_count": 102,
   "metadata": {},
   "outputs": [
    {
     "name": "stdout",
     "output_type": "stream",
     "text": [
      "[[161337  12240]\n",
      " [ 11350   8491]]\n"
     ]
    }
   ],
   "source": [
    "from sklearn.metrics import confusion_matrix\n",
    "confusion_matrix = confusion_matrix(y_test, y_test_pred)\n",
    "print(confusion_matrix)"
   ]
  },
  {
   "cell_type": "markdown",
   "metadata": {},
   "source": [
    "Recall: Recall gives us an idea about when it's actually yes, how often does it predict yes.\\\n",
    "Precision: Precision tells us about when it predicts yes, how often it is correct.\\\n",
    "F-measure: (2*Recall*Precision)/(Recall+Precision).\\\n",
    "High recall, low precision: This means that most of the positive examples are correctly recognized (Low FN) but there are a lot of false positive.\\\n",
    "Low recall, high precision: This shows that we miss a lof of positive examples(high FN) but those we predict positive are indeed positive (low FP).\\\n",
    "F-measure: Since we have two measures (Precision and Recall) it helps to have a measurement that represents both of them. We calculate an F-measure which uses Harmonic Mean in place of Arithmetic Mean as it punishes the extreme values more. The F-Measure will always be nearer to the smaller value of Precision or Recall."
   ]
  },
  {
   "cell_type": "code",
   "execution_count": 103,
   "metadata": {
    "scrolled": true
   },
   "outputs": [
    {
     "name": "stdout",
     "output_type": "stream",
     "text": [
      "              precision    recall  f1-score   support\n",
      "\n",
      "           0       0.93      0.93      0.93    173577\n",
      "           1       0.41      0.43      0.42     19841\n",
      "\n",
      "    accuracy                           0.88    193418\n",
      "   macro avg       0.67      0.68      0.68    193418\n",
      "weighted avg       0.88      0.88      0.88    193418\n",
      "\n"
     ]
    }
   ],
   "source": [
    "from sklearn.metrics import classification_report\n",
    "print(classification_report(y_test, y_test_pred))"
   ]
  },
  {
   "cell_type": "markdown",
   "metadata": {},
   "source": [
    "ROC is a probability curve and AUC represents degree or measure of separability. It tells how much model is capable of distinguishing between classes. Higher the AUC, better the model is at predicting 0s AS 0s and 1s as 1s."
   ]
  },
  {
   "cell_type": "code",
   "execution_count": 104,
   "metadata": {
    "scrolled": true
   },
   "outputs": [
    {
     "data": {
      "image/png": "[encoded data removed]",
      "text/plain": [
       "<Figure size 432x288 with 1 Axes>"
      ]
     },
     "metadata": {
      "needs_background": "light"
     },
     "output_type": "display_data"
    }
   ],
   "source": [
    "from sklearn.metrics import roc_auc_score\n",
    "from sklearn.metrics import roc_curve\n",
    "logit_roc_auc = roc_auc_score(y_test, logreg.predict(X_testd))\n",
    "fpr, tpr, thresholds = roc_curve(y_test, logreg.predict_proba(X_testd)[:,1])\n",
    "plt.figure()\n",
    "plt.plot(fpr, tpr, label='Logistic Regression (area = %0.2f)' % logit_roc_auc)\n",
    "plt.plot([0, 1], [0, 1],'r--')\n",
    "plt.xlim([0.0, 1.0])\n",
    "plt.ylim([0.0, 1.05])\n",
    "plt.xlabel('False Positive Rate')\n",
    "plt.ylabel('True Positive Rate')\n",
    "plt.title('Receiver operating characteristic')\n",
    "plt.legend(loc=\"lower right\")\n",
    "plt.savefig('Log_ROC')\n",
    "plt.show()"
   ]
  },
  {
   "cell_type": "code",
   "execution_count": 105,
   "metadata": {},
   "outputs": [],
   "source": [
    "coefs = np.reshape(np.round(logreg.coef_,5),(-1,1))"
   ]
  },
  {
   "cell_type": "code",
   "execution_count": 106,
   "metadata": {},
   "outputs": [
    {
     "data": {
      "text/html": [
       "<div>\n",
       "<style scoped>\n",
       "    .dataframe tbody tr th:only-of-type {\n",
       "        vertical-align: middle;\n",
       "    }\n",
       "\n",
       "    .dataframe tbody tr th {\n",
       "        vertical-align: top;\n",
       "    }\n",
       "\n",
       "    .dataframe thead th {\n",
       "        text-align: right;\n",
       "    }\n",
       "</style>\n",
       "<table border=\"1\" class=\"dataframe\">\n",
       "  <thead>\n",
       "    <tr style=\"text-align: right;\">\n",
       "      <th></th>\n",
       "      <th>feature_name</th>\n",
       "      <th>coef</th>\n",
       "    </tr>\n",
       "  </thead>\n",
       "  <tbody>\n",
       "    <tr>\n",
       "      <td>0</td>\n",
       "      <td>Account_Age</td>\n",
       "      <td>-0.01756</td>\n",
       "    </tr>\n",
       "    <tr>\n",
       "      <td>1</td>\n",
       "      <td>chgrt</td>\n",
       "      <td>-0.41018</td>\n",
       "    </tr>\n",
       "    <tr>\n",
       "      <td>2</td>\n",
       "      <td>SQFT_Code</td>\n",
       "      <td>0.19912</td>\n",
       "    </tr>\n",
       "    <tr>\n",
       "      <td>3</td>\n",
       "      <td>mothly_Payment</td>\n",
       "      <td>-0.00021</td>\n",
       "    </tr>\n",
       "    <tr>\n",
       "      <td>4</td>\n",
       "      <td>Credit_Rating</td>\n",
       "      <td>1.21786</td>\n",
       "    </tr>\n",
       "    <tr>\n",
       "      <td>5</td>\n",
       "      <td>sgmt_Agriculture</td>\n",
       "      <td>-0.09005</td>\n",
       "    </tr>\n",
       "    <tr>\n",
       "      <td>6</td>\n",
       "      <td>sgmt_Amusement</td>\n",
       "      <td>-0.17814</td>\n",
       "    </tr>\n",
       "    <tr>\n",
       "      <td>7</td>\n",
       "      <td>sgmt_Communications</td>\n",
       "      <td>-0.44001</td>\n",
       "    </tr>\n",
       "    <tr>\n",
       "      <td>8</td>\n",
       "      <td>sgmt_Construction</td>\n",
       "      <td>-0.39937</td>\n",
       "    </tr>\n",
       "    <tr>\n",
       "      <td>9</td>\n",
       "      <td>sgmt_Convenience Stores</td>\n",
       "      <td>-0.06037</td>\n",
       "    </tr>\n",
       "    <tr>\n",
       "      <td>10</td>\n",
       "      <td>sgmt_Data Center &amp; Web Service</td>\n",
       "      <td>-0.00538</td>\n",
       "    </tr>\n",
       "    <tr>\n",
       "      <td>11</td>\n",
       "      <td>sgmt_Education</td>\n",
       "      <td>-0.14191</td>\n",
       "    </tr>\n",
       "    <tr>\n",
       "      <td>12</td>\n",
       "      <td>sgmt_Government</td>\n",
       "      <td>-0.39552</td>\n",
       "    </tr>\n",
       "    <tr>\n",
       "      <td>13</td>\n",
       "      <td>sgmt_Grocery</td>\n",
       "      <td>-0.09010</td>\n",
       "    </tr>\n",
       "    <tr>\n",
       "      <td>14</td>\n",
       "      <td>sgmt_Healthcare</td>\n",
       "      <td>-0.33160</td>\n",
       "    </tr>\n",
       "    <tr>\n",
       "      <td>15</td>\n",
       "      <td>sgmt_Hotels/Lodging</td>\n",
       "      <td>-0.05744</td>\n",
       "    </tr>\n",
       "    <tr>\n",
       "      <td>16</td>\n",
       "      <td>sgmt_Manufacturing</td>\n",
       "      <td>-0.54169</td>\n",
       "    </tr>\n",
       "    <tr>\n",
       "      <td>17</td>\n",
       "      <td>sgmt_Office/Real Estate</td>\n",
       "      <td>-0.75457</td>\n",
       "    </tr>\n",
       "    <tr>\n",
       "      <td>18</td>\n",
       "      <td>sgmt_Other</td>\n",
       "      <td>-0.51459</td>\n",
       "    </tr>\n",
       "    <tr>\n",
       "      <td>19</td>\n",
       "      <td>sgmt_Restaurants</td>\n",
       "      <td>-0.18808</td>\n",
       "    </tr>\n",
       "    <tr>\n",
       "      <td>20</td>\n",
       "      <td>sgmt_Retail/Mercantile</td>\n",
       "      <td>-0.66091</td>\n",
       "    </tr>\n",
       "    <tr>\n",
       "      <td>21</td>\n",
       "      <td>sgmt_Services</td>\n",
       "      <td>-0.39212</td>\n",
       "    </tr>\n",
       "    <tr>\n",
       "      <td>22</td>\n",
       "      <td>sgmt_Transportation</td>\n",
       "      <td>-0.10106</td>\n",
       "    </tr>\n",
       "    <tr>\n",
       "      <td>23</td>\n",
       "      <td>sgmt_Utility</td>\n",
       "      <td>-0.14090</td>\n",
       "    </tr>\n",
       "    <tr>\n",
       "      <td>24</td>\n",
       "      <td>sgmt_Warehouses</td>\n",
       "      <td>-0.14954</td>\n",
       "    </tr>\n",
       "    <tr>\n",
       "      <td>25</td>\n",
       "      <td>sgmt_Wholesale</td>\n",
       "      <td>-0.21143</td>\n",
       "    </tr>\n",
       "    <tr>\n",
       "      <td>26</td>\n",
       "      <td>sgmt_Worship</td>\n",
       "      <td>-0.34726</td>\n",
       "    </tr>\n",
       "    <tr>\n",
       "      <td>27</td>\n",
       "      <td>GPC_Region_Missing</td>\n",
       "      <td>-0.13673</td>\n",
       "    </tr>\n",
       "    <tr>\n",
       "      <td>28</td>\n",
       "      <td>GPC_Region_Northeast</td>\n",
       "      <td>-1.06263</td>\n",
       "    </tr>\n",
       "    <tr>\n",
       "      <td>29</td>\n",
       "      <td>GPC_Region_Northwest</td>\n",
       "      <td>-0.99274</td>\n",
       "    </tr>\n",
       "    <tr>\n",
       "      <td>30</td>\n",
       "      <td>GPC_Region_Southeast</td>\n",
       "      <td>-0.97386</td>\n",
       "    </tr>\n",
       "    <tr>\n",
       "      <td>31</td>\n",
       "      <td>GPC_Region_Southwest</td>\n",
       "      <td>-0.91461</td>\n",
       "    </tr>\n",
       "    <tr>\n",
       "      <td>32</td>\n",
       "      <td>FL_EBILL_D</td>\n",
       "      <td>-0.88714</td>\n",
       "    </tr>\n",
       "    <tr>\n",
       "      <td>33</td>\n",
       "      <td>FL_EBILL_M</td>\n",
       "      <td>-0.62500</td>\n",
       "    </tr>\n",
       "    <tr>\n",
       "      <td>34</td>\n",
       "      <td>FL_EBILL_N</td>\n",
       "      <td>-0.53528</td>\n",
       "    </tr>\n",
       "    <tr>\n",
       "      <td>35</td>\n",
       "      <td>CD_AD_TYPE_C</td>\n",
       "      <td>-1.24076</td>\n",
       "    </tr>\n",
       "    <tr>\n",
       "      <td>36</td>\n",
       "      <td>CD_AD_TYPE_L</td>\n",
       "      <td>-0.03738</td>\n",
       "    </tr>\n",
       "    <tr>\n",
       "      <td>37</td>\n",
       "      <td>CD_AD_TYPE_M</td>\n",
       "      <td>-1.27019</td>\n",
       "    </tr>\n",
       "    <tr>\n",
       "      <td>38</td>\n",
       "      <td>CD_AD_TYPE_P</td>\n",
       "      <td>-0.99397</td>\n",
       "    </tr>\n",
       "    <tr>\n",
       "      <td>39</td>\n",
       "      <td>CD_AD_TYPE_Y</td>\n",
       "      <td>-0.01443</td>\n",
       "    </tr>\n",
       "  </tbody>\n",
       "</table>\n",
       "</div>"
      ],
      "text/plain": [
       "                      feature_name     coef\n",
       "0                      Account_Age -0.01756\n",
       "1                            chgrt -0.41018\n",
       "2                        SQFT_Code  0.19912\n",
       "3                   mothly_Payment -0.00021\n",
       "4                    Credit_Rating  1.21786\n",
       "5                 sgmt_Agriculture -0.09005\n",
       "6                   sgmt_Amusement -0.17814\n",
       "7              sgmt_Communications -0.44001\n",
       "8                sgmt_Construction -0.39937\n",
       "9          sgmt_Convenience Stores -0.06037\n",
       "10  sgmt_Data Center & Web Service -0.00538\n",
       "11                  sgmt_Education -0.14191\n",
       "12                 sgmt_Government -0.39552\n",
       "13                    sgmt_Grocery -0.09010\n",
       "14                 sgmt_Healthcare -0.33160\n",
       "15             sgmt_Hotels/Lodging -0.05744\n",
       "16              sgmt_Manufacturing -0.54169\n",
       "17         sgmt_Office/Real Estate -0.75457\n",
       "18                      sgmt_Other -0.51459\n",
       "19                sgmt_Restaurants -0.18808\n",
       "20          sgmt_Retail/Mercantile -0.66091\n",
       "21                   sgmt_Services -0.39212\n",
       "22             sgmt_Transportation -0.10106\n",
       "23                    sgmt_Utility -0.14090\n",
       "24                 sgmt_Warehouses -0.14954\n",
       "25                  sgmt_Wholesale -0.21143\n",
       "26                    sgmt_Worship -0.34726\n",
       "27              GPC_Region_Missing -0.13673\n",
       "28            GPC_Region_Northeast -1.06263\n",
       "29            GPC_Region_Northwest -0.99274\n",
       "30            GPC_Region_Southeast -0.97386\n",
       "31            GPC_Region_Southwest -0.91461\n",
       "32                      FL_EBILL_D -0.88714\n",
       "33                      FL_EBILL_M -0.62500\n",
       "34                      FL_EBILL_N -0.53528\n",
       "35                    CD_AD_TYPE_C -1.24076\n",
       "36                    CD_AD_TYPE_L -0.03738\n",
       "37                    CD_AD_TYPE_M -1.27019\n",
       "38                    CD_AD_TYPE_P -0.99397\n",
       "39                    CD_AD_TYPE_Y -0.01443"
      ]
     },
     "execution_count": 106,
     "metadata": {},
     "output_type": "execute_result"
    }
   ],
   "source": [
    "coef = pd.DataFrame()\n",
    "coef['feature_name'] = feature_name\n",
    "coef['coef'] = coefs\n",
    "coef"
   ]
  },
  {
   "cell_type": "code",
   "execution_count": 107,
   "metadata": {},
   "outputs": [
    {
     "data": {
      "text/plain": [
       "array([0.12751929])"
      ]
     },
     "execution_count": 107,
     "metadata": {},
     "output_type": "execute_result"
    }
   ],
   "source": [
    "logreg.intercept_"
   ]
  },
  {
   "cell_type": "code",
   "execution_count": 108,
   "metadata": {},
   "outputs": [
    {
     "data": {
      "text/plain": [
       "RandomForestClassifier(class_weight='balanced', n_jobs=-1, random_state=42)"
      ]
     },
     "execution_count": 108,
     "metadata": {},
     "output_type": "execute_result"
    }
   ],
   "source": [
    "# Import the model we are using\n",
    "from sklearn.ensemble import RandomForestClassifier\n",
    "rf = RandomForestClassifier(n_estimators = 100, n_jobs=-1, random_state=42, class_weight = 'balanced')# Train the model on training data\n",
    "rf.fit(X_train, y_train)"
   ]
  },
  {
   "cell_type": "code",
   "execution_count": 109,
   "metadata": {},
   "outputs": [
    {
     "name": "stdout",
     "output_type": "stream",
     "text": [
      "Accuracy of Random Forest classifier on test set: 0.92\n"
     ]
    }
   ],
   "source": [
    "y_pred = rf.predict(X_test)\n",
    "print('Accuracy of Random Forest classifier on test set: {:.2f}'.format(rf.score(X_test, y_test)))"
   ]
  },
  {
   "cell_type": "code",
   "execution_count": 110,
   "metadata": {},
   "outputs": [
    {
     "name": "stdout",
     "output_type": "stream",
     "text": [
      "[[169978   3599]\n",
      " [ 11667   8174]]\n"
     ]
    }
   ],
   "source": [
    "from sklearn.metrics import confusion_matrix\n",
    "confusion_matrix = confusion_matrix(y_test, y_pred)\n",
    "print(confusion_matrix)"
   ]
  },
  {
   "cell_type": "code",
   "execution_count": 111,
   "metadata": {
    "scrolled": false
   },
   "outputs": [
    {
     "name": "stdout",
     "output_type": "stream",
     "text": [
      "              precision    recall  f1-score   support\n",
      "\n",
      "           0       0.94      0.98      0.96    173577\n",
      "           1       0.69      0.41      0.52     19841\n",
      "\n",
      "    accuracy                           0.92    193418\n",
      "   macro avg       0.82      0.70      0.74    193418\n",
      "weighted avg       0.91      0.92      0.91    193418\n",
      "\n"
     ]
    }
   ],
   "source": [
    "from sklearn.metrics import classification_report\n",
    "print(classification_report(y_test, y_pred))"
   ]
  },
  {
   "cell_type": "markdown",
   "metadata": {},
   "source": [
    "Tree-specific feature importance measure and computes the average reduction in impurity across all trees in the forest due to each feature. That is, features that tend to split nodes closer to the root of a tree will result in a larger imporance value. When we plot the feature importance of all features below, we see that the most important feature accoring to the algorithm is monthly payment. (Monthly payment is the top feature contributing to the predictions of the model.) Node splits based on this feature on average result in a larger decrease of node impurity."
   ]
  },
  {
   "cell_type": "code",
   "execution_count": 112,
   "metadata": {
    "scrolled": true
   },
   "outputs": [
    {
     "data": {
      "image/png": "[encoded data removed]",
      "text/plain": [
       "<Figure size 800x1200 with 1 Axes>"
      ]
     },
     "metadata": {},
     "output_type": "display_data"
    }
   ],
   "source": [
    "features = X_train.columns\n",
    "importances = rf.feature_importances_\n",
    "indices = np.argsort(importances)\n",
    "from matplotlib.pyplot import figure\n",
    "figure(num=None, figsize=(10, 15), dpi=80, facecolor='w', edgecolor='k')\n",
    "plt.title('Feature Importances')\n",
    "plt.barh(range(len(indices)), importances[indices], color='b', align='center')\n",
    "plt.yticks(range(len(indices)), [features[i] for i in indices])\n",
    "plt.xlabel('Relative Importance')\n",
    "plt.show()"
   ]
  },
  {
   "cell_type": "code",
   "execution_count": 113,
   "metadata": {},
   "outputs": [
    {
     "data": {
      "text/plain": [
       "RandomForestClassifier(n_jobs=-1, random_state=42)"
      ]
     },
     "execution_count": 113,
     "metadata": {},
     "output_type": "execute_result"
    }
   ],
   "source": [
    "rf = RandomForestClassifier(n_estimators = 100, n_jobs=-1, random_state=42)# Train the model on training data\n",
    "rf.fit(os_data_X, os_data_y)"
   ]
  },
  {
   "cell_type": "code",
   "execution_count": 114,
   "metadata": {},
   "outputs": [
    {
     "name": "stdout",
     "output_type": "stream",
     "text": [
      "Accuracy of Random Forest classifier on test set: 0.92\n"
     ]
    }
   ],
   "source": [
    "y_pred = rf.predict(X_test)\n",
    "print('Accuracy of Random Forest classifier on test set: {:.2f}'.format(rf.score(X_test, y_test)))"
   ]
  },
  {
   "cell_type": "code",
   "execution_count": 115,
   "metadata": {},
   "outputs": [
    {
     "name": "stdout",
     "output_type": "stream",
     "text": [
      "[[168434   5143]\n",
      " [ 10635   9206]]\n"
     ]
    }
   ],
   "source": [
    "from sklearn.metrics import confusion_matrix\n",
    "confusion_matrix = confusion_matrix(y_test, y_pred)\n",
    "print(confusion_matrix)"
   ]
  },
  {
   "cell_type": "code",
   "execution_count": 116,
   "metadata": {},
   "outputs": [
    {
     "name": "stdout",
     "output_type": "stream",
     "text": [
      "              precision    recall  f1-score   support\n",
      "\n",
      "           0       0.94      0.97      0.96    173577\n",
      "           1       0.64      0.46      0.54     19841\n",
      "\n",
      "    accuracy                           0.92    193418\n",
      "   macro avg       0.79      0.72      0.75    193418\n",
      "weighted avg       0.91      0.92      0.91    193418\n",
      "\n"
     ]
    }
   ],
   "source": [
    "y_pred = rf.predict(X_test)\n",
    "print(classification_report(y_test, y_pred))"
   ]
  },
  {
   "cell_type": "code",
   "execution_count": 117,
   "metadata": {},
   "outputs": [
    {
     "data": {
      "image/png": "[encoded data removed]",
      "text/plain": [
       "<Figure size 432x288 with 1 Axes>"
      ]
     },
     "metadata": {
      "needs_background": "light"
     },
     "output_type": "display_data"
    }
   ],
   "source": [
    "rf_roc_auc = roc_auc_score(y_test, rf.predict(X_test))\n",
    "fpr, tpr, thresholds = roc_curve(y_test, rf.predict_proba(X_test)[:,1])\n",
    "plt.figure()\n",
    "plt.plot(fpr, tpr, label='Random Forest (area = %0.2f)' % rf_roc_auc)\n",
    "plt.plot([0, 1], [0, 1],'r--')\n",
    "plt.xlim([0.0, 1.0])\n",
    "plt.ylim([0.0, 1.05])\n",
    "plt.xlabel('False Positive Rate')\n",
    "plt.ylabel('True Positive Rate')\n",
    "plt.title('Receiver operating characteristic')\n",
    "plt.legend(loc=\"lower right\")\n",
    "plt.savefig('RF_ROC')\n",
    "plt.show()"
   ]
  },
  {
   "cell_type": "code",
   "execution_count": 118,
   "metadata": {},
   "outputs": [
    {
     "data": {
      "text/plain": [
       "AdaBoostClassifier(random_state=0)"
      ]
     },
     "execution_count": 118,
     "metadata": {},
     "output_type": "execute_result"
    }
   ],
   "source": [
    "from sklearn.ensemble import AdaBoostClassifier\n",
    "ab = AdaBoostClassifier(random_state=0)\n",
    "ab.fit(os_data_X, os_data_y)"
   ]
  },
  {
   "cell_type": "code",
   "execution_count": 119,
   "metadata": {},
   "outputs": [],
   "source": [
    "y_pred = ab.predict(X_test)"
   ]
  },
  {
   "cell_type": "code",
   "execution_count": 120,
   "metadata": {},
   "outputs": [
    {
     "name": "stdout",
     "output_type": "stream",
     "text": [
      "[[161857  11720]\n",
      " [ 10051   9790]]\n"
     ]
    }
   ],
   "source": [
    "from sklearn.metrics import confusion_matrix\n",
    "confusion_matrix = confusion_matrix(y_test, y_pred)\n",
    "print(confusion_matrix)"
   ]
  },
  {
   "cell_type": "code",
   "execution_count": 121,
   "metadata": {},
   "outputs": [
    {
     "name": "stdout",
     "output_type": "stream",
     "text": [
      "              precision    recall  f1-score   support\n",
      "\n",
      "           0       0.94      0.93      0.94    173577\n",
      "           1       0.46      0.49      0.47     19841\n",
      "\n",
      "    accuracy                           0.89    193418\n",
      "   macro avg       0.70      0.71      0.71    193418\n",
      "weighted avg       0.89      0.89      0.89    193418\n",
      "\n"
     ]
    }
   ],
   "source": [
    "print(classification_report(y_test, y_pred))"
   ]
  },
  {
   "cell_type": "code",
   "execution_count": 149,
   "metadata": {},
   "outputs": [
    {
     "data": {
      "image/png": "[encoded data removed]",
      "text/plain": [
       "<Figure size 432x288 with 1 Axes>"
      ]
     },
     "metadata": {
      "needs_background": "light"
     },
     "output_type": "display_data"
    }
   ],
   "source": [
    "ab_roc_auc = roc_auc_score(y_test, ab.predict(X_test))\n",
    "fpr, tpr, thresholds = roc_curve(y_test, ab.predict_proba(X_test)[:,1])\n",
    "plt.figure()\n",
    "plt.plot(fpr, tpr, label='AdaBoosting (area = %0.2f)' % ab_roc_auc)\n",
    "plt.plot([0, 1], [0, 1],'r--')\n",
    "plt.xlim([0.0, 1.0])\n",
    "plt.ylim([0.0, 1.05])\n",
    "plt.xlabel('False Positive Rate')\n",
    "plt.ylabel('True Positive Rate')\n",
    "plt.title('Receiver operating characteristic')\n",
    "plt.legend(loc=\"lower right\")\n",
    "plt.savefig('AB_ROC')\n",
    "plt.show()"
   ]
  },
  {
   "cell_type": "code",
   "execution_count": 123,
   "metadata": {},
   "outputs": [
    {
     "data": {
      "text/plain": [
       "XGBClassifier(alpha=1)"
      ]
     },
     "execution_count": 123,
     "metadata": {},
     "output_type": "execute_result"
    }
   ],
   "source": [
    "import xgboost as xgb\n",
    "xb = xgb.XGBClassifier(learning_rate = 0.1, alpha = 1,random_state = 0)\n",
    "xb.fit(X_train, y_train)"
   ]
  },
  {
   "cell_type": "code",
   "execution_count": 124,
   "metadata": {},
   "outputs": [
    {
     "name": "stdout",
     "output_type": "stream",
     "text": [
      "[[161857  11720]\n",
      " [ 10051   9790]]\n"
     ]
    }
   ],
   "source": [
    "from sklearn.metrics import confusion_matrix\n",
    "confusion_matrix = confusion_matrix(y_test, y_pred)\n",
    "print(confusion_matrix)"
   ]
  },
  {
   "cell_type": "code",
   "execution_count": 125,
   "metadata": {},
   "outputs": [
    {
     "name": "stdout",
     "output_type": "stream",
     "text": [
      "              precision    recall  f1-score   support\n",
      "\n",
      "           0       0.93      0.99      0.96    173577\n",
      "           1       0.74      0.33      0.45     19841\n",
      "\n",
      "    accuracy                           0.92    193418\n",
      "   macro avg       0.83      0.66      0.70    193418\n",
      "weighted avg       0.91      0.92      0.90    193418\n",
      "\n"
     ]
    }
   ],
   "source": [
    "y_pred = xb.predict(X_test)\n",
    "print(classification_report(y_test, y_pred))"
   ]
  },
  {
   "cell_type": "code",
   "execution_count": 148,
   "metadata": {},
   "outputs": [
    {
     "data": {
      "image/png": "[encoded data removed]",
      "text/plain": [
       "<Figure size 432x288 with 1 Axes>"
      ]
     },
     "metadata": {
      "needs_background": "light"
     },
     "output_type": "display_data"
    }
   ],
   "source": [
    "xb_roc_auc = roc_auc_score(y_test, xb.predict(X_test))\n",
    "fpr, tpr, thresholds = roc_curve(y_test, xb.predict_proba(X_test)[:,1])\n",
    "plt.figure()\n",
    "plt.plot(fpr, tpr, label='XGBoosting (area = %0.2f)' % xb_roc_auc)\n",
    "plt.plot([0, 1], [0, 1],'r--')\n",
    "plt.xlim([0.0, 1.0])\n",
    "plt.ylim([0.0, 1.05])\n",
    "plt.xlabel('False Positive Rate')\n",
    "plt.ylabel('True Positive Rate')\n",
    "plt.title('Receiver operating characteristic')\n",
    "plt.legend(loc=\"lower right\")\n",
    "plt.savefig('XB1_ROC')\n",
    "plt.show()"
   ]
  },
  {
   "cell_type": "code",
   "execution_count": 142,
   "metadata": {},
   "outputs": [
    {
     "data": {
      "text/plain": [
       "XGBClassifier(alpha=1, n_estimator=20)"
      ]
     },
     "execution_count": 142,
     "metadata": {},
     "output_type": "execute_result"
    }
   ],
   "source": [
    "xb2 = xgb.XGBClassifier(n_estimator = 20, learning_rate = 0.1, alpha = 1, random_state = 0)\n",
    "xb2.fit(os_data_X, os_data_y)"
   ]
  },
  {
   "cell_type": "code",
   "execution_count": 143,
   "metadata": {},
   "outputs": [
    {
     "name": "stdout",
     "output_type": "stream",
     "text": [
      "              precision    recall  f1-score   support\n",
      "\n",
      "           0       0.95      0.93      0.94    173577\n",
      "           1       0.48      0.55      0.51     19841\n",
      "\n",
      "    accuracy                           0.89    193418\n",
      "   macro avg       0.71      0.74      0.72    193418\n",
      "weighted avg       0.90      0.89      0.90    193418\n",
      "\n"
     ]
    }
   ],
   "source": [
    "y_pred = xb2.predict(X_test)\n",
    "print(classification_report(y_test, y_pred))"
   ]
  },
  {
   "cell_type": "code",
   "execution_count": 147,
   "metadata": {},
   "outputs": [
    {
     "data": {
      "image/png": "[encoded data removed]",
      "text/plain": [
       "<Figure size 432x288 with 1 Axes>"
      ]
     },
     "metadata": {
      "needs_background": "light"
     },
     "output_type": "display_data"
    }
   ],
   "source": [
    "xb2_roc_auc = roc_auc_score(y_test, xb.predict(X_test))\n",
    "fpr, tpr, thresholds = roc_curve(y_test, xb2.predict_proba(X_test)[:,1])\n",
    "plt.figure()\n",
    "plt.plot(fpr, tpr, label='XGBoosting (area = %0.2f)' % xb2_roc_auc)\n",
    "plt.plot([0, 1], [0, 1],'r--')\n",
    "plt.xlim([0.0, 1.0])\n",
    "plt.ylim([0.0, 1.05])\n",
    "plt.xlabel('False Positive Rate')\n",
    "plt.ylabel('True Positive Rate')\n",
    "plt.title('Receiver operating characteristic')\n",
    "plt.legend(loc=\"lower right\")\n",
    "plt.savefig('XB1_ROC')\n",
    "plt.show()"
   ]
  },
  {
   "cell_type": "code",
   "execution_count": 144,
   "metadata": {},
   "outputs": [
    {
     "data": {
      "image/png": "[encoded data removed]",
      "text/plain": [
       "<Figure size 800x1200 with 1 Axes>"
      ]
     },
     "metadata": {},
     "output_type": "display_data"
    }
   ],
   "source": [
    "features = X_train.columns\n",
    "importances = xb2.feature_importances_\n",
    "indices = np.argsort(importances)\n",
    "from matplotlib.pyplot import figure\n",
    "figure(num=None, figsize=(10, 15), dpi=80, facecolor='w', edgecolor='k')\n",
    "plt.title('Feature Importances')\n",
    "plt.barh(range(len(indices)), importances[indices], color='b', align='center')\n",
    "plt.yticks(range(len(indices)), [features[i] for i in indices])\n",
    "plt.xlabel('Relative Importance')\n",
    "plt.show()"
   ]
  },
  {
   "cell_type": "code",
   "execution_count": null,
   "metadata": {},
   "outputs": [],
   "source": []
  }
 ],
 "metadata": {
  "kernelspec": {
   "display_name": "Python 3",
   "language": "python",
   "name": "python3"
  },
  "language_info": {
   "codemirror_mode": {
    "name": "ipython",
    "version": 3
   },
   "file_extension": ".py",
   "mimetype": "text/x-python",
   "name": "python",
   "nbconvert_exporter": "python",
   "pygments_lexer": "ipython3",
   "version": "3.7.4"
  }
 },
 "nbformat": 4,
 "nbformat_minor": 2
}
