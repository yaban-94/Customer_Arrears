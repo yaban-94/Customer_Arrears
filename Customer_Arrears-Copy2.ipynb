{
 "cells": [
  {
   "cell_type": "code",
   "execution_count": 2,
   "metadata": {},
   "outputs": [],
   "source": [
    "import os\n",
    "import pandas as pd\n",
    "import numpy as np\n",
    "from sklearn import preprocessing\n",
    "import matplotlib.pyplot as plt \n",
    "plt.rc(\"font\", size=14)\n",
    "from sklearn.linear_model import LogisticRegression\n",
    "from sklearn.model_selection import train_test_split\n",
    "import seaborn as sns\n",
    "sns.set(style=\"white\")\n",
    "sns.set(style=\"whitegrid\", color_codes=True)\n",
    "import warnings\n",
    "warnings.filterwarnings('ignore')"
   ]
  },
  {
   "cell_type": "code",
   "execution_count": 3,
   "metadata": {},
   "outputs": [
    {
     "data": {
      "text/plain": [
       "'C:\\\\users\\\\JYIN\\\\Customer_Arrears'"
      ]
     },
     "execution_count": 3,
     "metadata": {},
     "output_type": "execute_result"
    }
   ],
   "source": [
    "os.getcwd()"
   ]
  },
  {
   "cell_type": "code",
   "execution_count": 4,
   "metadata": {},
   "outputs": [],
   "source": [
    "os.chdir('H:\\\\Desktop')"
   ]
  },
  {
   "cell_type": "code",
   "execution_count": 5,
   "metadata": {},
   "outputs": [],
   "source": [
    "newdata = pd.read_csv('FINALS.csv')"
   ]
  },
  {
   "cell_type": "code",
   "execution_count": 6,
   "metadata": {},
   "outputs": [
    {
     "data": {
      "text/html": [
       "<div>\n",
       "<style scoped>\n",
       "    .dataframe tbody tr th:only-of-type {\n",
       "        vertical-align: middle;\n",
       "    }\n",
       "\n",
       "    .dataframe tbody tr th {\n",
       "        vertical-align: top;\n",
       "    }\n",
       "\n",
       "    .dataframe thead th {\n",
       "        text-align: right;\n",
       "    }\n",
       "</style>\n",
       "<table border=\"1\" class=\"dataframe\">\n",
       "  <thead>\n",
       "    <tr style=\"text-align: right;\">\n",
       "      <th></th>\n",
       "      <th>KY_BA</th>\n",
       "      <th>Account_Age_Mar</th>\n",
       "      <th>Account_Age_Apr</th>\n",
       "      <th>Account_Age_May</th>\n",
       "      <th>usage3</th>\n",
       "      <th>usage4</th>\n",
       "      <th>usage5</th>\n",
       "      <th>chgrt3</th>\n",
       "      <th>chgrt4</th>\n",
       "      <th>chgrt5</th>\n",
       "      <th>...</th>\n",
       "      <th>FL_EBILL</th>\n",
       "      <th>CD_AD_TYPE</th>\n",
       "      <th>SQFT_Code</th>\n",
       "      <th>SQFT_Desc</th>\n",
       "      <th>mo3</th>\n",
       "      <th>mo4</th>\n",
       "      <th>mo5</th>\n",
       "      <th>DD3</th>\n",
       "      <th>DD4</th>\n",
       "      <th>DD5</th>\n",
       "    </tr>\n",
       "  </thead>\n",
       "  <tbody>\n",
       "    <tr>\n",
       "      <td>0</td>\n",
       "      <td>100925</td>\n",
       "      <td>6.846575</td>\n",
       "      <td>6.928767</td>\n",
       "      <td>7.013699</td>\n",
       "      <td>12000.0</td>\n",
       "      <td>10800.0</td>\n",
       "      <td>9000.0</td>\n",
       "      <td>0.111111</td>\n",
       "      <td>-0.100000</td>\n",
       "      <td>-0.166667</td>\n",
       "      <td>...</td>\n",
       "      <td>N</td>\n",
       "      <td>M</td>\n",
       "      <td>6.0</td>\n",
       "      <td>20,000 - 39,999</td>\n",
       "      <td>2200.56</td>\n",
       "      <td>2007.88</td>\n",
       "      <td>1698.36</td>\n",
       "      <td>0</td>\n",
       "      <td>0</td>\n",
       "      <td>0</td>\n",
       "    </tr>\n",
       "    <tr>\n",
       "      <td>1</td>\n",
       "      <td>101020</td>\n",
       "      <td>1.210959</td>\n",
       "      <td>1.293151</td>\n",
       "      <td>1.378082</td>\n",
       "      <td>167244.0</td>\n",
       "      <td>105544.0</td>\n",
       "      <td>103471.0</td>\n",
       "      <td>-0.078469</td>\n",
       "      <td>-0.368922</td>\n",
       "      <td>-0.019641</td>\n",
       "      <td>...</td>\n",
       "      <td>M</td>\n",
       "      <td>M</td>\n",
       "      <td>7.0</td>\n",
       "      <td>40,000 - 99,999</td>\n",
       "      <td>0.00</td>\n",
       "      <td>15607.90</td>\n",
       "      <td>13385.13</td>\n",
       "      <td>0</td>\n",
       "      <td>0</td>\n",
       "      <td>0</td>\n",
       "    </tr>\n",
       "    <tr>\n",
       "      <td>2</td>\n",
       "      <td>101646</td>\n",
       "      <td>2.123288</td>\n",
       "      <td>2.205479</td>\n",
       "      <td>2.290411</td>\n",
       "      <td>168898.0</td>\n",
       "      <td>106447.0</td>\n",
       "      <td>102988.0</td>\n",
       "      <td>-0.047383</td>\n",
       "      <td>-0.369756</td>\n",
       "      <td>-0.032495</td>\n",
       "      <td>...</td>\n",
       "      <td>M</td>\n",
       "      <td>M</td>\n",
       "      <td>1.0</td>\n",
       "      <td>0 - 1,499</td>\n",
       "      <td>22444.97</td>\n",
       "      <td>7523.33</td>\n",
       "      <td>0.00</td>\n",
       "      <td>0</td>\n",
       "      <td>0</td>\n",
       "      <td>0</td>\n",
       "    </tr>\n",
       "    <tr>\n",
       "      <td>3</td>\n",
       "      <td>102401</td>\n",
       "      <td>22.915068</td>\n",
       "      <td>22.997260</td>\n",
       "      <td>23.082192</td>\n",
       "      <td>52489.0</td>\n",
       "      <td>45266.0</td>\n",
       "      <td>59314.0</td>\n",
       "      <td>-0.231651</td>\n",
       "      <td>-0.137610</td>\n",
       "      <td>0.310343</td>\n",
       "      <td>...</td>\n",
       "      <td>D</td>\n",
       "      <td>M</td>\n",
       "      <td>7.0</td>\n",
       "      <td>40,000 - 99,999</td>\n",
       "      <td>3181.58</td>\n",
       "      <td>3097.32</td>\n",
       "      <td>0.00</td>\n",
       "      <td>0</td>\n",
       "      <td>0</td>\n",
       "      <td>1</td>\n",
       "    </tr>\n",
       "    <tr>\n",
       "      <td>4</td>\n",
       "      <td>102554</td>\n",
       "      <td>16.715068</td>\n",
       "      <td>16.797260</td>\n",
       "      <td>16.882192</td>\n",
       "      <td>61200.0</td>\n",
       "      <td>34500.0</td>\n",
       "      <td>21900.0</td>\n",
       "      <td>-0.055556</td>\n",
       "      <td>-0.436275</td>\n",
       "      <td>-0.365217</td>\n",
       "      <td>...</td>\n",
       "      <td>D</td>\n",
       "      <td>M</td>\n",
       "      <td>3.0</td>\n",
       "      <td>2,500 - 4,999</td>\n",
       "      <td>7348.08</td>\n",
       "      <td>0.00</td>\n",
       "      <td>0.00</td>\n",
       "      <td>0</td>\n",
       "      <td>0</td>\n",
       "      <td>1</td>\n",
       "    </tr>\n",
       "  </tbody>\n",
       "</table>\n",
       "<p>5 rows × 23 columns</p>\n",
       "</div>"
      ],
      "text/plain": [
       "    KY_BA  Account_Age_Mar  Account_Age_Apr  Account_Age_May    usage3  \\\n",
       "0  100925         6.846575         6.928767         7.013699   12000.0   \n",
       "1  101020         1.210959         1.293151         1.378082  167244.0   \n",
       "2  101646         2.123288         2.205479         2.290411  168898.0   \n",
       "3  102401        22.915068        22.997260        23.082192   52489.0   \n",
       "4  102554        16.715068        16.797260        16.882192   61200.0   \n",
       "\n",
       "     usage4    usage5    chgrt3    chgrt4    chgrt5  ... FL_EBILL CD_AD_TYPE  \\\n",
       "0   10800.0    9000.0  0.111111 -0.100000 -0.166667  ...        N          M   \n",
       "1  105544.0  103471.0 -0.078469 -0.368922 -0.019641  ...        M          M   \n",
       "2  106447.0  102988.0 -0.047383 -0.369756 -0.032495  ...        M          M   \n",
       "3   45266.0   59314.0 -0.231651 -0.137610  0.310343  ...        D          M   \n",
       "4   34500.0   21900.0 -0.055556 -0.436275 -0.365217  ...        D          M   \n",
       "\n",
       "  SQFT_Code        SQFT_Desc       mo3       mo4       mo5  DD3  DD4  DD5  \n",
       "0       6.0  20,000 - 39,999   2200.56   2007.88   1698.36    0    0    0  \n",
       "1       7.0  40,000 - 99,999      0.00  15607.90  13385.13    0    0    0  \n",
       "2       1.0        0 - 1,499  22444.97   7523.33      0.00    0    0    0  \n",
       "3       7.0  40,000 - 99,999   3181.58   3097.32      0.00    0    0    1  \n",
       "4       3.0    2,500 - 4,999   7348.08      0.00      0.00    0    0    1  \n",
       "\n",
       "[5 rows x 23 columns]"
      ]
     },
     "execution_count": 6,
     "metadata": {},
     "output_type": "execute_result"
    }
   ],
   "source": [
    "newdata.head()"
   ]
  },
  {
   "cell_type": "code",
   "execution_count": 7,
   "metadata": {},
   "outputs": [
    {
     "data": {
      "text/plain": [
       "KY_BA                   0\n",
       "Account_Age_Mar         0\n",
       "Account_Age_Apr         0\n",
       "Account_Age_May         0\n",
       "usage3              23307\n",
       "usage4              20178\n",
       "usage5              17163\n",
       "chgrt3              39860\n",
       "chgrt4              36395\n",
       "chgrt5              34052\n",
       "sgmt                    0\n",
       "GPC_Region          12653\n",
       "CD_CREDIT_RATING    12878\n",
       "FL_EBILL                0\n",
       "CD_AD_TYPE              0\n",
       "SQFT_Code           98428\n",
       "SQFT_Desc           98428\n",
       "mo3                     0\n",
       "mo4                     0\n",
       "mo5                     0\n",
       "DD3                     0\n",
       "DD4                     0\n",
       "DD5                     0\n",
       "dtype: int64"
      ]
     },
     "execution_count": 7,
     "metadata": {},
     "output_type": "execute_result"
    }
   ],
   "source": [
    "newdata.isnull().sum()"
   ]
  },
  {
   "cell_type": "code",
   "execution_count": 8,
   "metadata": {},
   "outputs": [],
   "source": [
    "# imputation on several columns, fillna(0))\n",
    "newdata[['usage3', 'usage4', 'usage5', 'chgrt3', 'chgrt4', 'chgrt5']] = newdata[['usage3', 'usage4', 'usage5', 'chgrt3', 'chgrt4', 'chgrt5']].fillna(0)"
   ]
  },
  {
   "cell_type": "code",
   "execution_count": 9,
   "metadata": {},
   "outputs": [],
   "source": [
    "newdata['GPC_Region'].fillna('Missing', inplace = True)"
   ]
  },
  {
   "cell_type": "code",
   "execution_count": 10,
   "metadata": {},
   "outputs": [],
   "source": [
    "def Credit_Rating(c):\n",
    "  if c['CD_CREDIT_RATING'] == 'A':\n",
    "    return 1\n",
    "  elif c['CD_CREDIT_RATING'] == 'B':\n",
    "    return 2\n",
    "  elif c['CD_CREDIT_RATING'] == 'C':\n",
    "    return 3\n",
    "  elif c['CD_CREDIT_RATING'] == 'D':\n",
    "    return 4\n",
    "  else:\n",
    "    return None\n",
    "    \n",
    "newdata['Credit_Rating'] = newdata.apply(Credit_Rating, axis=1)\n"
   ]
  },
  {
   "cell_type": "code",
   "execution_count": 11,
   "metadata": {},
   "outputs": [
    {
     "data": {
      "text/plain": [
       "12878"
      ]
     },
     "execution_count": 11,
     "metadata": {},
     "output_type": "execute_result"
    }
   ],
   "source": [
    "newdata['Credit_Rating'].isnull().sum()"
   ]
  },
  {
   "cell_type": "code",
   "execution_count": 13,
   "metadata": {},
   "outputs": [],
   "source": [
    "sgmt_list = list(set(newdata['sgmt']))"
   ]
  },
  {
   "cell_type": "code",
   "execution_count": 14,
   "metadata": {
    "scrolled": true
   },
   "outputs": [],
   "source": [
    "# sort list  \n",
    "# essential for grouping \n",
    "sgmt_list.sort() "
   ]
  },
  {
   "cell_type": "code",
   "execution_count": 15,
   "metadata": {},
   "outputs": [
    {
     "data": {
      "text/plain": [
       "['Mfg. Automotive',\n",
       " 'Mfg. Chemicals',\n",
       " 'Mfg. Fabricated Metal and Machinery',\n",
       " 'Mfg. Food & Beverage',\n",
       " 'Mfg. Forest Products',\n",
       " 'Mfg. Light Manufacturing',\n",
       " 'Mfg. Plastics & Rubber',\n",
       " 'Mfg. Primary Metal',\n",
       " 'Mfg. Stone, Clay, and Glass',\n",
       " 'Mfg. Textile & Apparel']"
      ]
     },
     "execution_count": 15,
     "metadata": {},
     "output_type": "execute_result"
    }
   ],
   "source": [
    "gov_group = sgmt_list[7:9]\n",
    "manu_list = sgmt_list[12:22]\n",
    "manu_list"
   ]
  },
  {
   "cell_type": "code",
   "execution_count": 16,
   "metadata": {},
   "outputs": [],
   "source": [
    "newdata['newsgmt1'] = np.where(newdata['sgmt'].isin(gov_group), \"Government\", newdata['sgmt'])\n",
    "newdata['newsgmt2'] = np.where(newdata['newsgmt1'].isin([\"Other\", \"Other Information\", \"Missing\"]), \"Other\", newdata['newsgmt1'])\n",
    "newdata['newsgmt3'] = np.where(newdata['newsgmt2'].isin([\"Utility-Electricity\", \"Utility-Gas\", \"Utility-Water or Wastewater\"]), \"Utility\", newdata['newsgmt2'])\n",
    "newdata['newsgmt4'] = np.where(newdata['newsgmt3'].isin([\"Data Centers\", \"Web Service\"]), \"Data Center & Web Service\", newdata['newsgmt3'])"
   ]
  },
  {
   "cell_type": "code",
   "execution_count": 17,
   "metadata": {},
   "outputs": [],
   "source": [
    "newdata['newsgmt5'] = np.where(newdata['newsgmt4'].isin(manu_list), \"Manufacturing\", newdata['newsgmt4'])"
   ]
  },
  {
   "cell_type": "code",
   "execution_count": 18,
   "metadata": {},
   "outputs": [],
   "source": [
    "# Create a groupby object: by_sgmt_class\n",
    "by_newsgmt5 = newdata.groupby(['newsgmt5'])\n",
    "\n",
    "# # Write a function that imputes median\n",
    "def impute_median(series):\n",
    "    return series.fillna(series.median())\n",
    "\n",
    "# # Impute SQFT_Code and assign to missing SQFT_Code\n",
    "newdata.SQFT_Code = by_newsgmt5.SQFT_Code.transform(impute_median)\n",
    "# # Impute SQFT_Code and assign to missing SQFT_Code\n",
    "newdata.Credit_Rating = by_newsgmt5.Credit_Rating.transform(impute_median)"
   ]
  },
  {
   "cell_type": "code",
   "execution_count": 19,
   "metadata": {},
   "outputs": [
    {
     "data": {
      "text/plain": [
       "KY_BA                   0\n",
       "Account_Age_Mar         0\n",
       "Account_Age_Apr         0\n",
       "Account_Age_May         0\n",
       "usage3                  0\n",
       "usage4                  0\n",
       "usage5                  0\n",
       "chgrt3                  0\n",
       "chgrt4                  0\n",
       "chgrt5                  0\n",
       "sgmt                    0\n",
       "GPC_Region              0\n",
       "CD_CREDIT_RATING    12878\n",
       "FL_EBILL                0\n",
       "CD_AD_TYPE              0\n",
       "SQFT_Code               0\n",
       "SQFT_Desc           98428\n",
       "mo3                     0\n",
       "mo4                     0\n",
       "mo5                     0\n",
       "DD3                     0\n",
       "DD4                     0\n",
       "DD5                     0\n",
       "Credit_Rating           0\n",
       "newsgmt1                0\n",
       "newsgmt2                0\n",
       "newsgmt3                0\n",
       "newsgmt4                0\n",
       "newsgmt5                0\n",
       "dtype: int64"
      ]
     },
     "execution_count": 19,
     "metadata": {},
     "output_type": "execute_result"
    }
   ],
   "source": [
    "newdata.isna().sum()"
   ]
  },
  {
   "cell_type": "code",
   "execution_count": 20,
   "metadata": {},
   "outputs": [],
   "source": [
    "data_Mar = newdata[['Account_Age_Mar','usage3','chgrt3', 'SQFT_Code', 'mo3', 'Credit_Rating', 'newsgmt5', 'GPC_Region',\\\n",
    "                    'FL_EBILL', 'CD_AD_TYPE']]\n",
    "data_Mar[\"In_Arrears\"] = np.where(newdata['DD4']>1, 1,newdata['DD4'])\n",
    "data_Mar.columns = ['Account_Age','electricity_monthly_usage','chgrt', 'SQFT_Code', 'mothly_Payment', 'Credit_Rating', \\\n",
    "                    'sgmt', 'GPC_Region', 'FL_EBILL', 'CD_AD_TYPE', 'In_Arrears']\n"
   ]
  },
  {
   "cell_type": "code",
   "execution_count": 21,
   "metadata": {
    "scrolled": true
   },
   "outputs": [
    {
     "data": {
      "text/plain": [
       "0    289866\n",
       "1     32497\n",
       "Name: In_Arrears, dtype: int64"
      ]
     },
     "execution_count": 21,
     "metadata": {},
     "output_type": "execute_result"
    }
   ],
   "source": [
    "data_Mar[\"In_Arrears\"].value_counts()"
   ]
  },
  {
   "cell_type": "code",
   "execution_count": 22,
   "metadata": {},
   "outputs": [],
   "source": [
    "data_Apr = newdata[['Account_Age_Apr','usage4','chgrt4', 'SQFT_Code', 'mo4', 'Credit_Rating', 'newsgmt5', 'GPC_Region', \\\n",
    "                    'FL_EBILL', 'CD_AD_TYPE']]\n",
    "data_Apr[\"In_Arrears\"] = np.where(newdata['DD5']>1, 1,newdata['DD5'])\n",
    "data_Apr.columns = ['Account_Age','electricity_monthly_usage','chgrt', 'SQFT_Code', 'mothly_Payment', 'Credit_Rating', \\\n",
    "                    'sgmt', 'GPC_Region', 'FL_EBILL', 'CD_AD_TYPE', 'In_Arrears']\n"
   ]
  },
  {
   "cell_type": "code",
   "execution_count": 23,
   "metadata": {},
   "outputs": [
    {
     "data": {
      "text/plain": [
       "0    288877\n",
       "1     33486\n",
       "Name: In_Arrears, dtype: int64"
      ]
     },
     "execution_count": 23,
     "metadata": {},
     "output_type": "execute_result"
    }
   ],
   "source": [
    "#April Arrears Count\n",
    "data_Apr[\"In_Arrears\"].value_counts()"
   ]
  },
  {
   "cell_type": "code",
   "execution_count": 24,
   "metadata": {},
   "outputs": [],
   "source": [
    "data_May = newdata[['Account_Age_May','usage5','chgrt5', 'SQFT_Code', 'mo5', 'Credit_Rating', 'newsgmt5', 'GPC_Region',\\\n",
    "                    'FL_EBILL', 'CD_AD_TYPE']]\n",
    "data_May.columns = ['Account_Age','electricity_monthly_usage','chgrt', 'SQFT_Code', 'mothly_Payment', 'Credit_Rating', 'sgmt', 'GPC_Region',\\\n",
    "                    'FL_EBILL', 'CD_AD_TYPE']"
   ]
  },
  {
   "cell_type": "code",
   "execution_count": 25,
   "metadata": {},
   "outputs": [],
   "source": [
    "All_Data = pd.concat([data_Mar.iloc[:,:-1], data_Apr.iloc[:,:-1], data_May], ignore_index=True)"
   ]
  },
  {
   "cell_type": "code",
   "execution_count": 26,
   "metadata": {},
   "outputs": [],
   "source": [
    "# sns.countplot(x = 'In_Arrears', data = Training_Data, palette = 'hls')\n",
    "# plt.show()\n",
    "# plt.savefig('count_plot')"
   ]
  },
  {
   "cell_type": "code",
   "execution_count": 27,
   "metadata": {},
   "outputs": [],
   "source": [
    "# count_no_arr = len(Training_Data[Training_Data['In_Arrears']==0])\n",
    "# count_arr = len(Training_Data[Training_Data['In_Arrears']==1])\n",
    "# pct_of_no_arr = count_no_arr/(count_no_arr+count_arr)\n",
    "# print(\"percentage of non arrears is\", pct_of_no_arr*100)\n",
    "# pct_of_arr = count_arr/(count_no_arr+count_arr)\n",
    "# print(\"percentage of arrears\", pct_of_arr*100)"
   ]
  },
  {
   "cell_type": "code",
   "execution_count": 28,
   "metadata": {},
   "outputs": [],
   "source": [
    "# Training_Data.groupby('In_Arrears').mean()"
   ]
  },
  {
   "cell_type": "code",
   "execution_count": 29,
   "metadata": {},
   "outputs": [],
   "source": [
    "# Training_Data.groupby('sgmt').mean()"
   ]
  },
  {
   "cell_type": "code",
   "execution_count": 30,
   "metadata": {},
   "outputs": [],
   "source": [
    "# Training_Data.groupby('GPC_Region').mean()"
   ]
  },
  {
   "cell_type": "code",
   "execution_count": 31,
   "metadata": {},
   "outputs": [],
   "source": [
    "# Training_Data.groupby('FL_EBILL').mean()"
   ]
  },
  {
   "cell_type": "code",
   "execution_count": 32,
   "metadata": {},
   "outputs": [],
   "source": [
    "# Training_Data.groupby('CD_AD_TYPE').mean()"
   ]
  },
  {
   "cell_type": "code",
   "execution_count": 33,
   "metadata": {
    "scrolled": false
   },
   "outputs": [],
   "source": [
    "# df = Training_Data.iloc[:,0:6]\n",
    "# hm = sns.heatmap(df.corr(), fmt='.1g', annot = True, vmin=-1, vmax=1, cmap = 'coolwarm', square = True)\n",
    "# bottom, top = hm.get_ylim()\n",
    "# hm.set_ylim(bottom + 0.5, top - 0.5)\n"
   ]
  },
  {
   "cell_type": "code",
   "execution_count": 42,
   "metadata": {
    "scrolled": true
   },
   "outputs": [
    {
     "data": {
      "text/html": [
       "<div>\n",
       "<style scoped>\n",
       "    .dataframe tbody tr th:only-of-type {\n",
       "        vertical-align: middle;\n",
       "    }\n",
       "\n",
       "    .dataframe tbody tr th {\n",
       "        vertical-align: top;\n",
       "    }\n",
       "\n",
       "    .dataframe thead th {\n",
       "        text-align: right;\n",
       "    }\n",
       "</style>\n",
       "<table border=\"1\" class=\"dataframe\">\n",
       "  <thead>\n",
       "    <tr style=\"text-align: right;\">\n",
       "      <th></th>\n",
       "      <th>Account_Age</th>\n",
       "      <th>electricity_monthly_usage</th>\n",
       "      <th>chgrt</th>\n",
       "      <th>SQFT_Code</th>\n",
       "      <th>mothly_Payment</th>\n",
       "      <th>Credit_Rating</th>\n",
       "      <th>sgmt</th>\n",
       "      <th>GPC_Region</th>\n",
       "      <th>FL_EBILL</th>\n",
       "      <th>CD_AD_TYPE</th>\n",
       "    </tr>\n",
       "  </thead>\n",
       "  <tbody>\n",
       "    <tr>\n",
       "      <td>0</td>\n",
       "      <td>6.846575</td>\n",
       "      <td>12000.0</td>\n",
       "      <td>0.111111</td>\n",
       "      <td>6.0</td>\n",
       "      <td>2200.56</td>\n",
       "      <td>1.0</td>\n",
       "      <td>Manufacturing</td>\n",
       "      <td>Southeast</td>\n",
       "      <td>N</td>\n",
       "      <td>M</td>\n",
       "    </tr>\n",
       "    <tr>\n",
       "      <td>1</td>\n",
       "      <td>1.210959</td>\n",
       "      <td>167244.0</td>\n",
       "      <td>-0.078469</td>\n",
       "      <td>7.0</td>\n",
       "      <td>0.00</td>\n",
       "      <td>1.0</td>\n",
       "      <td>Office/Real Estate</td>\n",
       "      <td>Northwest</td>\n",
       "      <td>M</td>\n",
       "      <td>M</td>\n",
       "    </tr>\n",
       "    <tr>\n",
       "      <td>2</td>\n",
       "      <td>2.123288</td>\n",
       "      <td>168898.0</td>\n",
       "      <td>-0.047383</td>\n",
       "      <td>1.0</td>\n",
       "      <td>22444.97</td>\n",
       "      <td>1.0</td>\n",
       "      <td>Office/Real Estate</td>\n",
       "      <td>Northwest</td>\n",
       "      <td>M</td>\n",
       "      <td>M</td>\n",
       "    </tr>\n",
       "    <tr>\n",
       "      <td>3</td>\n",
       "      <td>22.915068</td>\n",
       "      <td>52489.0</td>\n",
       "      <td>-0.231651</td>\n",
       "      <td>7.0</td>\n",
       "      <td>3181.58</td>\n",
       "      <td>1.0</td>\n",
       "      <td>Hotels/Lodging</td>\n",
       "      <td>Northwest</td>\n",
       "      <td>D</td>\n",
       "      <td>M</td>\n",
       "    </tr>\n",
       "    <tr>\n",
       "      <td>4</td>\n",
       "      <td>16.715068</td>\n",
       "      <td>61200.0</td>\n",
       "      <td>-0.055556</td>\n",
       "      <td>3.0</td>\n",
       "      <td>7348.08</td>\n",
       "      <td>1.0</td>\n",
       "      <td>Retail/Mercantile</td>\n",
       "      <td>Northwest</td>\n",
       "      <td>D</td>\n",
       "      <td>M</td>\n",
       "    </tr>\n",
       "  </tbody>\n",
       "</table>\n",
       "</div>"
      ],
      "text/plain": [
       "   Account_Age  electricity_monthly_usage     chgrt  SQFT_Code  \\\n",
       "0     6.846575                    12000.0  0.111111        6.0   \n",
       "1     1.210959                   167244.0 -0.078469        7.0   \n",
       "2     2.123288                   168898.0 -0.047383        1.0   \n",
       "3    22.915068                    52489.0 -0.231651        7.0   \n",
       "4    16.715068                    61200.0 -0.055556        3.0   \n",
       "\n",
       "   mothly_Payment  Credit_Rating                sgmt GPC_Region FL_EBILL  \\\n",
       "0         2200.56            1.0       Manufacturing  Southeast        N   \n",
       "1            0.00            1.0  Office/Real Estate  Northwest        M   \n",
       "2        22444.97            1.0  Office/Real Estate  Northwest        M   \n",
       "3         3181.58            1.0      Hotels/Lodging  Northwest        D   \n",
       "4         7348.08            1.0   Retail/Mercantile  Northwest        D   \n",
       "\n",
       "  CD_AD_TYPE  \n",
       "0          M  \n",
       "1          M  \n",
       "2          M  \n",
       "3          M  \n",
       "4          M  "
      ]
     },
     "execution_count": 42,
     "metadata": {},
     "output_type": "execute_result"
    }
   ],
   "source": [
    "# X = Training_Data.iloc[:,:-1]\n",
    "# X.head()"
   ]
  },
  {
   "cell_type": "code",
   "execution_count": 43,
   "metadata": {},
   "outputs": [],
   "source": [
    "# from statsmodels.stats.outliers_influence import variance_inflation_factor \n",
    "# def calc_vif(X): \n",
    "#     # Calculating VIF \n",
    "#     vif = pd.DataFrame()\n",
    "#     vif[\"variables\"] = X.columns \n",
    "#     vif[\"VIF\"] = [variance_inflation_factor(X.values, i) for i in range(X.shape[1])] \n",
    "#     return(vif) "
   ]
  },
  {
   "cell_type": "code",
   "execution_count": 44,
   "metadata": {},
   "outputs": [
    {
     "data": {
      "text/html": [
       "<div>\n",
       "<style scoped>\n",
       "    .dataframe tbody tr th:only-of-type {\n",
       "        vertical-align: middle;\n",
       "    }\n",
       "\n",
       "    .dataframe tbody tr th {\n",
       "        vertical-align: top;\n",
       "    }\n",
       "\n",
       "    .dataframe thead th {\n",
       "        text-align: right;\n",
       "    }\n",
       "</style>\n",
       "<table border=\"1\" class=\"dataframe\">\n",
       "  <thead>\n",
       "    <tr style=\"text-align: right;\">\n",
       "      <th></th>\n",
       "      <th>variables</th>\n",
       "      <th>VIF</th>\n",
       "    </tr>\n",
       "  </thead>\n",
       "  <tbody>\n",
       "    <tr>\n",
       "      <td>0</td>\n",
       "      <td>Account_Age</td>\n",
       "      <td>1.751377</td>\n",
       "    </tr>\n",
       "    <tr>\n",
       "      <td>1</td>\n",
       "      <td>electricity_monthly_usage</td>\n",
       "      <td>2.577374</td>\n",
       "    </tr>\n",
       "    <tr>\n",
       "      <td>2</td>\n",
       "      <td>chgrt</td>\n",
       "      <td>1.000111</td>\n",
       "    </tr>\n",
       "    <tr>\n",
       "      <td>3</td>\n",
       "      <td>SQFT_Code</td>\n",
       "      <td>2.521835</td>\n",
       "    </tr>\n",
       "    <tr>\n",
       "      <td>4</td>\n",
       "      <td>mothly_Payment</td>\n",
       "      <td>2.701658</td>\n",
       "    </tr>\n",
       "    <tr>\n",
       "      <td>5</td>\n",
       "      <td>Credit_Rating</td>\n",
       "      <td>2.071392</td>\n",
       "    </tr>\n",
       "  </tbody>\n",
       "</table>\n",
       "</div>"
      ],
      "text/plain": [
       "                   variables       VIF\n",
       "0                Account_Age  1.751377\n",
       "1  electricity_monthly_usage  2.577374\n",
       "2                      chgrt  1.000111\n",
       "3                  SQFT_Code  2.521835\n",
       "4             mothly_Payment  2.701658\n",
       "5              Credit_Rating  2.071392"
      ]
     },
     "execution_count": 44,
     "metadata": {},
     "output_type": "execute_result"
    }
   ],
   "source": [
    "# calc_vif(X.iloc[:,:6])"
   ]
  },
  {
   "cell_type": "code",
   "execution_count": 34,
   "metadata": {},
   "outputs": [
    {
     "data": {
      "text/plain": [
       "['sgmt', 'GPC_Region', 'FL_EBILL', 'CD_AD_TYPE']"
      ]
     },
     "execution_count": 34,
     "metadata": {},
     "output_type": "execute_result"
    }
   ],
   "source": [
    "cat_vars = list(All_Data.columns[6:])\n",
    "cat_vars"
   ]
  },
  {
   "cell_type": "code",
   "execution_count": 36,
   "metadata": {
    "scrolled": true
   },
   "outputs": [],
   "source": [
    "for var in cat_vars:\n",
    "    cat_list='var'+'_'+var\n",
    "    cat_list = pd.get_dummies(All_Data[var], prefix = var)\n",
    "    data1 = pd.concat([All_Data, cat_list], axis = 1)\n",
    "    All_Data = data1"
   ]
  },
  {
   "cell_type": "code",
   "execution_count": 42,
   "metadata": {
    "scrolled": true
   },
   "outputs": [
    {
     "data": {
      "text/html": [
       "<div>\n",
       "<style scoped>\n",
       "    .dataframe tbody tr th:only-of-type {\n",
       "        vertical-align: middle;\n",
       "    }\n",
       "\n",
       "    .dataframe tbody tr th {\n",
       "        vertical-align: top;\n",
       "    }\n",
       "\n",
       "    .dataframe thead th {\n",
       "        text-align: right;\n",
       "    }\n",
       "</style>\n",
       "<table border=\"1\" class=\"dataframe\">\n",
       "  <thead>\n",
       "    <tr style=\"text-align: right;\">\n",
       "      <th></th>\n",
       "      <th>Account_Age</th>\n",
       "      <th>electricity_monthly_usage</th>\n",
       "      <th>chgrt</th>\n",
       "      <th>SQFT_Code</th>\n",
       "      <th>mothly_Payment</th>\n",
       "      <th>Credit_Rating</th>\n",
       "      <th>sgmt</th>\n",
       "      <th>GPC_Region</th>\n",
       "      <th>FL_EBILL</th>\n",
       "      <th>CD_AD_TYPE</th>\n",
       "      <th>...</th>\n",
       "      <th>FL_EBILL_E</th>\n",
       "      <th>FL_EBILL_F</th>\n",
       "      <th>FL_EBILL_I</th>\n",
       "      <th>FL_EBILL_M</th>\n",
       "      <th>FL_EBILL_N</th>\n",
       "      <th>CD_AD_TYPE_C</th>\n",
       "      <th>CD_AD_TYPE_L</th>\n",
       "      <th>CD_AD_TYPE_M</th>\n",
       "      <th>CD_AD_TYPE_P</th>\n",
       "      <th>CD_AD_TYPE_Y</th>\n",
       "    </tr>\n",
       "  </thead>\n",
       "  <tbody>\n",
       "    <tr>\n",
       "      <td>0</td>\n",
       "      <td>6.846575</td>\n",
       "      <td>12000.0</td>\n",
       "      <td>0.111111</td>\n",
       "      <td>6.0</td>\n",
       "      <td>2200.56</td>\n",
       "      <td>1.0</td>\n",
       "      <td>Manufacturing</td>\n",
       "      <td>Southeast</td>\n",
       "      <td>N</td>\n",
       "      <td>M</td>\n",
       "      <td>...</td>\n",
       "      <td>0</td>\n",
       "      <td>0</td>\n",
       "      <td>0</td>\n",
       "      <td>0</td>\n",
       "      <td>1</td>\n",
       "      <td>0</td>\n",
       "      <td>0</td>\n",
       "      <td>1</td>\n",
       "      <td>0</td>\n",
       "      <td>0</td>\n",
       "    </tr>\n",
       "    <tr>\n",
       "      <td>1</td>\n",
       "      <td>1.210959</td>\n",
       "      <td>167244.0</td>\n",
       "      <td>-0.078469</td>\n",
       "      <td>7.0</td>\n",
       "      <td>0.00</td>\n",
       "      <td>1.0</td>\n",
       "      <td>Office/Real Estate</td>\n",
       "      <td>Northwest</td>\n",
       "      <td>M</td>\n",
       "      <td>M</td>\n",
       "      <td>...</td>\n",
       "      <td>0</td>\n",
       "      <td>0</td>\n",
       "      <td>0</td>\n",
       "      <td>1</td>\n",
       "      <td>0</td>\n",
       "      <td>0</td>\n",
       "      <td>0</td>\n",
       "      <td>1</td>\n",
       "      <td>0</td>\n",
       "      <td>0</td>\n",
       "    </tr>\n",
       "    <tr>\n",
       "      <td>2</td>\n",
       "      <td>2.123288</td>\n",
       "      <td>168898.0</td>\n",
       "      <td>-0.047383</td>\n",
       "      <td>1.0</td>\n",
       "      <td>22444.97</td>\n",
       "      <td>1.0</td>\n",
       "      <td>Office/Real Estate</td>\n",
       "      <td>Northwest</td>\n",
       "      <td>M</td>\n",
       "      <td>M</td>\n",
       "      <td>...</td>\n",
       "      <td>0</td>\n",
       "      <td>0</td>\n",
       "      <td>0</td>\n",
       "      <td>1</td>\n",
       "      <td>0</td>\n",
       "      <td>0</td>\n",
       "      <td>0</td>\n",
       "      <td>1</td>\n",
       "      <td>0</td>\n",
       "      <td>0</td>\n",
       "    </tr>\n",
       "    <tr>\n",
       "      <td>3</td>\n",
       "      <td>22.915068</td>\n",
       "      <td>52489.0</td>\n",
       "      <td>-0.231651</td>\n",
       "      <td>7.0</td>\n",
       "      <td>3181.58</td>\n",
       "      <td>1.0</td>\n",
       "      <td>Hotels/Lodging</td>\n",
       "      <td>Northwest</td>\n",
       "      <td>D</td>\n",
       "      <td>M</td>\n",
       "      <td>...</td>\n",
       "      <td>0</td>\n",
       "      <td>0</td>\n",
       "      <td>0</td>\n",
       "      <td>0</td>\n",
       "      <td>0</td>\n",
       "      <td>0</td>\n",
       "      <td>0</td>\n",
       "      <td>1</td>\n",
       "      <td>0</td>\n",
       "      <td>0</td>\n",
       "    </tr>\n",
       "    <tr>\n",
       "      <td>4</td>\n",
       "      <td>16.715068</td>\n",
       "      <td>61200.0</td>\n",
       "      <td>-0.055556</td>\n",
       "      <td>3.0</td>\n",
       "      <td>7348.08</td>\n",
       "      <td>1.0</td>\n",
       "      <td>Retail/Mercantile</td>\n",
       "      <td>Northwest</td>\n",
       "      <td>D</td>\n",
       "      <td>M</td>\n",
       "      <td>...</td>\n",
       "      <td>0</td>\n",
       "      <td>0</td>\n",
       "      <td>0</td>\n",
       "      <td>0</td>\n",
       "      <td>0</td>\n",
       "      <td>0</td>\n",
       "      <td>0</td>\n",
       "      <td>1</td>\n",
       "      <td>0</td>\n",
       "      <td>0</td>\n",
       "    </tr>\n",
       "    <tr>\n",
       "      <td>...</td>\n",
       "      <td>...</td>\n",
       "      <td>...</td>\n",
       "      <td>...</td>\n",
       "      <td>...</td>\n",
       "      <td>...</td>\n",
       "      <td>...</td>\n",
       "      <td>...</td>\n",
       "      <td>...</td>\n",
       "      <td>...</td>\n",
       "      <td>...</td>\n",
       "      <td>...</td>\n",
       "      <td>...</td>\n",
       "      <td>...</td>\n",
       "      <td>...</td>\n",
       "      <td>...</td>\n",
       "      <td>...</td>\n",
       "      <td>...</td>\n",
       "      <td>...</td>\n",
       "      <td>...</td>\n",
       "      <td>...</td>\n",
       "      <td>...</td>\n",
       "    </tr>\n",
       "    <tr>\n",
       "      <td>967084</td>\n",
       "      <td>21.701370</td>\n",
       "      <td>169600.0</td>\n",
       "      <td>0.157205</td>\n",
       "      <td>1.0</td>\n",
       "      <td>13153.06</td>\n",
       "      <td>1.0</td>\n",
       "      <td>Retail/Mercantile</td>\n",
       "      <td>Northwest</td>\n",
       "      <td>D</td>\n",
       "      <td>M</td>\n",
       "      <td>...</td>\n",
       "      <td>0</td>\n",
       "      <td>0</td>\n",
       "      <td>0</td>\n",
       "      <td>0</td>\n",
       "      <td>0</td>\n",
       "      <td>0</td>\n",
       "      <td>0</td>\n",
       "      <td>1</td>\n",
       "      <td>0</td>\n",
       "      <td>0</td>\n",
       "    </tr>\n",
       "    <tr>\n",
       "      <td>967085</td>\n",
       "      <td>20.353425</td>\n",
       "      <td>3022.0</td>\n",
       "      <td>0.548949</td>\n",
       "      <td>4.0</td>\n",
       "      <td>406.62</td>\n",
       "      <td>1.0</td>\n",
       "      <td>Services</td>\n",
       "      <td>Northwest</td>\n",
       "      <td>E</td>\n",
       "      <td>M</td>\n",
       "      <td>...</td>\n",
       "      <td>1</td>\n",
       "      <td>0</td>\n",
       "      <td>0</td>\n",
       "      <td>0</td>\n",
       "      <td>0</td>\n",
       "      <td>0</td>\n",
       "      <td>0</td>\n",
       "      <td>1</td>\n",
       "      <td>0</td>\n",
       "      <td>0</td>\n",
       "    </tr>\n",
       "    <tr>\n",
       "      <td>967086</td>\n",
       "      <td>1.334247</td>\n",
       "      <td>262.0</td>\n",
       "      <td>0.180180</td>\n",
       "      <td>4.0</td>\n",
       "      <td>216.83</td>\n",
       "      <td>1.0</td>\n",
       "      <td>Education</td>\n",
       "      <td>Northwest</td>\n",
       "      <td>E</td>\n",
       "      <td>M</td>\n",
       "      <td>...</td>\n",
       "      <td>1</td>\n",
       "      <td>0</td>\n",
       "      <td>0</td>\n",
       "      <td>0</td>\n",
       "      <td>0</td>\n",
       "      <td>0</td>\n",
       "      <td>0</td>\n",
       "      <td>1</td>\n",
       "      <td>0</td>\n",
       "      <td>0</td>\n",
       "    </tr>\n",
       "    <tr>\n",
       "      <td>967087</td>\n",
       "      <td>32.109589</td>\n",
       "      <td>156.0</td>\n",
       "      <td>0.000000</td>\n",
       "      <td>3.0</td>\n",
       "      <td>16.22</td>\n",
       "      <td>1.0</td>\n",
       "      <td>Manufacturing</td>\n",
       "      <td>Northwest</td>\n",
       "      <td>M</td>\n",
       "      <td>C</td>\n",
       "      <td>...</td>\n",
       "      <td>0</td>\n",
       "      <td>0</td>\n",
       "      <td>0</td>\n",
       "      <td>1</td>\n",
       "      <td>0</td>\n",
       "      <td>1</td>\n",
       "      <td>0</td>\n",
       "      <td>0</td>\n",
       "      <td>0</td>\n",
       "      <td>0</td>\n",
       "    </tr>\n",
       "    <tr>\n",
       "      <td>967088</td>\n",
       "      <td>7.835616</td>\n",
       "      <td>453.0</td>\n",
       "      <td>0.000000</td>\n",
       "      <td>3.0</td>\n",
       "      <td>92.11</td>\n",
       "      <td>1.0</td>\n",
       "      <td>Construction</td>\n",
       "      <td>Northwest</td>\n",
       "      <td>D</td>\n",
       "      <td>C</td>\n",
       "      <td>...</td>\n",
       "      <td>0</td>\n",
       "      <td>0</td>\n",
       "      <td>0</td>\n",
       "      <td>0</td>\n",
       "      <td>0</td>\n",
       "      <td>1</td>\n",
       "      <td>0</td>\n",
       "      <td>0</td>\n",
       "      <td>0</td>\n",
       "      <td>0</td>\n",
       "    </tr>\n",
       "  </tbody>\n",
       "</table>\n",
       "<p>967089 rows × 48 columns</p>\n",
       "</div>"
      ],
      "text/plain": [
       "        Account_Age  electricity_monthly_usage     chgrt  SQFT_Code  \\\n",
       "0          6.846575                    12000.0  0.111111        6.0   \n",
       "1          1.210959                   167244.0 -0.078469        7.0   \n",
       "2          2.123288                   168898.0 -0.047383        1.0   \n",
       "3         22.915068                    52489.0 -0.231651        7.0   \n",
       "4         16.715068                    61200.0 -0.055556        3.0   \n",
       "...             ...                        ...       ...        ...   \n",
       "967084    21.701370                   169600.0  0.157205        1.0   \n",
       "967085    20.353425                     3022.0  0.548949        4.0   \n",
       "967086     1.334247                      262.0  0.180180        4.0   \n",
       "967087    32.109589                      156.0  0.000000        3.0   \n",
       "967088     7.835616                      453.0  0.000000        3.0   \n",
       "\n",
       "        mothly_Payment  Credit_Rating                sgmt GPC_Region FL_EBILL  \\\n",
       "0              2200.56            1.0       Manufacturing  Southeast        N   \n",
       "1                 0.00            1.0  Office/Real Estate  Northwest        M   \n",
       "2             22444.97            1.0  Office/Real Estate  Northwest        M   \n",
       "3              3181.58            1.0      Hotels/Lodging  Northwest        D   \n",
       "4              7348.08            1.0   Retail/Mercantile  Northwest        D   \n",
       "...                ...            ...                 ...        ...      ...   \n",
       "967084        13153.06            1.0   Retail/Mercantile  Northwest        D   \n",
       "967085          406.62            1.0            Services  Northwest        E   \n",
       "967086          216.83            1.0           Education  Northwest        E   \n",
       "967087           16.22            1.0       Manufacturing  Northwest        M   \n",
       "967088           92.11            1.0        Construction  Northwest        D   \n",
       "\n",
       "       CD_AD_TYPE  ...  FL_EBILL_E  FL_EBILL_F  FL_EBILL_I  FL_EBILL_M  \\\n",
       "0               M  ...           0           0           0           0   \n",
       "1               M  ...           0           0           0           1   \n",
       "2               M  ...           0           0           0           1   \n",
       "3               M  ...           0           0           0           0   \n",
       "4               M  ...           0           0           0           0   \n",
       "...           ...  ...         ...         ...         ...         ...   \n",
       "967084          M  ...           0           0           0           0   \n",
       "967085          M  ...           1           0           0           0   \n",
       "967086          M  ...           1           0           0           0   \n",
       "967087          C  ...           0           0           0           1   \n",
       "967088          C  ...           0           0           0           0   \n",
       "\n",
       "        FL_EBILL_N  CD_AD_TYPE_C  CD_AD_TYPE_L  CD_AD_TYPE_M  CD_AD_TYPE_P  \\\n",
       "0                1             0             0             1             0   \n",
       "1                0             0             0             1             0   \n",
       "2                0             0             0             1             0   \n",
       "3                0             0             0             1             0   \n",
       "4                0             0             0             1             0   \n",
       "...            ...           ...           ...           ...           ...   \n",
       "967084           0             0             0             1             0   \n",
       "967085           0             0             0             1             0   \n",
       "967086           0             0             0             1             0   \n",
       "967087           0             1             0             0             0   \n",
       "967088           0             1             0             0             0   \n",
       "\n",
       "        CD_AD_TYPE_Y  \n",
       "0                  0  \n",
       "1                  0  \n",
       "2                  0  \n",
       "3                  0  \n",
       "4                  0  \n",
       "...              ...  \n",
       "967084             0  \n",
       "967085             0  \n",
       "967086             0  \n",
       "967087             0  \n",
       "967088             0  \n",
       "\n",
       "[967089 rows x 48 columns]"
      ]
     },
     "execution_count": 42,
     "metadata": {},
     "output_type": "execute_result"
    }
   ],
   "source": [
    "All_Data"
   ]
  },
  {
   "cell_type": "code",
   "execution_count": 40,
   "metadata": {},
   "outputs": [],
   "source": [
    "data_vars = All_Data.columns.values.tolist()\n",
    "to_keep = [i for i in data_vars if i not in cat_vars]"
   ]
  },
  {
   "cell_type": "code",
   "execution_count": 41,
   "metadata": {},
   "outputs": [],
   "source": [
    "X_All=All_Data[to_keep]"
   ]
  },
  {
   "cell_type": "code",
   "execution_count": 43,
   "metadata": {},
   "outputs": [],
   "source": [
    "X_Train = X_All.iloc[:322363, :]"
   ]
  },
  {
   "cell_type": "code",
   "execution_count": 44,
   "metadata": {},
   "outputs": [],
   "source": [
    "Mar_Label = data_Mar[\"In_Arrears\"]"
   ]
  },
  {
   "cell_type": "code",
   "execution_count": 45,
   "metadata": {},
   "outputs": [],
   "source": [
    "X_train, X_test, y_train, y_test = train_test_split(X_Train, Mar_Label, test_size=0.3, random_state=0)"
   ]
  },
  {
   "cell_type": "code",
   "execution_count": 46,
   "metadata": {
    "scrolled": true
   },
   "outputs": [
    {
     "name": "stdout",
     "output_type": "stream",
     "text": [
      "length of oversampled data is  406032\n",
      "Number of non-arrears in oversampled data 203016\n",
      "Number of arrears in oversampled data 203016\n",
      "Proportion of non-arrears data in oversampled data is  0.5\n",
      "Proportion of arrears data in oversampled data is  0.5\n"
     ]
    }
   ],
   "source": [
    "#SMOTE\n",
    "from imblearn.over_sampling import SMOTE\n",
    "os = SMOTE(random_state=0)\n",
    "columns = X_train.columns\n",
    "os_data_X,os_data_y=os.fit_sample(X_train, y_train)\n",
    "os_data_X = pd.DataFrame(data=os_data_X,columns=columns )\n",
    "os_data_y= pd.DataFrame(data=os_data_y,columns=['In_Arrears'])\n",
    "# we can Check the numbers of our data\n",
    "print(\"length of oversampled data is \",len(os_data_X))\n",
    "print(\"Number of non-arrears in oversampled data\",len(os_data_y[os_data_y['In_Arrears']==0]))\n",
    "print(\"Number of arrears in oversampled data\",len(os_data_y[os_data_y['In_Arrears']==1]))\n",
    "print(\"Proportion of non-arrears data in oversampled data is \",len(os_data_y[os_data_y['In_Arrears']==0])/len(os_data_X))\n",
    "print(\"Proportion of arrears data in oversampled data is \",len(os_data_y[os_data_y['In_Arrears']==1])/len(os_data_X))"
   ]
  },
  {
   "cell_type": "code",
   "execution_count": 47,
   "metadata": {
    "scrolled": false
   },
   "outputs": [
    {
     "name": "stdout",
     "output_type": "stream",
     "text": [
      "Warning: Maximum number of iterations has been exceeded.\n",
      "         Current function value: 0.300044\n",
      "         Iterations: 35\n",
      "                                       Results: Logit\n",
      "============================================================================================\n",
      "Model:                        Logit                    Pseudo R-squared:         0.567      \n",
      "Dependent Variable:           In_Arrears               AIC:                      243743.3273\n",
      "Date:                         2020-06-22 12:15         BIC:                      244223.5515\n",
      "No. Observations:             406032                   Log-Likelihood:           -1.2183e+05\n",
      "Df Model:                     43                       LL-Null:                  -2.8144e+05\n",
      "Df Residuals:                 405988                   LLR p-value:              0.0000     \n",
      "Converged:                    0.0000                   Scale:                    1.0000     \n",
      "No. Iterations:               35.0000                                                       \n",
      "--------------------------------------------------------------------------------------------\n",
      "                                Coef.    Std.Err.      z     P>|z|     [0.025       0.975]  \n",
      "--------------------------------------------------------------------------------------------\n",
      "Account_Age                      0.0187     0.0006   32.2880 0.0000       0.0176      0.0199\n",
      "electricity_monthly_usage        0.0000     0.0000   24.0839 0.0000       0.0000      0.0000\n",
      "chgrt                            0.0043     0.0013    3.3566 0.0008       0.0018      0.0068\n",
      "SQFT_Code                        0.3731     0.0031  121.5923 0.0000       0.3671      0.3791\n",
      "mothly_Payment                  -0.0002     0.0000  -28.0649 0.0000      -0.0002     -0.0002\n",
      "Credit_Rating                    1.3337     0.0055  243.5449 0.0000       1.3229      1.3444\n",
      "sgmt_Agriculture                -4.1097     0.0948  -43.3501 0.0000      -4.2955     -3.9239\n",
      "sgmt_Amusement                  -3.8387     0.0479  -80.1372 0.0000      -3.9326     -3.7448\n",
      "sgmt_Communications             -2.3710     0.0343  -69.1654 0.0000      -2.4382     -2.3039\n",
      "sgmt_Construction               -2.7273     0.0254 -107.2029 0.0000      -2.7771     -2.6774\n",
      "sgmt_Convenience Stores         -3.9453     0.1083  -36.4278 0.0000      -4.1576     -3.7330\n",
      "sgmt_Data Center & Web Service  -4.1689     0.3662  -11.3827 0.0000      -4.8867     -3.4511\n",
      "sgmt_Education                  -4.5523     0.0630  -72.3090 0.0000      -4.6757     -4.4289\n",
      "sgmt_Government                 -5.6212     0.0615  -91.3835 0.0000      -5.7417     -5.5006\n",
      "sgmt_Grocery                    -3.4839     0.0629  -55.3971 0.0000      -3.6071     -3.3606\n",
      "sgmt_Healthcare                 -4.3484     0.0494  -88.0226 0.0000      -4.4452     -4.2516\n",
      "sgmt_Hotels/Lodging             -2.8550     0.0579  -49.2693 0.0000      -2.9686     -2.7414\n",
      "sgmt_Manufacturing              -3.8736     0.0319 -121.4565 0.0000      -3.9361     -3.8111\n",
      "sgmt_Office/Real Estate         -2.6969     0.0178 -151.3198 0.0000      -2.7318     -2.6620\n",
      "sgmt_Other                      -3.6226     0.0337 -107.6472 0.0000      -3.6886     -3.5567\n",
      "sgmt_Restaurants                -2.1278     0.0250  -85.0137 0.0000      -2.1769     -2.0788\n",
      "sgmt_Retail/Mercantile          -3.0830     0.0237 -130.1308 0.0000      -3.1295     -3.0366\n",
      "sgmt_Services                   -2.5614     0.0236 -108.5423 0.0000      -2.6076     -2.5151\n",
      "sgmt_Transportation             -4.2653     0.0676  -63.1390 0.0000      -4.3977     -4.1329\n",
      "sgmt_Utility                    -4.2598     0.0696  -61.1740 0.0000      -4.3962     -4.1233\n",
      "sgmt_Warehouses                 -4.1075     0.0686  -59.8753 0.0000      -4.2419     -3.9730\n",
      "sgmt_Wholesale                  -4.4493     0.0590  -75.3777 0.0000      -4.5650     -4.3336\n",
      "sgmt_Worship                    -3.8591     0.0386 -100.0474 0.0000      -3.9348     -3.7835\n",
      "GPC_Region_Missing               1.4578     0.0406   35.9112 0.0000       1.3782      1.5374\n",
      "GPC_Region_Northeast            -1.2427     0.0223  -55.8093 0.0000      -1.2864     -1.1991\n",
      "GPC_Region_Northwest            -0.8082     0.0160  -50.5022 0.0000      -0.8396     -0.7769\n",
      "GPC_Region_Southeast            -1.2551     0.0228  -54.9811 0.0000      -1.2999     -1.2104\n",
      "GPC_Region_Southwest            -0.8030     0.0212  -37.8928 0.0000      -0.8446     -0.7615\n",
      "FL_EBILL_D                      -3.3167     0.0610  -54.3517 0.0000      -3.4363     -3.1971\n",
      "FL_EBILL_E                      -0.1814     0.0181  -10.0161 0.0000      -0.2170     -0.1459\n",
      "FL_EBILL_F                     -23.6245 63844.6975   -0.0004 0.9997 -125156.9322 125109.6832\n",
      "FL_EBILL_I                     -13.7543   411.3733   -0.0334 0.9733    -820.0312    792.5226\n",
      "FL_EBILL_M                      -0.7886     0.0237  -33.3160 0.0000      -0.8350     -0.7422\n",
      "FL_EBILL_N                       0.0167     0.0170    0.9820 0.3261      -0.0166      0.0500\n",
      "CD_AD_TYPE_C                    -0.4077     0.0208  -19.6301 0.0000      -0.4484     -0.3670\n",
      "CD_AD_TYPE_L                    -1.3711     0.1425   -9.6188 0.0000      -1.6505     -1.0918\n",
      "CD_AD_TYPE_M                    -0.6015     0.0167  -35.9264 0.0000      -0.6343     -0.5687\n",
      "CD_AD_TYPE_P                    -0.4469     0.0188  -23.7468 0.0000      -0.4838     -0.4100\n",
      "CD_AD_TYPE_Y                    -1.6889     0.2405   -7.0224 0.0000      -2.1602     -1.2175\n",
      "============================================================================================\n",
      "\n"
     ]
    }
   ],
   "source": [
    "import statsmodels.api as sm\n",
    "logit_model=sm.Logit(os_data_y,os_data_X)\n",
    "result=logit_model.fit()\n",
    "print(result.summary2())"
   ]
  },
  {
   "cell_type": "code",
   "execution_count": 48,
   "metadata": {},
   "outputs": [
    {
     "name": "stdout",
     "output_type": "stream",
     "text": [
      "Optimization terminated successfully.\n",
      "         Current function value: 0.300865\n",
      "         Iterations 8\n",
      "                                 Results: Logit\n",
      "================================================================================\n",
      "Model:                    Logit                Pseudo R-squared:     0.566      \n",
      "Dependent Variable:       In_Arrears           AIC:                  244401.7887\n",
      "Date:                     2020-06-22 12:16     BIC:                  244838.3562\n",
      "No. Observations:         406032               Log-Likelihood:       -1.2216e+05\n",
      "Df Model:                 39                   LL-Null:              -2.8144e+05\n",
      "Df Residuals:             405992               LLR p-value:          0.0000     \n",
      "Converged:                1.0000               Scale:                1.0000     \n",
      "No. Iterations:           8.0000                                                \n",
      "--------------------------------------------------------------------------------\n",
      "                                Coef.  Std.Err.     z     P>|z|   [0.025  0.975]\n",
      "--------------------------------------------------------------------------------\n",
      "Account_Age                     0.0185   0.0006   31.9106 0.0000  0.0173  0.0196\n",
      "chgrt                           0.0044   0.0013    3.3747 0.0007  0.0018  0.0069\n",
      "SQFT_Code                       0.3745   0.0030  124.1046 0.0000  0.3686  0.3804\n",
      "mothly_Payment                 -0.0000   0.0000  -16.8662 0.0000 -0.0001 -0.0000\n",
      "Credit_Rating                   1.3332   0.0055  244.3933 0.0000  1.3225  1.3439\n",
      "sgmt_Agriculture               -4.0778   0.0941  -43.3393 0.0000 -4.2622 -3.8934\n",
      "sgmt_Amusement                 -3.8446   0.0477  -80.5477 0.0000 -3.9382 -3.7511\n",
      "sgmt_Communications            -2.3769   0.0339  -70.1232 0.0000 -2.4433 -2.3105\n",
      "sgmt_Construction              -2.7278   0.0250 -108.9629 0.0000 -2.7769 -2.6787\n",
      "sgmt_Convenience Stores        -3.9450   0.1080  -36.5285 0.0000 -4.1566 -3.7333\n",
      "sgmt_Data Center & Web Service -3.8341   0.3440  -11.1470 0.0000 -4.5083 -3.1600\n",
      "sgmt_Education                 -4.5622   0.0627  -72.7198 0.0000 -4.6852 -4.4392\n",
      "sgmt_Government                -5.6241   0.0614  -91.5365 0.0000 -5.7446 -5.5037\n",
      "sgmt_Grocery                   -3.4117   0.0625  -54.5855 0.0000 -3.5342 -3.2892\n",
      "sgmt_Healthcare                -4.3486   0.0492  -88.4574 0.0000 -4.4449 -4.2522\n",
      "sgmt_Hotels/Lodging            -2.8487   0.0575  -49.5575 0.0000 -2.9614 -2.7360\n",
      "sgmt_Manufacturing             -3.8669   0.0316 -122.3886 0.0000 -3.9288 -3.8050\n",
      "sgmt_Office/Real Estate        -2.7032   0.0174 -155.7708 0.0000 -2.7372 -2.6692\n",
      "sgmt_Other                     -3.6316   0.0334 -108.6177 0.0000 -3.6971 -3.5660\n",
      "sgmt_Restaurants               -2.1238   0.0247  -85.8692 0.0000 -2.1723 -2.0754\n",
      "sgmt_Retail/Mercantile         -3.0857   0.0234 -131.8509 0.0000 -3.1316 -3.0398\n",
      "sgmt_Services                  -2.5622   0.0233 -110.1432 0.0000 -2.6078 -2.5166\n",
      "sgmt_Transportation            -4.2729   0.0674  -63.4112 0.0000 -4.4050 -4.1408\n",
      "sgmt_Utility                   -4.2477   0.0694  -61.1874 0.0000 -4.3837 -4.1116\n",
      "sgmt_Warehouses                -4.1044   0.0683  -60.0599 0.0000 -4.2383 -3.9704\n",
      "sgmt_Wholesale                 -4.4513   0.0589  -75.6161 0.0000 -4.5666 -4.3359\n",
      "sgmt_Worship                   -3.8678   0.0383 -100.9222 0.0000 -3.9429 -3.7927\n",
      "GPC_Region_Missing              1.4598   0.0404   36.1538 0.0000  1.3807  1.5390\n",
      "GPC_Region_Northeast           -1.2431   0.0218  -57.0110 0.0000 -1.2858 -1.2003\n",
      "GPC_Region_Northwest           -0.8095   0.0156  -51.9834 0.0000 -0.8400 -0.7790\n",
      "GPC_Region_Southeast           -1.2567   0.0224  -56.1194 0.0000 -1.3006 -1.2128\n",
      "GPC_Region_Southwest           -0.8041   0.0207  -38.8859 0.0000 -0.8446 -0.7636\n",
      "FL_EBILL_D                     -3.2457   0.0578  -56.1138 0.0000 -3.3591 -3.1324\n",
      "FL_EBILL_E                     -0.1931   0.0130  -14.8696 0.0000 -0.2185 -0.1676\n",
      "FL_EBILL_M                     -0.7878   0.0191  -41.1584 0.0000 -0.8253 -0.7503\n",
      "CD_AD_TYPE_C                   -0.4057   0.0201  -20.1366 0.0000 -0.4452 -0.3662\n",
      "CD_AD_TYPE_L                   -1.3623   0.1426   -9.5567 0.0000 -1.6417 -1.0829\n",
      "CD_AD_TYPE_M                   -0.5979   0.0162  -36.9917 0.0000 -0.6296 -0.5662\n",
      "CD_AD_TYPE_P                   -0.4472   0.0183  -24.3773 0.0000 -0.4831 -0.4112\n",
      "CD_AD_TYPE_Y                   -1.6923   0.2406   -7.0340 0.0000 -2.1639 -1.2208\n",
      "================================================================================\n",
      "\n"
     ]
    }
   ],
   "source": [
    "cols_drop = ['FL_EBILL_N', 'FL_EBILL_F', 'FL_EBILL_I', 'electricity_monthly_usage']\n",
    "os_X = os_data_X.drop(columns=cols_drop)\n",
    "logit_model2=sm.Logit(os_data_y, os_X)\n",
    "result2=logit_model2.fit()\n",
    "print(result2.summary2())"
   ]
  },
  {
   "cell_type": "code",
   "execution_count": 49,
   "metadata": {},
   "outputs": [],
   "source": [
    "feature_name = os_X.columns.values.tolist()"
   ]
  },
  {
   "cell_type": "code",
   "execution_count": 55,
   "metadata": {
    "scrolled": true
   },
   "outputs": [
    {
     "data": {
      "text/plain": [
       "LogisticRegression(C=10)"
      ]
     },
     "execution_count": 55,
     "metadata": {},
     "output_type": "execute_result"
    }
   ],
   "source": [
    "from sklearn.linear_model import LogisticRegression\n",
    "from sklearn import metrics\n",
    "logreg = LogisticRegression(C = 10)\n",
    "logreg.fit(os_X, os_data_y)"
   ]
  },
  {
   "cell_type": "code",
   "execution_count": 56,
   "metadata": {
    "scrolled": true
   },
   "outputs": [
    {
     "name": "stdout",
     "output_type": "stream",
     "text": [
      "Accuracy of logistic regression classifier on test set: 0.88\n"
     ]
    }
   ],
   "source": [
    "X_testd = X_test.drop(columns=cols_drop)\n",
    "y_test_pred = logreg.predict(X_testd)\n",
    "y_train_pred = logreg.predict(os_X)\n",
    "print('Accuracy of logistic regression classifier on test set: {:.2f}'.format(logreg.score(X_testd, y_test)))"
   ]
  },
  {
   "cell_type": "code",
   "execution_count": 57,
   "metadata": {},
   "outputs": [
    {
     "name": "stdout",
     "output_type": "stream",
     "text": [
      "[[80861  5989]\n",
      " [ 5840  4019]]\n"
     ]
    }
   ],
   "source": [
    "from sklearn.metrics import confusion_matrix\n",
    "confusion_matrix = confusion_matrix(y_test, y_test_pred)\n",
    "print(confusion_matrix)"
   ]
  },
  {
   "cell_type": "markdown",
   "metadata": {},
   "source": [
    "Recall: Recall gives us an idea about when it's actually yes, how often does it predict yes.\\\n",
    "Precision: Precision tells us about when it predicts yes, how often it is correct.\\\n",
    "F-measure: (2*Recall*Precision)/(Recall+Precision).\\\n",
    "High recall, low precision: This means that most of the positive examples are correctly recognized (Low FN) but there are a lot of false positive.\\\n",
    "Low recall, high precision: This shows that we miss a lof of positive examples(high FN) but those we predict positive are indeed positive (low FP).\\\n",
    "F-measure: Since we have two measures (Precision and Recall) it helps to have a measurement that represents both of them. We calculate an F-measure which uses Harmonic Mean in place of Arithmetic Mean as it punishes the extreme values more. The F-Measure will always be nearer to the smaller value of Precision or Recall."
   ]
  },
  {
   "cell_type": "code",
   "execution_count": 58,
   "metadata": {
    "scrolled": true
   },
   "outputs": [
    {
     "name": "stdout",
     "output_type": "stream",
     "text": [
      "              precision    recall  f1-score   support\n",
      "\n",
      "           0       0.93      0.93      0.93     86850\n",
      "           1       0.40      0.41      0.40      9859\n",
      "\n",
      "    accuracy                           0.88     96709\n",
      "   macro avg       0.67      0.67      0.67     96709\n",
      "weighted avg       0.88      0.88      0.88     96709\n",
      "\n"
     ]
    }
   ],
   "source": [
    "from sklearn.metrics import classification_report\n",
    "print(classification_report(y_test, y_test_pred))"
   ]
  },
  {
   "cell_type": "markdown",
   "metadata": {},
   "source": [
    "ROC is a probability curve and AUC represents degree or measure of separability. It tells how much model is capable of distinguishing between classes. Higher the AUC, better the model is at predicting 0s AS 0s and 1s as 1s."
   ]
  },
  {
   "cell_type": "code",
   "execution_count": 54,
   "metadata": {
    "scrolled": true
   },
   "outputs": [
    {
     "data": {
      "image/png": "[encoded data removed]",
      "text/plain": [
       "<Figure size 432x288 with 1 Axes>"
      ]
     },
     "metadata": {
      "needs_background": "light"
     },
     "output_type": "display_data"
    }
   ],
   "source": [
    "from sklearn.metrics import roc_auc_score\n",
    "from sklearn.metrics import roc_curve\n",
    "logit_roc_auc = roc_auc_score(y_test, logreg.predict(X_testd))\n",
    "fpr, tpr, thresholds = roc_curve(y_test, logreg.predict_proba(X_testd)[:,1])\n",
    "plt.figure()\n",
    "plt.plot(fpr, tpr, label='Logistic Regression (area = %0.2f)' % logit_roc_auc)\n",
    "plt.plot([0, 1], [0, 1],'r--')\n",
    "plt.xlim([0.0, 1.0])\n",
    "plt.ylim([0.0, 1.05])\n",
    "plt.xlabel('False Positive Rate')\n",
    "plt.ylabel('True Positive Rate')\n",
    "plt.title('Receiver operating characteristic')\n",
    "plt.legend(loc=\"lower right\")\n",
    "plt.savefig('Log_ROC')\n",
    "plt.show()"
   ]
  },
  {
   "cell_type": "code",
   "execution_count": 70,
   "metadata": {},
   "outputs": [],
   "source": [
    "coefs = np.reshape(np.round(logreg.coef_,5),(-1,1))"
   ]
  },
  {
   "cell_type": "code",
   "execution_count": 71,
   "metadata": {},
   "outputs": [
    {
     "data": {
      "text/html": [
       "<div>\n",
       "<style scoped>\n",
       "    .dataframe tbody tr th:only-of-type {\n",
       "        vertical-align: middle;\n",
       "    }\n",
       "\n",
       "    .dataframe tbody tr th {\n",
       "        vertical-align: top;\n",
       "    }\n",
       "\n",
       "    .dataframe thead th {\n",
       "        text-align: right;\n",
       "    }\n",
       "</style>\n",
       "<table border=\"1\" class=\"dataframe\">\n",
       "  <thead>\n",
       "    <tr style=\"text-align: right;\">\n",
       "      <th></th>\n",
       "      <th>feature_name</th>\n",
       "      <th>coef</th>\n",
       "    </tr>\n",
       "  </thead>\n",
       "  <tbody>\n",
       "    <tr>\n",
       "      <td>0</td>\n",
       "      <td>Account_Age</td>\n",
       "      <td>-0.01756</td>\n",
       "    </tr>\n",
       "    <tr>\n",
       "      <td>1</td>\n",
       "      <td>chgrt</td>\n",
       "      <td>-0.41018</td>\n",
       "    </tr>\n",
       "    <tr>\n",
       "      <td>2</td>\n",
       "      <td>SQFT_Code</td>\n",
       "      <td>0.19912</td>\n",
       "    </tr>\n",
       "    <tr>\n",
       "      <td>3</td>\n",
       "      <td>mothly_Payment</td>\n",
       "      <td>-0.00021</td>\n",
       "    </tr>\n",
       "    <tr>\n",
       "      <td>4</td>\n",
       "      <td>Credit_Rating</td>\n",
       "      <td>1.21786</td>\n",
       "    </tr>\n",
       "    <tr>\n",
       "      <td>5</td>\n",
       "      <td>sgmt_Agriculture</td>\n",
       "      <td>-0.09005</td>\n",
       "    </tr>\n",
       "    <tr>\n",
       "      <td>6</td>\n",
       "      <td>sgmt_Amusement</td>\n",
       "      <td>-0.17814</td>\n",
       "    </tr>\n",
       "    <tr>\n",
       "      <td>7</td>\n",
       "      <td>sgmt_Communications</td>\n",
       "      <td>-0.44001</td>\n",
       "    </tr>\n",
       "    <tr>\n",
       "      <td>8</td>\n",
       "      <td>sgmt_Construction</td>\n",
       "      <td>-0.39937</td>\n",
       "    </tr>\n",
       "    <tr>\n",
       "      <td>9</td>\n",
       "      <td>sgmt_Convenience Stores</td>\n",
       "      <td>-0.06037</td>\n",
       "    </tr>\n",
       "    <tr>\n",
       "      <td>10</td>\n",
       "      <td>sgmt_Data Center &amp; Web Service</td>\n",
       "      <td>-0.00538</td>\n",
       "    </tr>\n",
       "    <tr>\n",
       "      <td>11</td>\n",
       "      <td>sgmt_Education</td>\n",
       "      <td>-0.14191</td>\n",
       "    </tr>\n",
       "    <tr>\n",
       "      <td>12</td>\n",
       "      <td>sgmt_Government</td>\n",
       "      <td>-0.39552</td>\n",
       "    </tr>\n",
       "    <tr>\n",
       "      <td>13</td>\n",
       "      <td>sgmt_Grocery</td>\n",
       "      <td>-0.09010</td>\n",
       "    </tr>\n",
       "    <tr>\n",
       "      <td>14</td>\n",
       "      <td>sgmt_Healthcare</td>\n",
       "      <td>-0.33160</td>\n",
       "    </tr>\n",
       "    <tr>\n",
       "      <td>15</td>\n",
       "      <td>sgmt_Hotels/Lodging</td>\n",
       "      <td>-0.05744</td>\n",
       "    </tr>\n",
       "    <tr>\n",
       "      <td>16</td>\n",
       "      <td>sgmt_Manufacturing</td>\n",
       "      <td>-0.54169</td>\n",
       "    </tr>\n",
       "    <tr>\n",
       "      <td>17</td>\n",
       "      <td>sgmt_Office/Real Estate</td>\n",
       "      <td>-0.75457</td>\n",
       "    </tr>\n",
       "    <tr>\n",
       "      <td>18</td>\n",
       "      <td>sgmt_Other</td>\n",
       "      <td>-0.51459</td>\n",
       "    </tr>\n",
       "    <tr>\n",
       "      <td>19</td>\n",
       "      <td>sgmt_Restaurants</td>\n",
       "      <td>-0.18808</td>\n",
       "    </tr>\n",
       "    <tr>\n",
       "      <td>20</td>\n",
       "      <td>sgmt_Retail/Mercantile</td>\n",
       "      <td>-0.66091</td>\n",
       "    </tr>\n",
       "    <tr>\n",
       "      <td>21</td>\n",
       "      <td>sgmt_Services</td>\n",
       "      <td>-0.39212</td>\n",
       "    </tr>\n",
       "    <tr>\n",
       "      <td>22</td>\n",
       "      <td>sgmt_Transportation</td>\n",
       "      <td>-0.10106</td>\n",
       "    </tr>\n",
       "    <tr>\n",
       "      <td>23</td>\n",
       "      <td>sgmt_Utility</td>\n",
       "      <td>-0.14090</td>\n",
       "    </tr>\n",
       "    <tr>\n",
       "      <td>24</td>\n",
       "      <td>sgmt_Warehouses</td>\n",
       "      <td>-0.14954</td>\n",
       "    </tr>\n",
       "    <tr>\n",
       "      <td>25</td>\n",
       "      <td>sgmt_Wholesale</td>\n",
       "      <td>-0.21143</td>\n",
       "    </tr>\n",
       "    <tr>\n",
       "      <td>26</td>\n",
       "      <td>sgmt_Worship</td>\n",
       "      <td>-0.34726</td>\n",
       "    </tr>\n",
       "    <tr>\n",
       "      <td>27</td>\n",
       "      <td>GPC_Region_Missing</td>\n",
       "      <td>-0.13673</td>\n",
       "    </tr>\n",
       "    <tr>\n",
       "      <td>28</td>\n",
       "      <td>GPC_Region_Northeast</td>\n",
       "      <td>-1.06263</td>\n",
       "    </tr>\n",
       "    <tr>\n",
       "      <td>29</td>\n",
       "      <td>GPC_Region_Northwest</td>\n",
       "      <td>-0.99274</td>\n",
       "    </tr>\n",
       "    <tr>\n",
       "      <td>30</td>\n",
       "      <td>GPC_Region_Southeast</td>\n",
       "      <td>-0.97386</td>\n",
       "    </tr>\n",
       "    <tr>\n",
       "      <td>31</td>\n",
       "      <td>GPC_Region_Southwest</td>\n",
       "      <td>-0.91461</td>\n",
       "    </tr>\n",
       "    <tr>\n",
       "      <td>32</td>\n",
       "      <td>FL_EBILL_D</td>\n",
       "      <td>-0.88714</td>\n",
       "    </tr>\n",
       "    <tr>\n",
       "      <td>33</td>\n",
       "      <td>FL_EBILL_M</td>\n",
       "      <td>-0.62500</td>\n",
       "    </tr>\n",
       "    <tr>\n",
       "      <td>34</td>\n",
       "      <td>FL_EBILL_N</td>\n",
       "      <td>-0.53528</td>\n",
       "    </tr>\n",
       "    <tr>\n",
       "      <td>35</td>\n",
       "      <td>CD_AD_TYPE_C</td>\n",
       "      <td>-1.24076</td>\n",
       "    </tr>\n",
       "    <tr>\n",
       "      <td>36</td>\n",
       "      <td>CD_AD_TYPE_L</td>\n",
       "      <td>-0.03738</td>\n",
       "    </tr>\n",
       "    <tr>\n",
       "      <td>37</td>\n",
       "      <td>CD_AD_TYPE_M</td>\n",
       "      <td>-1.27019</td>\n",
       "    </tr>\n",
       "    <tr>\n",
       "      <td>38</td>\n",
       "      <td>CD_AD_TYPE_P</td>\n",
       "      <td>-0.99397</td>\n",
       "    </tr>\n",
       "    <tr>\n",
       "      <td>39</td>\n",
       "      <td>CD_AD_TYPE_Y</td>\n",
       "      <td>-0.01443</td>\n",
       "    </tr>\n",
       "  </tbody>\n",
       "</table>\n",
       "</div>"
      ],
      "text/plain": [
       "                      feature_name     coef\n",
       "0                      Account_Age -0.01756\n",
       "1                            chgrt -0.41018\n",
       "2                        SQFT_Code  0.19912\n",
       "3                   mothly_Payment -0.00021\n",
       "4                    Credit_Rating  1.21786\n",
       "5                 sgmt_Agriculture -0.09005\n",
       "6                   sgmt_Amusement -0.17814\n",
       "7              sgmt_Communications -0.44001\n",
       "8                sgmt_Construction -0.39937\n",
       "9          sgmt_Convenience Stores -0.06037\n",
       "10  sgmt_Data Center & Web Service -0.00538\n",
       "11                  sgmt_Education -0.14191\n",
       "12                 sgmt_Government -0.39552\n",
       "13                    sgmt_Grocery -0.09010\n",
       "14                 sgmt_Healthcare -0.33160\n",
       "15             sgmt_Hotels/Lodging -0.05744\n",
       "16              sgmt_Manufacturing -0.54169\n",
       "17         sgmt_Office/Real Estate -0.75457\n",
       "18                      sgmt_Other -0.51459\n",
       "19                sgmt_Restaurants -0.18808\n",
       "20          sgmt_Retail/Mercantile -0.66091\n",
       "21                   sgmt_Services -0.39212\n",
       "22             sgmt_Transportation -0.10106\n",
       "23                    sgmt_Utility -0.14090\n",
       "24                 sgmt_Warehouses -0.14954\n",
       "25                  sgmt_Wholesale -0.21143\n",
       "26                    sgmt_Worship -0.34726\n",
       "27              GPC_Region_Missing -0.13673\n",
       "28            GPC_Region_Northeast -1.06263\n",
       "29            GPC_Region_Northwest -0.99274\n",
       "30            GPC_Region_Southeast -0.97386\n",
       "31            GPC_Region_Southwest -0.91461\n",
       "32                      FL_EBILL_D -0.88714\n",
       "33                      FL_EBILL_M -0.62500\n",
       "34                      FL_EBILL_N -0.53528\n",
       "35                    CD_AD_TYPE_C -1.24076\n",
       "36                    CD_AD_TYPE_L -0.03738\n",
       "37                    CD_AD_TYPE_M -1.27019\n",
       "38                    CD_AD_TYPE_P -0.99397\n",
       "39                    CD_AD_TYPE_Y -0.01443"
      ]
     },
     "execution_count": 71,
     "metadata": {},
     "output_type": "execute_result"
    }
   ],
   "source": [
    "coef = pd.DataFrame()\n",
    "coef['feature_name'] = feature_name\n",
    "coef['coef'] = coefs\n",
    "coef"
   ]
  },
  {
   "cell_type": "code",
   "execution_count": 72,
   "metadata": {},
   "outputs": [
    {
     "data": {
      "text/plain": [
       "array([0.12751929])"
      ]
     },
     "execution_count": 72,
     "metadata": {},
     "output_type": "execute_result"
    }
   ],
   "source": [
    "logreg.intercept_"
   ]
  },
  {
   "cell_type": "code",
   "execution_count": 73,
   "metadata": {},
   "outputs": [
    {
     "data": {
      "text/plain": [
       "RandomForestClassifier(class_weight='balanced', n_jobs=-1, random_state=42)"
      ]
     },
     "execution_count": 73,
     "metadata": {},
     "output_type": "execute_result"
    }
   ],
   "source": [
    "# Import the model we are using\n",
    "from sklearn.ensemble import RandomForestClassifier\n",
    "rf = RandomForestClassifier(n_estimators = 100, n_jobs=-1, random_state=42, class_weight = 'balanced')# Train the model on training data\n",
    "rf.fit(X_train, y_train)"
   ]
  },
  {
   "cell_type": "code",
   "execution_count": 74,
   "metadata": {},
   "outputs": [
    {
     "name": "stdout",
     "output_type": "stream",
     "text": [
      "Accuracy of Random Forest classifier on test set: 0.92\n"
     ]
    }
   ],
   "source": [
    "y_pred = rf.predict(X_test)\n",
    "print('Accuracy of Random Forest classifier on test set: {:.2f}'.format(rf.score(X_test, y_test)))"
   ]
  },
  {
   "cell_type": "code",
   "execution_count": 75,
   "metadata": {},
   "outputs": [
    {
     "name": "stdout",
     "output_type": "stream",
     "text": [
      "[[169978   3599]\n",
      " [ 11667   8174]]\n"
     ]
    }
   ],
   "source": [
    "from sklearn.metrics import confusion_matrix\n",
    "confusion_matrix = confusion_matrix(y_test, y_pred)\n",
    "print(confusion_matrix)"
   ]
  },
  {
   "cell_type": "code",
   "execution_count": 76,
   "metadata": {
    "scrolled": false
   },
   "outputs": [
    {
     "name": "stdout",
     "output_type": "stream",
     "text": [
      "              precision    recall  f1-score   support\n",
      "\n",
      "           0       0.94      0.98      0.96    173577\n",
      "           1       0.69      0.41      0.52     19841\n",
      "\n",
      "    accuracy                           0.92    193418\n",
      "   macro avg       0.82      0.70      0.74    193418\n",
      "weighted avg       0.91      0.92      0.91    193418\n",
      "\n"
     ]
    }
   ],
   "source": [
    "from sklearn.metrics import classification_report\n",
    "print(classification_report(y_test, y_pred))"
   ]
  },
  {
   "cell_type": "markdown",
   "metadata": {},
   "source": [
    "Tree-specific feature importance measure and computes the average reduction in impurity across all trees in the forest due to each feature. That is, features that tend to split nodes closer to the root of a tree will result in a larger imporance value. When we plot the feature importance of all features below, we see that the most important feature accoring to the algorithm is monthly payment. (Monthly payment is the top feature contributing to the predictions of the model.) Node splits based on this feature on average result in a larger decrease of node impurity."
   ]
  },
  {
   "cell_type": "code",
   "execution_count": 77,
   "metadata": {
    "scrolled": true
   },
   "outputs": [
    {
     "data": {
      "image/png": "[encoded data removed]",
      "text/plain": [
       "<Figure size 800x1200 with 1 Axes>"
      ]
     },
     "metadata": {},
     "output_type": "display_data"
    }
   ],
   "source": [
    "features = X_train.columns\n",
    "importances = rf.feature_importances_\n",
    "indices = np.argsort(importances)\n",
    "from matplotlib.pyplot import figure\n",
    "figure(num=None, figsize=(10, 15), dpi=80, facecolor='w', edgecolor='k')\n",
    "plt.title('Feature Importances')\n",
    "plt.barh(range(len(indices)), importances[indices], color='b', align='center')\n",
    "plt.yticks(range(len(indices)), [features[i] for i in indices])\n",
    "plt.xlabel('Relative Importance')\n",
    "plt.show()"
   ]
  },
  {
   "cell_type": "code",
   "execution_count": 78,
   "metadata": {},
   "outputs": [
    {
     "data": {
      "text/plain": [
       "RandomForestClassifier(n_jobs=-1, random_state=42)"
      ]
     },
     "execution_count": 78,
     "metadata": {},
     "output_type": "execute_result"
    }
   ],
   "source": [
    "rf = RandomForestClassifier(n_estimators = 100, n_jobs=-1, random_state=42)# Train the model on training data\n",
    "rf.fit(os_data_X, os_data_y)"
   ]
  },
  {
   "cell_type": "code",
   "execution_count": 79,
   "metadata": {},
   "outputs": [
    {
     "name": "stdout",
     "output_type": "stream",
     "text": [
      "Accuracy of Random Forest classifier on test set: 0.92\n"
     ]
    }
   ],
   "source": [
    "y_pred = rf.predict(X_test)\n",
    "print('Accuracy of Random Forest classifier on test set: {:.2f}'.format(rf.score(X_test, y_test)))"
   ]
  },
  {
   "cell_type": "code",
   "execution_count": 80,
   "metadata": {},
   "outputs": [
    {
     "name": "stdout",
     "output_type": "stream",
     "text": [
      "[[168434   5143]\n",
      " [ 10635   9206]]\n"
     ]
    }
   ],
   "source": [
    "from sklearn.metrics import confusion_matrix\n",
    "confusion_matrix = confusion_matrix(y_test, y_pred)\n",
    "print(confusion_matrix)"
   ]
  },
  {
   "cell_type": "code",
   "execution_count": 81,
   "metadata": {},
   "outputs": [
    {
     "name": "stdout",
     "output_type": "stream",
     "text": [
      "              precision    recall  f1-score   support\n",
      "\n",
      "           0       0.94      0.97      0.96    173577\n",
      "           1       0.64      0.46      0.54     19841\n",
      "\n",
      "    accuracy                           0.92    193418\n",
      "   macro avg       0.79      0.72      0.75    193418\n",
      "weighted avg       0.91      0.92      0.91    193418\n",
      "\n"
     ]
    }
   ],
   "source": [
    "y_pred = rf.predict(X_test)\n",
    "print(classification_report(y_test, y_pred))"
   ]
  },
  {
   "cell_type": "code",
   "execution_count": 82,
   "metadata": {},
   "outputs": [
    {
     "data": {
      "image/png": "[encoded data removed]",
      "text/plain": [
       "<Figure size 432x288 with 1 Axes>"
      ]
     },
     "metadata": {
      "needs_background": "light"
     },
     "output_type": "display_data"
    }
   ],
   "source": [
    "rf_roc_auc = roc_auc_score(y_test, rf.predict(X_test))\n",
    "fpr, tpr, thresholds = roc_curve(y_test, rf.predict_proba(X_test)[:,1])\n",
    "plt.figure()\n",
    "plt.plot(fpr, tpr, label='Random Forest (area = %0.2f)' % rf_roc_auc)\n",
    "plt.plot([0, 1], [0, 1],'r--')\n",
    "plt.xlim([0.0, 1.0])\n",
    "plt.ylim([0.0, 1.05])\n",
    "plt.xlabel('False Positive Rate')\n",
    "plt.ylabel('True Positive Rate')\n",
    "plt.title('Receiver operating characteristic')\n",
    "plt.legend(loc=\"lower right\")\n",
    "plt.savefig('RF_ROC')\n",
    "plt.show()"
   ]
  },
  {
   "cell_type": "code",
   "execution_count": 83,
   "metadata": {},
   "outputs": [
    {
     "data": {
      "text/plain": [
       "AdaBoostClassifier(random_state=0)"
      ]
     },
     "execution_count": 83,
     "metadata": {},
     "output_type": "execute_result"
    }
   ],
   "source": [
    "from sklearn.ensemble import AdaBoostClassifier\n",
    "ab = AdaBoostClassifier(random_state=0)\n",
    "ab.fit(os_data_X, os_data_y)"
   ]
  },
  {
   "cell_type": "code",
   "execution_count": 84,
   "metadata": {},
   "outputs": [],
   "source": [
    "y_pred = ab.predict(X_test)"
   ]
  },
  {
   "cell_type": "code",
   "execution_count": 85,
   "metadata": {},
   "outputs": [
    {
     "name": "stdout",
     "output_type": "stream",
     "text": [
      "[[161857  11720]\n",
      " [ 10051   9790]]\n"
     ]
    }
   ],
   "source": [
    "from sklearn.metrics import confusion_matrix\n",
    "confusion_matrix = confusion_matrix(y_test, y_pred)\n",
    "print(confusion_matrix)"
   ]
  },
  {
   "cell_type": "code",
   "execution_count": 86,
   "metadata": {},
   "outputs": [
    {
     "name": "stdout",
     "output_type": "stream",
     "text": [
      "              precision    recall  f1-score   support\n",
      "\n",
      "           0       0.94      0.93      0.94    173577\n",
      "           1       0.46      0.49      0.47     19841\n",
      "\n",
      "    accuracy                           0.89    193418\n",
      "   macro avg       0.70      0.71      0.71    193418\n",
      "weighted avg       0.89      0.89      0.89    193418\n",
      "\n"
     ]
    }
   ],
   "source": [
    "print(classification_report(y_test, y_pred))"
   ]
  },
  {
   "cell_type": "code",
   "execution_count": 87,
   "metadata": {},
   "outputs": [
    {
     "data": {
      "image/png": "[encoded data removed]",
      "text/plain": [
       "<Figure size 432x288 with 1 Axes>"
      ]
     },
     "metadata": {
      "needs_background": "light"
     },
     "output_type": "display_data"
    }
   ],
   "source": [
    "ab_roc_auc = roc_auc_score(y_test, ab.predict(X_test))\n",
    "fpr, tpr, thresholds = roc_curve(y_test, ab.predict_proba(X_test)[:,1])\n",
    "plt.figure()\n",
    "plt.plot(fpr, tpr, label='AdaBoosting (area = %0.2f)' % ab_roc_auc)\n",
    "plt.plot([0, 1], [0, 1],'r--')\n",
    "plt.xlim([0.0, 1.0])\n",
    "plt.ylim([0.0, 1.05])\n",
    "plt.xlabel('False Positive Rate')\n",
    "plt.ylabel('True Positive Rate')\n",
    "plt.title('Receiver operating characteristic')\n",
    "plt.legend(loc=\"lower right\")\n",
    "plt.savefig('AB_ROC')\n",
    "plt.show()"
   ]
  },
  {
   "cell_type": "code",
   "execution_count": 88,
   "metadata": {},
   "outputs": [
    {
     "data": {
      "text/plain": [
       "XGBClassifier(alpha=1)"
      ]
     },
     "execution_count": 88,
     "metadata": {},
     "output_type": "execute_result"
    }
   ],
   "source": [
    "import xgboost as xgb\n",
    "xb = xgb.XGBClassifier(learning_rate = 0.1, alpha = 1,random_state = 0)\n",
    "xb.fit(X_train, y_train)"
   ]
  },
  {
   "cell_type": "code",
   "execution_count": 89,
   "metadata": {},
   "outputs": [
    {
     "name": "stdout",
     "output_type": "stream",
     "text": [
      "[[161857  11720]\n",
      " [ 10051   9790]]\n"
     ]
    }
   ],
   "source": [
    "from sklearn.metrics import confusion_matrix\n",
    "confusion_matrix = confusion_matrix(y_test, y_pred)\n",
    "print(confusion_matrix)"
   ]
  },
  {
   "cell_type": "code",
   "execution_count": 90,
   "metadata": {},
   "outputs": [
    {
     "name": "stdout",
     "output_type": "stream",
     "text": [
      "              precision    recall  f1-score   support\n",
      "\n",
      "           0       0.93      0.99      0.96    173577\n",
      "           1       0.74      0.33      0.45     19841\n",
      "\n",
      "    accuracy                           0.92    193418\n",
      "   macro avg       0.83      0.66      0.70    193418\n",
      "weighted avg       0.91      0.92      0.90    193418\n",
      "\n"
     ]
    }
   ],
   "source": [
    "y_pred = xb.predict(X_test)\n",
    "print(classification_report(y_test, y_pred))"
   ]
  },
  {
   "cell_type": "code",
   "execution_count": 106,
   "metadata": {},
   "outputs": [
    {
     "data": {
      "image/png": "[encoded data removed]",
      "text/plain": [
       "<Figure size 432x288 with 1 Axes>"
      ]
     },
     "metadata": {
      "needs_background": "light"
     },
     "output_type": "display_data"
    }
   ],
   "source": [
    "xb_roc_auc = roc_auc_score(y_test, xb.predict(X_test))\n",
    "fpr, tpr, thresholds = roc_curve(y_test, xb.predict_proba(X_test)[:,1])\n",
    "plt.figure()\n",
    "plt.plot(fpr, tpr, label='XGBoosting (area = %0.2f)' % ab_roc_auc)\n",
    "plt.plot([0, 1], [0, 1],'r--')\n",
    "plt.xlim([0.0, 1.0])\n",
    "plt.ylim([0.0, 1.05])\n",
    "plt.xlabel('False Positive Rate')\n",
    "plt.ylabel('True Positive Rate')\n",
    "plt.title('Receiver operating characteristic')\n",
    "plt.legend(loc=\"lower right\")\n",
    "plt.savefig('XB1_ROC')\n",
    "plt.show()"
   ]
  },
  {
   "cell_type": "code",
   "execution_count": 99,
   "metadata": {},
   "outputs": [
    {
     "data": {
      "text/plain": [
       "XGBClassifier(alpha=1, n_estimators=20)"
      ]
     },
     "execution_count": 99,
     "metadata": {},
     "output_type": "execute_result"
    }
   ],
   "source": [
    "xb2 = xgb.XGBClassifier(n_estimators = 20, learning_rate = 0.1, alpha = 1, random_state = 0)\n",
    "xb2.fit(os_data_X, os_data_y)"
   ]
  },
  {
   "cell_type": "code",
   "execution_count": 729,
   "metadata": {},
   "outputs": [
    {
     "name": "stdout",
     "output_type": "stream",
     "text": [
      "              precision    recall  f1-score   support\n",
      "\n",
      "           0       0.96      0.87      0.91    173577\n",
      "           1       0.38      0.69      0.49     19841\n",
      "\n",
      "    accuracy                           0.85    193418\n",
      "   macro avg       0.67      0.78      0.70    193418\n",
      "weighted avg       0.90      0.85      0.87    193418\n",
      "\n"
     ]
    }
   ],
   "source": [
    "y_pred = xb2.predict(X_test)\n",
    "print(classification_report(y_test, y_pred))"
   ]
  },
  {
   "cell_type": "code",
   "execution_count": 749,
   "metadata": {},
   "outputs": [
    {
     "data": {
      "text/plain": [
       "GradientBoostingClassifier(n_estimators=20, random_state=0)"
      ]
     },
     "execution_count": 749,
     "metadata": {},
     "output_type": "execute_result"
    }
   ],
   "source": [
    "from sklearn.ensemble import GradientBoostingClassifier\n",
    "gb = GradientBoostingClassifier(n_estimators = 20, random_state=0)\n",
    "gb.fit(os_data_X, os_data_y)"
   ]
  },
  {
   "cell_type": "code",
   "execution_count": 750,
   "metadata": {
    "scrolled": true
   },
   "outputs": [
    {
     "name": "stdout",
     "output_type": "stream",
     "text": [
      "              precision    recall  f1-score   support\n",
      "\n",
      "           0       0.96      0.87      0.92    173577\n",
      "           1       0.39      0.69      0.50     19841\n",
      "\n",
      "    accuracy                           0.86    193418\n",
      "   macro avg       0.67      0.78      0.71    193418\n",
      "weighted avg       0.90      0.86      0.87    193418\n",
      "\n"
     ]
    }
   ],
   "source": [
    "y_pred = gb.predict(X_test)\n",
    "print(classification_report(y_test, y_pred))"
   ]
  },
  {
   "cell_type": "code",
   "execution_count": 751,
   "metadata": {},
   "outputs": [
    {
     "name": "stdout",
     "output_type": "stream",
     "text": [
      "[[151792  21785]\n",
      " [  6096  13745]]\n"
     ]
    }
   ],
   "source": [
    "from sklearn.metrics import confusion_matrix\n",
    "confusion_matrix = confusion_matrix(y_test, y_pred)\n",
    "print(confusion_matrix)"
   ]
  },
  {
   "cell_type": "code",
   "execution_count": 107,
   "metadata": {},
   "outputs": [
    {
     "data": {
      "image/png": "[encoded data removed]",
      "text/plain": [
       "<Figure size 432x288 with 1 Axes>"
      ]
     },
     "metadata": {
      "needs_background": "light"
     },
     "output_type": "display_data"
    }
   ],
   "source": [
    "xb2_roc_auc = roc_auc_score(y_test, xb2.predict(X_test))\n",
    "fpr, tpr, thresholds = roc_curve(y_test, xb2.predict_proba(X_test)[:,1])\n",
    "plt.figure()\n",
    "plt.plot(fpr, tpr, label='XGBoosting (area = %0.2f)' % ab_roc_auc)\n",
    "plt.plot([0, 1], [0, 1],'r--')\n",
    "plt.xlim([0.0, 1.0])\n",
    "plt.ylim([0.0, 1.05])\n",
    "plt.xlabel('False Positive Rate')\n",
    "plt.ylabel('True Positive Rate')\n",
    "plt.title('Receiver operating characteristic')\n",
    "plt.legend(loc=\"lower right\")\n",
    "plt.savefig('XB2_ROC')\n",
    "plt.show()"
   ]
  },
  {
   "cell_type": "code",
   "execution_count": null,
   "metadata": {},
   "outputs": [],
   "source": []
  }
 ],
 "metadata": {
  "kernelspec": {
   "display_name": "Python 3",
   "language": "python",
   "name": "python3"
  },
  "language_info": {
   "codemirror_mode": {
    "name": "ipython",
    "version": 3
   },
   "file_extension": ".py",
   "mimetype": "text/x-python",
   "name": "python",
   "nbconvert_exporter": "python",
   "pygments_lexer": "ipython3",
   "version": "3.7.4"
  }
 },
 "nbformat": 4,
 "nbformat_minor": 2
}
