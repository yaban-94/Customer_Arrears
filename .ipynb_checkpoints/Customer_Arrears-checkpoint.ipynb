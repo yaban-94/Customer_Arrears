{
 "cells": [
  {
   "cell_type": "code",
   "execution_count": 8,
   "metadata": {},
   "outputs": [],
   "source": [
    "import os\n",
    "import pandas as pd\n",
    "import numpy as np\n",
    "from sklearn import preprocessing\n",
    "import matplotlib.pyplot as plt \n",
    "plt.rc(\"font\", size=14)\n",
    "from sklearn.linear_model import LogisticRegression\n",
    "from sklearn.model_selection import train_test_split\n",
    "import seaborn as sns\n",
    "sns.set(style=\"white\")\n",
    "sns.set(style=\"whitegrid\", color_codes=True)\n",
    "import warnings\n",
    "warnings.filterwarnings('ignore')"
   ]
  },
  {
   "cell_type": "code",
   "execution_count": 9,
   "metadata": {},
   "outputs": [
    {
     "data": {
      "text/plain": [
       "'H:\\\\Desktop'"
      ]
     },
     "execution_count": 9,
     "metadata": {},
     "output_type": "execute_result"
    }
   ],
   "source": [
    "os.getcwd()"
   ]
  },
  {
   "cell_type": "code",
   "execution_count": 10,
   "metadata": {},
   "outputs": [],
   "source": [
    "os.chdir('H:\\\\Desktop')"
   ]
  },
  {
   "cell_type": "code",
   "execution_count": 11,
   "metadata": {},
   "outputs": [],
   "source": [
    "newdata = pd.read_csv('FINALS.csv')"
   ]
  },
  {
   "cell_type": "code",
   "execution_count": 12,
   "metadata": {},
   "outputs": [
    {
     "data": {
      "text/html": [
       "<div>\n",
       "<style scoped>\n",
       "    .dataframe tbody tr th:only-of-type {\n",
       "        vertical-align: middle;\n",
       "    }\n",
       "\n",
       "    .dataframe tbody tr th {\n",
       "        vertical-align: top;\n",
       "    }\n",
       "\n",
       "    .dataframe thead th {\n",
       "        text-align: right;\n",
       "    }\n",
       "</style>\n",
       "<table border=\"1\" class=\"dataframe\">\n",
       "  <thead>\n",
       "    <tr style=\"text-align: right;\">\n",
       "      <th></th>\n",
       "      <th>KY_BA</th>\n",
       "      <th>Account_Age_Mar</th>\n",
       "      <th>Account_Age_Apr</th>\n",
       "      <th>Account_Age_May</th>\n",
       "      <th>usage3</th>\n",
       "      <th>usage4</th>\n",
       "      <th>usage5</th>\n",
       "      <th>chgrt3</th>\n",
       "      <th>chgrt4</th>\n",
       "      <th>chgrt5</th>\n",
       "      <th>...</th>\n",
       "      <th>FL_EBILL</th>\n",
       "      <th>CD_AD_TYPE</th>\n",
       "      <th>SQFT_Code</th>\n",
       "      <th>SQFT_Desc</th>\n",
       "      <th>mo3</th>\n",
       "      <th>mo4</th>\n",
       "      <th>mo5</th>\n",
       "      <th>DD3</th>\n",
       "      <th>DD4</th>\n",
       "      <th>DD5</th>\n",
       "    </tr>\n",
       "  </thead>\n",
       "  <tbody>\n",
       "    <tr>\n",
       "      <td>0</td>\n",
       "      <td>100925</td>\n",
       "      <td>6.846575</td>\n",
       "      <td>6.928767</td>\n",
       "      <td>7.013699</td>\n",
       "      <td>12000.0</td>\n",
       "      <td>10800.0</td>\n",
       "      <td>9000.0</td>\n",
       "      <td>0.111111</td>\n",
       "      <td>-0.100000</td>\n",
       "      <td>-0.166667</td>\n",
       "      <td>...</td>\n",
       "      <td>N</td>\n",
       "      <td>M</td>\n",
       "      <td>6.0</td>\n",
       "      <td>20,000 - 39,999</td>\n",
       "      <td>2200.56</td>\n",
       "      <td>2007.88</td>\n",
       "      <td>1698.36</td>\n",
       "      <td>0</td>\n",
       "      <td>0</td>\n",
       "      <td>0</td>\n",
       "    </tr>\n",
       "    <tr>\n",
       "      <td>1</td>\n",
       "      <td>101020</td>\n",
       "      <td>1.210959</td>\n",
       "      <td>1.293151</td>\n",
       "      <td>1.378082</td>\n",
       "      <td>167244.0</td>\n",
       "      <td>105544.0</td>\n",
       "      <td>103471.0</td>\n",
       "      <td>-0.078469</td>\n",
       "      <td>-0.368922</td>\n",
       "      <td>-0.019641</td>\n",
       "      <td>...</td>\n",
       "      <td>M</td>\n",
       "      <td>M</td>\n",
       "      <td>7.0</td>\n",
       "      <td>40,000 - 99,999</td>\n",
       "      <td>0.00</td>\n",
       "      <td>15607.90</td>\n",
       "      <td>13385.13</td>\n",
       "      <td>0</td>\n",
       "      <td>0</td>\n",
       "      <td>0</td>\n",
       "    </tr>\n",
       "    <tr>\n",
       "      <td>2</td>\n",
       "      <td>101646</td>\n",
       "      <td>2.123288</td>\n",
       "      <td>2.205479</td>\n",
       "      <td>2.290411</td>\n",
       "      <td>168898.0</td>\n",
       "      <td>106447.0</td>\n",
       "      <td>102988.0</td>\n",
       "      <td>-0.047383</td>\n",
       "      <td>-0.369756</td>\n",
       "      <td>-0.032495</td>\n",
       "      <td>...</td>\n",
       "      <td>M</td>\n",
       "      <td>M</td>\n",
       "      <td>1.0</td>\n",
       "      <td>0 - 1,499</td>\n",
       "      <td>22444.97</td>\n",
       "      <td>7523.33</td>\n",
       "      <td>0.00</td>\n",
       "      <td>0</td>\n",
       "      <td>0</td>\n",
       "      <td>0</td>\n",
       "    </tr>\n",
       "    <tr>\n",
       "      <td>3</td>\n",
       "      <td>102401</td>\n",
       "      <td>22.915068</td>\n",
       "      <td>22.997260</td>\n",
       "      <td>23.082192</td>\n",
       "      <td>52489.0</td>\n",
       "      <td>45266.0</td>\n",
       "      <td>59314.0</td>\n",
       "      <td>-0.231651</td>\n",
       "      <td>-0.137610</td>\n",
       "      <td>0.310343</td>\n",
       "      <td>...</td>\n",
       "      <td>D</td>\n",
       "      <td>M</td>\n",
       "      <td>7.0</td>\n",
       "      <td>40,000 - 99,999</td>\n",
       "      <td>3181.58</td>\n",
       "      <td>3097.32</td>\n",
       "      <td>0.00</td>\n",
       "      <td>0</td>\n",
       "      <td>0</td>\n",
       "      <td>1</td>\n",
       "    </tr>\n",
       "    <tr>\n",
       "      <td>4</td>\n",
       "      <td>102554</td>\n",
       "      <td>16.715068</td>\n",
       "      <td>16.797260</td>\n",
       "      <td>16.882192</td>\n",
       "      <td>61200.0</td>\n",
       "      <td>34500.0</td>\n",
       "      <td>21900.0</td>\n",
       "      <td>-0.055556</td>\n",
       "      <td>-0.436275</td>\n",
       "      <td>-0.365217</td>\n",
       "      <td>...</td>\n",
       "      <td>D</td>\n",
       "      <td>M</td>\n",
       "      <td>3.0</td>\n",
       "      <td>2,500 - 4,999</td>\n",
       "      <td>7348.08</td>\n",
       "      <td>0.00</td>\n",
       "      <td>0.00</td>\n",
       "      <td>0</td>\n",
       "      <td>0</td>\n",
       "      <td>1</td>\n",
       "    </tr>\n",
       "  </tbody>\n",
       "</table>\n",
       "<p>5 rows × 23 columns</p>\n",
       "</div>"
      ],
      "text/plain": [
       "    KY_BA  Account_Age_Mar  Account_Age_Apr  Account_Age_May    usage3  \\\n",
       "0  100925         6.846575         6.928767         7.013699   12000.0   \n",
       "1  101020         1.210959         1.293151         1.378082  167244.0   \n",
       "2  101646         2.123288         2.205479         2.290411  168898.0   \n",
       "3  102401        22.915068        22.997260        23.082192   52489.0   \n",
       "4  102554        16.715068        16.797260        16.882192   61200.0   \n",
       "\n",
       "     usage4    usage5    chgrt3    chgrt4    chgrt5  ... FL_EBILL CD_AD_TYPE  \\\n",
       "0   10800.0    9000.0  0.111111 -0.100000 -0.166667  ...        N          M   \n",
       "1  105544.0  103471.0 -0.078469 -0.368922 -0.019641  ...        M          M   \n",
       "2  106447.0  102988.0 -0.047383 -0.369756 -0.032495  ...        M          M   \n",
       "3   45266.0   59314.0 -0.231651 -0.137610  0.310343  ...        D          M   \n",
       "4   34500.0   21900.0 -0.055556 -0.436275 -0.365217  ...        D          M   \n",
       "\n",
       "  SQFT_Code        SQFT_Desc       mo3       mo4       mo5  DD3  DD4  DD5  \n",
       "0       6.0  20,000 - 39,999   2200.56   2007.88   1698.36    0    0    0  \n",
       "1       7.0  40,000 - 99,999      0.00  15607.90  13385.13    0    0    0  \n",
       "2       1.0        0 - 1,499  22444.97   7523.33      0.00    0    0    0  \n",
       "3       7.0  40,000 - 99,999   3181.58   3097.32      0.00    0    0    1  \n",
       "4       3.0    2,500 - 4,999   7348.08      0.00      0.00    0    0    1  \n",
       "\n",
       "[5 rows x 23 columns]"
      ]
     },
     "execution_count": 12,
     "metadata": {},
     "output_type": "execute_result"
    }
   ],
   "source": [
    "newdata.head()"
   ]
  },
  {
   "cell_type": "code",
   "execution_count": 13,
   "metadata": {},
   "outputs": [
    {
     "data": {
      "text/plain": [
       "KY_BA                   0\n",
       "Account_Age_Mar         0\n",
       "Account_Age_Apr         0\n",
       "Account_Age_May         0\n",
       "usage3              23307\n",
       "usage4              20178\n",
       "usage5              17163\n",
       "chgrt3              39860\n",
       "chgrt4              36395\n",
       "chgrt5              34052\n",
       "sgmt                    0\n",
       "GPC_Region          12653\n",
       "CD_CREDIT_RATING    12878\n",
       "FL_EBILL                0\n",
       "CD_AD_TYPE              0\n",
       "SQFT_Code           98428\n",
       "SQFT_Desc           98428\n",
       "mo3                     0\n",
       "mo4                     0\n",
       "mo5                     0\n",
       "DD3                     0\n",
       "DD4                     0\n",
       "DD5                     0\n",
       "dtype: int64"
      ]
     },
     "execution_count": 13,
     "metadata": {},
     "output_type": "execute_result"
    }
   ],
   "source": [
    "newdata.isnull().sum()"
   ]
  },
  {
   "cell_type": "code",
   "execution_count": 14,
   "metadata": {},
   "outputs": [],
   "source": [
    "# imputation on several columns, fillna(0))\n",
    "newdata[['usage3', 'usage4', 'usage5', 'chgrt3', 'chgrt4', 'chgrt5']] = newdata[['usage3', 'usage4', 'usage5', 'chgrt3', 'chgrt4', 'chgrt5']].fillna(0)"
   ]
  },
  {
   "cell_type": "code",
   "execution_count": 15,
   "metadata": {},
   "outputs": [],
   "source": [
    "newdata['CD_CREDIT_RATING'].fillna('Missing', inplace = True)\n",
    "newdata['GPC_Region'].fillna('Missing', inplace = True)"
   ]
  },
  {
   "cell_type": "code",
   "execution_count": 16,
   "metadata": {},
   "outputs": [
    {
     "data": {
      "text/plain": [
       "KY_BA                   0\n",
       "Account_Age_Mar         0\n",
       "Account_Age_Apr         0\n",
       "Account_Age_May         0\n",
       "usage3                  0\n",
       "usage4                  0\n",
       "usage5                  0\n",
       "chgrt3                  0\n",
       "chgrt4                  0\n",
       "chgrt5                  0\n",
       "sgmt                    0\n",
       "GPC_Region              0\n",
       "CD_CREDIT_RATING        0\n",
       "FL_EBILL                0\n",
       "CD_AD_TYPE              0\n",
       "SQFT_Code           98428\n",
       "SQFT_Desc           98428\n",
       "mo3                     0\n",
       "mo4                     0\n",
       "mo5                     0\n",
       "DD3                     0\n",
       "DD4                     0\n",
       "DD5                     0\n",
       "dtype: int64"
      ]
     },
     "execution_count": 16,
     "metadata": {},
     "output_type": "execute_result"
    }
   ],
   "source": [
    "#check missing data\n",
    "newdata.isnull().sum()"
   ]
  },
  {
   "cell_type": "code",
   "execution_count": 17,
   "metadata": {},
   "outputs": [
    {
     "data": {
      "text/plain": [
       "{'A', 'B', 'C', 'D', 'Missing'}"
      ]
     },
     "execution_count": 17,
     "metadata": {},
     "output_type": "execute_result"
    }
   ],
   "source": [
    "set(list(newdata['CD_CREDIT_RATING']))"
   ]
  },
  {
   "cell_type": "code",
   "execution_count": 18,
   "metadata": {},
   "outputs": [
    {
     "data": {
      "text/plain": [
       "{'Missing', 'Northeast', 'Northwest', 'Southeast', 'Southwest'}"
      ]
     },
     "execution_count": 18,
     "metadata": {},
     "output_type": "execute_result"
    }
   ],
   "source": [
    "set(list(newdata['GPC_Region']))"
   ]
  },
  {
   "cell_type": "code",
   "execution_count": 19,
   "metadata": {},
   "outputs": [
    {
     "data": {
      "text/html": [
       "<div>\n",
       "<style scoped>\n",
       "    .dataframe tbody tr th:only-of-type {\n",
       "        vertical-align: middle;\n",
       "    }\n",
       "\n",
       "    .dataframe tbody tr th {\n",
       "        vertical-align: top;\n",
       "    }\n",
       "\n",
       "    .dataframe thead th {\n",
       "        text-align: right;\n",
       "    }\n",
       "</style>\n",
       "<table border=\"1\" class=\"dataframe\">\n",
       "  <thead>\n",
       "    <tr style=\"text-align: right;\">\n",
       "      <th></th>\n",
       "      <th>CD_CREDIT_RATING</th>\n",
       "      <th>KY_BA</th>\n",
       "    </tr>\n",
       "  </thead>\n",
       "  <tbody>\n",
       "    <tr>\n",
       "      <td>0</td>\n",
       "      <td>A</td>\n",
       "      <td>275183</td>\n",
       "    </tr>\n",
       "    <tr>\n",
       "      <td>1</td>\n",
       "      <td>B</td>\n",
       "      <td>5692</td>\n",
       "    </tr>\n",
       "    <tr>\n",
       "      <td>2</td>\n",
       "      <td>C</td>\n",
       "      <td>4363</td>\n",
       "    </tr>\n",
       "    <tr>\n",
       "      <td>3</td>\n",
       "      <td>D</td>\n",
       "      <td>24247</td>\n",
       "    </tr>\n",
       "    <tr>\n",
       "      <td>4</td>\n",
       "      <td>Missing</td>\n",
       "      <td>12878</td>\n",
       "    </tr>\n",
       "  </tbody>\n",
       "</table>\n",
       "</div>"
      ],
      "text/plain": [
       "  CD_CREDIT_RATING   KY_BA\n",
       "0                A  275183\n",
       "1                B    5692\n",
       "2                C    4363\n",
       "3                D   24247\n",
       "4          Missing   12878"
      ]
     },
     "execution_count": 19,
     "metadata": {},
     "output_type": "execute_result"
    }
   ],
   "source": [
    "newdata.groupby(by = 'CD_CREDIT_RATING', as_index = False).agg({'KY_BA': pd.Series.nunique})"
   ]
  },
  {
   "cell_type": "code",
   "execution_count": 20,
   "metadata": {},
   "outputs": [
    {
     "data": {
      "text/html": [
       "<div>\n",
       "<style scoped>\n",
       "    .dataframe tbody tr th:only-of-type {\n",
       "        vertical-align: middle;\n",
       "    }\n",
       "\n",
       "    .dataframe tbody tr th {\n",
       "        vertical-align: top;\n",
       "    }\n",
       "\n",
       "    .dataframe thead th {\n",
       "        text-align: right;\n",
       "    }\n",
       "</style>\n",
       "<table border=\"1\" class=\"dataframe\">\n",
       "  <thead>\n",
       "    <tr style=\"text-align: right;\">\n",
       "      <th></th>\n",
       "      <th>sgmt</th>\n",
       "      <th>KY_BA</th>\n",
       "    </tr>\n",
       "  </thead>\n",
       "  <tbody>\n",
       "    <tr>\n",
       "      <td>0</td>\n",
       "      <td>Agriculture</td>\n",
       "      <td>3161</td>\n",
       "    </tr>\n",
       "    <tr>\n",
       "      <td>1</td>\n",
       "      <td>Amusement</td>\n",
       "      <td>7159</td>\n",
       "    </tr>\n",
       "    <tr>\n",
       "      <td>2</td>\n",
       "      <td>Communications</td>\n",
       "      <td>21383</td>\n",
       "    </tr>\n",
       "    <tr>\n",
       "      <td>3</td>\n",
       "      <td>Construction</td>\n",
       "      <td>20519</td>\n",
       "    </tr>\n",
       "    <tr>\n",
       "      <td>4</td>\n",
       "      <td>Convenience Stores</td>\n",
       "      <td>1824</td>\n",
       "    </tr>\n",
       "    <tr>\n",
       "      <td>5</td>\n",
       "      <td>Data Centers</td>\n",
       "      <td>141</td>\n",
       "    </tr>\n",
       "    <tr>\n",
       "      <td>6</td>\n",
       "      <td>Education</td>\n",
       "      <td>5062</td>\n",
       "    </tr>\n",
       "    <tr>\n",
       "      <td>7</td>\n",
       "      <td>Government(Military)</td>\n",
       "      <td>217</td>\n",
       "    </tr>\n",
       "    <tr>\n",
       "      <td>8</td>\n",
       "      <td>Government(Non-Military)</td>\n",
       "      <td>14475</td>\n",
       "    </tr>\n",
       "    <tr>\n",
       "      <td>9</td>\n",
       "      <td>Grocery</td>\n",
       "      <td>3962</td>\n",
       "    </tr>\n",
       "    <tr>\n",
       "      <td>10</td>\n",
       "      <td>Healthcare</td>\n",
       "      <td>11383</td>\n",
       "    </tr>\n",
       "    <tr>\n",
       "      <td>11</td>\n",
       "      <td>Hotels/Lodging</td>\n",
       "      <td>3341</td>\n",
       "    </tr>\n",
       "    <tr>\n",
       "      <td>12</td>\n",
       "      <td>Mfg. Automotive</td>\n",
       "      <td>586</td>\n",
       "    </tr>\n",
       "    <tr>\n",
       "      <td>13</td>\n",
       "      <td>Mfg. Chemicals</td>\n",
       "      <td>977</td>\n",
       "    </tr>\n",
       "    <tr>\n",
       "      <td>14</td>\n",
       "      <td>Mfg. Fabricated Metal and Machinery</td>\n",
       "      <td>1779</td>\n",
       "    </tr>\n",
       "    <tr>\n",
       "      <td>15</td>\n",
       "      <td>Mfg. Food &amp; Beverage</td>\n",
       "      <td>1989</td>\n",
       "    </tr>\n",
       "    <tr>\n",
       "      <td>16</td>\n",
       "      <td>Mfg. Forest Products</td>\n",
       "      <td>1563</td>\n",
       "    </tr>\n",
       "    <tr>\n",
       "      <td>17</td>\n",
       "      <td>Mfg. Light Manufacturing</td>\n",
       "      <td>12034</td>\n",
       "    </tr>\n",
       "    <tr>\n",
       "      <td>18</td>\n",
       "      <td>Mfg. Plastics &amp; Rubber</td>\n",
       "      <td>332</td>\n",
       "    </tr>\n",
       "    <tr>\n",
       "      <td>19</td>\n",
       "      <td>Mfg. Primary Metal</td>\n",
       "      <td>1602</td>\n",
       "    </tr>\n",
       "    <tr>\n",
       "      <td>20</td>\n",
       "      <td>Mfg. Stone, Clay, and Glass</td>\n",
       "      <td>719</td>\n",
       "    </tr>\n",
       "    <tr>\n",
       "      <td>21</td>\n",
       "      <td>Mfg. Textile &amp; Apparel</td>\n",
       "      <td>593</td>\n",
       "    </tr>\n",
       "    <tr>\n",
       "      <td>22</td>\n",
       "      <td>Missing</td>\n",
       "      <td>21855</td>\n",
       "    </tr>\n",
       "    <tr>\n",
       "      <td>23</td>\n",
       "      <td>Office/Real Estate</td>\n",
       "      <td>69391</td>\n",
       "    </tr>\n",
       "    <tr>\n",
       "      <td>24</td>\n",
       "      <td>Other</td>\n",
       "      <td>6500</td>\n",
       "    </tr>\n",
       "    <tr>\n",
       "      <td>25</td>\n",
       "      <td>Other Information</td>\n",
       "      <td>1260</td>\n",
       "    </tr>\n",
       "    <tr>\n",
       "      <td>26</td>\n",
       "      <td>Restaurants</td>\n",
       "      <td>14980</td>\n",
       "    </tr>\n",
       "    <tr>\n",
       "      <td>27</td>\n",
       "      <td>Retail/Mercantile</td>\n",
       "      <td>32643</td>\n",
       "    </tr>\n",
       "    <tr>\n",
       "      <td>28</td>\n",
       "      <td>Services</td>\n",
       "      <td>23564</td>\n",
       "    </tr>\n",
       "    <tr>\n",
       "      <td>29</td>\n",
       "      <td>Transportation</td>\n",
       "      <td>4252</td>\n",
       "    </tr>\n",
       "    <tr>\n",
       "      <td>30</td>\n",
       "      <td>Utility-Electricity</td>\n",
       "      <td>1172</td>\n",
       "    </tr>\n",
       "    <tr>\n",
       "      <td>31</td>\n",
       "      <td>Utility-Gas</td>\n",
       "      <td>674</td>\n",
       "    </tr>\n",
       "    <tr>\n",
       "      <td>32</td>\n",
       "      <td>Utility-Water or Wastewater</td>\n",
       "      <td>3159</td>\n",
       "    </tr>\n",
       "    <tr>\n",
       "      <td>33</td>\n",
       "      <td>Warehouses</td>\n",
       "      <td>4636</td>\n",
       "    </tr>\n",
       "    <tr>\n",
       "      <td>34</td>\n",
       "      <td>Web Service</td>\n",
       "      <td>48</td>\n",
       "    </tr>\n",
       "    <tr>\n",
       "      <td>35</td>\n",
       "      <td>Wholesale</td>\n",
       "      <td>7630</td>\n",
       "    </tr>\n",
       "    <tr>\n",
       "      <td>36</td>\n",
       "      <td>Worship</td>\n",
       "      <td>15798</td>\n",
       "    </tr>\n",
       "  </tbody>\n",
       "</table>\n",
       "</div>"
      ],
      "text/plain": [
       "                                   sgmt  KY_BA\n",
       "0                           Agriculture   3161\n",
       "1                             Amusement   7159\n",
       "2                        Communications  21383\n",
       "3                          Construction  20519\n",
       "4                    Convenience Stores   1824\n",
       "5                          Data Centers    141\n",
       "6                             Education   5062\n",
       "7                  Government(Military)    217\n",
       "8              Government(Non-Military)  14475\n",
       "9                               Grocery   3962\n",
       "10                           Healthcare  11383\n",
       "11                       Hotels/Lodging   3341\n",
       "12                      Mfg. Automotive    586\n",
       "13                       Mfg. Chemicals    977\n",
       "14  Mfg. Fabricated Metal and Machinery   1779\n",
       "15                 Mfg. Food & Beverage   1989\n",
       "16                 Mfg. Forest Products   1563\n",
       "17             Mfg. Light Manufacturing  12034\n",
       "18               Mfg. Plastics & Rubber    332\n",
       "19                   Mfg. Primary Metal   1602\n",
       "20          Mfg. Stone, Clay, and Glass    719\n",
       "21               Mfg. Textile & Apparel    593\n",
       "22                              Missing  21855\n",
       "23                   Office/Real Estate  69391\n",
       "24                                Other   6500\n",
       "25                    Other Information   1260\n",
       "26                          Restaurants  14980\n",
       "27                    Retail/Mercantile  32643\n",
       "28                             Services  23564\n",
       "29                       Transportation   4252\n",
       "30                  Utility-Electricity   1172\n",
       "31                          Utility-Gas    674\n",
       "32          Utility-Water or Wastewater   3159\n",
       "33                           Warehouses   4636\n",
       "34                          Web Service     48\n",
       "35                            Wholesale   7630\n",
       "36                              Worship  15798"
      ]
     },
     "execution_count": 20,
     "metadata": {},
     "output_type": "execute_result"
    }
   ],
   "source": [
    "df = newdata.groupby(by = 'sgmt', as_index = False).agg({'KY_BA': pd.Series.nunique})\n",
    "df"
   ]
  },
  {
   "cell_type": "code",
   "execution_count": 21,
   "metadata": {},
   "outputs": [],
   "source": [
    "sgmt_list = list(set(newdata['sgmt']))"
   ]
  },
  {
   "cell_type": "code",
   "execution_count": 22,
   "metadata": {
    "scrolled": true
   },
   "outputs": [],
   "source": [
    "# sort list  \n",
    "# essential for grouping \n",
    "sgmt_list.sort() "
   ]
  },
  {
   "cell_type": "code",
   "execution_count": 23,
   "metadata": {},
   "outputs": [
    {
     "data": {
      "text/plain": [
       "['Mfg. Automotive',\n",
       " 'Mfg. Chemicals',\n",
       " 'Mfg. Fabricated Metal and Machinery',\n",
       " 'Mfg. Food & Beverage',\n",
       " 'Mfg. Forest Products',\n",
       " 'Mfg. Light Manufacturing',\n",
       " 'Mfg. Plastics & Rubber',\n",
       " 'Mfg. Primary Metal',\n",
       " 'Mfg. Stone, Clay, and Glass',\n",
       " 'Mfg. Textile & Apparel']"
      ]
     },
     "execution_count": 23,
     "metadata": {},
     "output_type": "execute_result"
    }
   ],
   "source": [
    "gov_group = sgmt_list[7:9]\n",
    "manu_list = sgmt_list[12:22]\n",
    "manu_list"
   ]
  },
  {
   "cell_type": "code",
   "execution_count": 24,
   "metadata": {},
   "outputs": [],
   "source": [
    "newdata['newsgmt1'] = np.where(newdata['sgmt'].isin(gov_group), \"Government\", newdata['sgmt'])\n",
    "newdata['newsgmt2'] = np.where(newdata['newsgmt1'].isin([\"Other\", \"Other Information\", \"Missing\"]), \"Other\", newdata['newsgmt1'])\n",
    "newdata['newsgmt3'] = np.where(newdata['newsgmt2'].isin([\"Utility-Electricity\", \"Utility-Gas\", \"Utility-Water or Wastewater\"]), \"Utility\", newdata['newsgmt2'])\n",
    "newdata['newsgmt4'] = np.where(newdata['newsgmt3'].isin([\"Data Centers\", \"Web Service\"]), \"Data Center & Web Service\", newdata['newsgmt3'])"
   ]
  },
  {
   "cell_type": "code",
   "execution_count": 25,
   "metadata": {},
   "outputs": [],
   "source": [
    "newdata['newsgmt5'] = np.where(newdata['newsgmt4'].isin(manu_list), \"Manufacturing\", newdata['newsgmt4'])"
   ]
  },
  {
   "cell_type": "code",
   "execution_count": 26,
   "metadata": {
    "scrolled": false
   },
   "outputs": [
    {
     "data": {
      "text/html": [
       "<div>\n",
       "<style scoped>\n",
       "    .dataframe tbody tr th:only-of-type {\n",
       "        vertical-align: middle;\n",
       "    }\n",
       "\n",
       "    .dataframe tbody tr th {\n",
       "        vertical-align: top;\n",
       "    }\n",
       "\n",
       "    .dataframe thead th {\n",
       "        text-align: right;\n",
       "    }\n",
       "</style>\n",
       "<table border=\"1\" class=\"dataframe\">\n",
       "  <thead>\n",
       "    <tr style=\"text-align: right;\">\n",
       "      <th></th>\n",
       "      <th>newsgmt5</th>\n",
       "      <th>KY_BA</th>\n",
       "    </tr>\n",
       "  </thead>\n",
       "  <tbody>\n",
       "    <tr>\n",
       "      <td>0</td>\n",
       "      <td>Agriculture</td>\n",
       "      <td>3161</td>\n",
       "    </tr>\n",
       "    <tr>\n",
       "      <td>1</td>\n",
       "      <td>Amusement</td>\n",
       "      <td>7159</td>\n",
       "    </tr>\n",
       "    <tr>\n",
       "      <td>2</td>\n",
       "      <td>Communications</td>\n",
       "      <td>21383</td>\n",
       "    </tr>\n",
       "    <tr>\n",
       "      <td>3</td>\n",
       "      <td>Construction</td>\n",
       "      <td>20519</td>\n",
       "    </tr>\n",
       "    <tr>\n",
       "      <td>4</td>\n",
       "      <td>Convenience Stores</td>\n",
       "      <td>1824</td>\n",
       "    </tr>\n",
       "    <tr>\n",
       "      <td>5</td>\n",
       "      <td>Data Center &amp; Web Service</td>\n",
       "      <td>189</td>\n",
       "    </tr>\n",
       "    <tr>\n",
       "      <td>6</td>\n",
       "      <td>Education</td>\n",
       "      <td>5062</td>\n",
       "    </tr>\n",
       "    <tr>\n",
       "      <td>7</td>\n",
       "      <td>Government</td>\n",
       "      <td>14692</td>\n",
       "    </tr>\n",
       "    <tr>\n",
       "      <td>8</td>\n",
       "      <td>Grocery</td>\n",
       "      <td>3962</td>\n",
       "    </tr>\n",
       "    <tr>\n",
       "      <td>9</td>\n",
       "      <td>Healthcare</td>\n",
       "      <td>11383</td>\n",
       "    </tr>\n",
       "    <tr>\n",
       "      <td>10</td>\n",
       "      <td>Hotels/Lodging</td>\n",
       "      <td>3341</td>\n",
       "    </tr>\n",
       "    <tr>\n",
       "      <td>11</td>\n",
       "      <td>Manufacturing</td>\n",
       "      <td>22174</td>\n",
       "    </tr>\n",
       "    <tr>\n",
       "      <td>12</td>\n",
       "      <td>Office/Real Estate</td>\n",
       "      <td>69391</td>\n",
       "    </tr>\n",
       "    <tr>\n",
       "      <td>13</td>\n",
       "      <td>Other</td>\n",
       "      <td>29615</td>\n",
       "    </tr>\n",
       "    <tr>\n",
       "      <td>14</td>\n",
       "      <td>Restaurants</td>\n",
       "      <td>14980</td>\n",
       "    </tr>\n",
       "    <tr>\n",
       "      <td>15</td>\n",
       "      <td>Retail/Mercantile</td>\n",
       "      <td>32643</td>\n",
       "    </tr>\n",
       "    <tr>\n",
       "      <td>16</td>\n",
       "      <td>Services</td>\n",
       "      <td>23564</td>\n",
       "    </tr>\n",
       "    <tr>\n",
       "      <td>17</td>\n",
       "      <td>Transportation</td>\n",
       "      <td>4252</td>\n",
       "    </tr>\n",
       "    <tr>\n",
       "      <td>18</td>\n",
       "      <td>Utility</td>\n",
       "      <td>5005</td>\n",
       "    </tr>\n",
       "    <tr>\n",
       "      <td>19</td>\n",
       "      <td>Warehouses</td>\n",
       "      <td>4636</td>\n",
       "    </tr>\n",
       "    <tr>\n",
       "      <td>20</td>\n",
       "      <td>Wholesale</td>\n",
       "      <td>7630</td>\n",
       "    </tr>\n",
       "    <tr>\n",
       "      <td>21</td>\n",
       "      <td>Worship</td>\n",
       "      <td>15798</td>\n",
       "    </tr>\n",
       "  </tbody>\n",
       "</table>\n",
       "</div>"
      ],
      "text/plain": [
       "                     newsgmt5  KY_BA\n",
       "0                 Agriculture   3161\n",
       "1                   Amusement   7159\n",
       "2              Communications  21383\n",
       "3                Construction  20519\n",
       "4          Convenience Stores   1824\n",
       "5   Data Center & Web Service    189\n",
       "6                   Education   5062\n",
       "7                  Government  14692\n",
       "8                     Grocery   3962\n",
       "9                  Healthcare  11383\n",
       "10             Hotels/Lodging   3341\n",
       "11              Manufacturing  22174\n",
       "12         Office/Real Estate  69391\n",
       "13                      Other  29615\n",
       "14                Restaurants  14980\n",
       "15          Retail/Mercantile  32643\n",
       "16                   Services  23564\n",
       "17             Transportation   4252\n",
       "18                    Utility   5005\n",
       "19                 Warehouses   4636\n",
       "20                  Wholesale   7630\n",
       "21                    Worship  15798"
      ]
     },
     "execution_count": 26,
     "metadata": {},
     "output_type": "execute_result"
    }
   ],
   "source": [
    "newdata.groupby(by = 'newsgmt5', as_index = False).agg({'KY_BA': pd.Series.nunique})"
   ]
  },
  {
   "cell_type": "code",
   "execution_count": 27,
   "metadata": {},
   "outputs": [],
   "source": [
    "# Create a groupby object: by_sgmt_class\n",
    "by_newsgmt5 = newdata.groupby(['newsgmt5'])\n",
    "\n",
    "# # Write a function that imputes median\n",
    "def impute_median(series):\n",
    "    return series.fillna(series.median())\n",
    "\n",
    "# # Impute age and assign to SQFT_Code\n",
    "newdata.SQFT_Code = by_newsgmt5.SQFT_Code.transform(impute_median)"
   ]
  },
  {
   "cell_type": "code",
   "execution_count": 28,
   "metadata": {},
   "outputs": [
    {
     "data": {
      "text/plain": [
       "KY_BA                   0\n",
       "Account_Age_Mar         0\n",
       "Account_Age_Apr         0\n",
       "Account_Age_May         0\n",
       "usage3                  0\n",
       "usage4                  0\n",
       "usage5                  0\n",
       "chgrt3                  0\n",
       "chgrt4                  0\n",
       "chgrt5                  0\n",
       "sgmt                    0\n",
       "GPC_Region              0\n",
       "CD_CREDIT_RATING        0\n",
       "FL_EBILL                0\n",
       "CD_AD_TYPE              0\n",
       "SQFT_Code               0\n",
       "SQFT_Desc           98428\n",
       "mo3                     0\n",
       "mo4                     0\n",
       "mo5                     0\n",
       "DD3                     0\n",
       "DD4                     0\n",
       "DD5                     0\n",
       "newsgmt1                0\n",
       "newsgmt2                0\n",
       "newsgmt3                0\n",
       "newsgmt4                0\n",
       "newsgmt5                0\n",
       "dtype: int64"
      ]
     },
     "execution_count": 28,
     "metadata": {},
     "output_type": "execute_result"
    }
   ],
   "source": [
    "newdata.isna().sum()"
   ]
  },
  {
   "cell_type": "code",
   "execution_count": 29,
   "metadata": {},
   "outputs": [],
   "source": [
    "data_Mar = newdata[['Account_Age_Mar','usage3','chgrt3', 'SQFT_Code', 'mo3','newsgmt5', 'GPC_Region', 'CD_CREDIT_RATING',\\\n",
    "                    'FL_EBILL', 'CD_AD_TYPE']]\n",
    "data_Mar[\"In_Arrears\"] = np.where(newdata['DD4']>1, 1,newdata['DD4'])\n",
    "data_Mar.columns = ['Account_Age','electricity_monthly_usage','chgrt', 'SQFT_Code', 'mothly_Payment','sgmt', 'GPC_Region', 'CD_CREDIT_RATING',\\\n",
    "                    'FL_EBILL', 'CD_AD_TYPE', 'In_Arrears']\n"
   ]
  },
  {
   "cell_type": "code",
   "execution_count": 30,
   "metadata": {
    "scrolled": true
   },
   "outputs": [
    {
     "data": {
      "text/plain": [
       "0    289866\n",
       "1     32497\n",
       "Name: In_Arrears, dtype: int64"
      ]
     },
     "execution_count": 30,
     "metadata": {},
     "output_type": "execute_result"
    }
   ],
   "source": [
    "data_Mar[\"In_Arrears\"].value_counts()"
   ]
  },
  {
   "cell_type": "code",
   "execution_count": 31,
   "metadata": {},
   "outputs": [],
   "source": [
    "data_Apr = newdata[['Account_Age_Apr','usage4','chgrt4', 'SQFT_Code', 'mo4', 'newsgmt5', 'GPC_Region', \\\n",
    "                    'CD_CREDIT_RATING', 'FL_EBILL', 'CD_AD_TYPE']]\n",
    "data_Apr[\"In_Arrears\"] = np.where(newdata['DD5']>1, 1,newdata['DD5'])\n",
    "data_Apr.columns = ['Account_Age','electricity_monthly_usage','chgrt', 'SQFT_Code', 'mothly_Payment','sgmt', 'GPC_Region', 'CD_CREDIT_RATING',\\\n",
    "                    'FL_EBILL', 'CD_AD_TYPE', 'In_Arrears']\n"
   ]
  },
  {
   "cell_type": "code",
   "execution_count": 32,
   "metadata": {},
   "outputs": [
    {
     "data": {
      "text/plain": [
       "0    288877\n",
       "1     33486\n",
       "Name: In_Arrears, dtype: int64"
      ]
     },
     "execution_count": 32,
     "metadata": {},
     "output_type": "execute_result"
    }
   ],
   "source": [
    "#April Arrears Count\n",
    "data_Apr[\"In_Arrears\"].value_counts()"
   ]
  },
  {
   "cell_type": "code",
   "execution_count": 33,
   "metadata": {},
   "outputs": [],
   "source": [
    "data_May = newdata[['Account_Age_May','usage5','chgrt5', 'SQFT_Code', 'mo5','newsgmt5', 'GPC_Region', 'CD_CREDIT_RATING',\\\n",
    "                    'FL_EBILL', 'CD_AD_TYPE']]\n",
    "data_May.columns = ['Account_Age','electricity_monthly_usage','chgrt', 'SQFT_Code', 'mothly_Payment', 'sgmt', 'GPC_Region', 'CD_CREDIT_RATING',\\\n",
    "                    'FL_EBILL', 'CD_AD_TYPE']"
   ]
  },
  {
   "cell_type": "code",
   "execution_count": 34,
   "metadata": {},
   "outputs": [],
   "source": [
    "Training_Data = pd.concat([data_Mar, data_Apr], ignore_index=True)"
   ]
  },
  {
   "cell_type": "code",
   "execution_count": 35,
   "metadata": {},
   "outputs": [
    {
     "data": {
      "image/png": "[encoded data removed]",
      "text/plain": [
       "<Figure size 432x288 with 1 Axes>"
      ]
     },
     "metadata": {},
     "output_type": "display_data"
    },
    {
     "data": {
      "text/plain": [
       "<Figure size 432x288 with 0 Axes>"
      ]
     },
     "metadata": {},
     "output_type": "display_data"
    }
   ],
   "source": [
    "sns.countplot(x = 'In_Arrears', data = Training_Data, palette = 'hls')\n",
    "plt.show()\n",
    "plt.savefig('count_plot')"
   ]
  },
  {
   "cell_type": "code",
   "execution_count": 36,
   "metadata": {},
   "outputs": [
    {
     "name": "stdout",
     "output_type": "stream",
     "text": [
      "percentage of non arrears is 89.76572993798916\n",
      "percentage of arrears 10.23427006201084\n"
     ]
    }
   ],
   "source": [
    "count_no_arr = len(Training_Data[Training_Data['In_Arrears']==0])\n",
    "count_arr = len(Training_Data[Training_Data['In_Arrears']==1])\n",
    "pct_of_no_arr = count_no_arr/(count_no_arr+count_arr)\n",
    "print(\"percentage of non arrears is\", pct_of_no_arr*100)\n",
    "pct_of_arr = count_arr/(count_no_arr+count_arr)\n",
    "print(\"percentage of arrears\", pct_of_arr*100)"
   ]
  },
  {
   "cell_type": "code",
   "execution_count": 37,
   "metadata": {},
   "outputs": [
    {
     "data": {
      "text/html": [
       "<div>\n",
       "<style scoped>\n",
       "    .dataframe tbody tr th:only-of-type {\n",
       "        vertical-align: middle;\n",
       "    }\n",
       "\n",
       "    .dataframe tbody tr th {\n",
       "        vertical-align: top;\n",
       "    }\n",
       "\n",
       "    .dataframe thead th {\n",
       "        text-align: right;\n",
       "    }\n",
       "</style>\n",
       "<table border=\"1\" class=\"dataframe\">\n",
       "  <thead>\n",
       "    <tr style=\"text-align: right;\">\n",
       "      <th></th>\n",
       "      <th>Account_Age</th>\n",
       "      <th>electricity_monthly_usage</th>\n",
       "      <th>chgrt</th>\n",
       "      <th>SQFT_Code</th>\n",
       "      <th>mothly_Payment</th>\n",
       "    </tr>\n",
       "    <tr>\n",
       "      <th>In_Arrears</th>\n",
       "      <th></th>\n",
       "      <th></th>\n",
       "      <th></th>\n",
       "      <th></th>\n",
       "      <th></th>\n",
       "    </tr>\n",
       "  </thead>\n",
       "  <tbody>\n",
       "    <tr>\n",
       "      <td>0</td>\n",
       "      <td>12.771988</td>\n",
       "      <td>4862.924706</td>\n",
       "      <td>0.080273</td>\n",
       "      <td>3.266239</td>\n",
       "      <td>642.980661</td>\n",
       "    </tr>\n",
       "    <tr>\n",
       "      <td>1</td>\n",
       "      <td>8.467752</td>\n",
       "      <td>3562.586969</td>\n",
       "      <td>0.051557</td>\n",
       "      <td>2.878514</td>\n",
       "      <td>331.964503</td>\n",
       "    </tr>\n",
       "  </tbody>\n",
       "</table>\n",
       "</div>"
      ],
      "text/plain": [
       "            Account_Age  electricity_monthly_usage     chgrt  SQFT_Code  \\\n",
       "In_Arrears                                                                \n",
       "0             12.771988                4862.924706  0.080273   3.266239   \n",
       "1              8.467752                3562.586969  0.051557   2.878514   \n",
       "\n",
       "            mothly_Payment  \n",
       "In_Arrears                  \n",
       "0               642.980661  \n",
       "1               331.964503  "
      ]
     },
     "execution_count": 37,
     "metadata": {},
     "output_type": "execute_result"
    }
   ],
   "source": [
    "Training_Data.groupby('In_Arrears').mean()"
   ]
  },
  {
   "cell_type": "code",
   "execution_count": 38,
   "metadata": {},
   "outputs": [
    {
     "data": {
      "text/html": [
       "<div>\n",
       "<style scoped>\n",
       "    .dataframe tbody tr th:only-of-type {\n",
       "        vertical-align: middle;\n",
       "    }\n",
       "\n",
       "    .dataframe tbody tr th {\n",
       "        vertical-align: top;\n",
       "    }\n",
       "\n",
       "    .dataframe thead th {\n",
       "        text-align: right;\n",
       "    }\n",
       "</style>\n",
       "<table border=\"1\" class=\"dataframe\">\n",
       "  <thead>\n",
       "    <tr style=\"text-align: right;\">\n",
       "      <th></th>\n",
       "      <th>Account_Age</th>\n",
       "      <th>electricity_monthly_usage</th>\n",
       "      <th>chgrt</th>\n",
       "      <th>SQFT_Code</th>\n",
       "      <th>mothly_Payment</th>\n",
       "      <th>In_Arrears</th>\n",
       "    </tr>\n",
       "    <tr>\n",
       "      <th>sgmt</th>\n",
       "      <th></th>\n",
       "      <th></th>\n",
       "      <th></th>\n",
       "      <th></th>\n",
       "      <th></th>\n",
       "      <th></th>\n",
       "    </tr>\n",
       "  </thead>\n",
       "  <tbody>\n",
       "    <tr>\n",
       "      <td>Agriculture</td>\n",
       "      <td>14.778958</td>\n",
       "      <td>3517.911737</td>\n",
       "      <td>1.158169</td>\n",
       "      <td>2.397659</td>\n",
       "      <td>342.860457</td>\n",
       "      <td>0.066118</td>\n",
       "    </tr>\n",
       "    <tr>\n",
       "      <td>Amusement</td>\n",
       "      <td>12.453721</td>\n",
       "      <td>3510.178586</td>\n",
       "      <td>0.026013</td>\n",
       "      <td>3.667831</td>\n",
       "      <td>543.765834</td>\n",
       "      <td>0.137240</td>\n",
       "    </tr>\n",
       "    <tr>\n",
       "      <td>Communications</td>\n",
       "      <td>15.362741</td>\n",
       "      <td>2450.793574</td>\n",
       "      <td>0.049186</td>\n",
       "      <td>3.151522</td>\n",
       "      <td>289.705860</td>\n",
       "      <td>0.039517</td>\n",
       "    </tr>\n",
       "    <tr>\n",
       "      <td>Construction</td>\n",
       "      <td>7.017536</td>\n",
       "      <td>2033.862323</td>\n",
       "      <td>0.214933</td>\n",
       "      <td>3.073103</td>\n",
       "      <td>312.263672</td>\n",
       "      <td>0.101857</td>\n",
       "    </tr>\n",
       "    <tr>\n",
       "      <td>Convenience Stores</td>\n",
       "      <td>9.595270</td>\n",
       "      <td>8919.000548</td>\n",
       "      <td>0.053159</td>\n",
       "      <td>2.177632</td>\n",
       "      <td>1076.598791</td>\n",
       "      <td>0.128838</td>\n",
       "    </tr>\n",
       "    <tr>\n",
       "      <td>Data Center &amp; Web Service</td>\n",
       "      <td>12.356208</td>\n",
       "      <td>71767.648148</td>\n",
       "      <td>-0.053657</td>\n",
       "      <td>3.232804</td>\n",
       "      <td>3943.125688</td>\n",
       "      <td>0.097884</td>\n",
       "    </tr>\n",
       "    <tr>\n",
       "      <td>Education</td>\n",
       "      <td>13.194885</td>\n",
       "      <td>5920.652509</td>\n",
       "      <td>-0.071015</td>\n",
       "      <td>4.388582</td>\n",
       "      <td>837.021199</td>\n",
       "      <td>0.098874</td>\n",
       "    </tr>\n",
       "    <tr>\n",
       "      <td>Government</td>\n",
       "      <td>17.957904</td>\n",
       "      <td>3571.124081</td>\n",
       "      <td>0.043967</td>\n",
       "      <td>4.853934</td>\n",
       "      <td>510.574554</td>\n",
       "      <td>0.027974</td>\n",
       "    </tr>\n",
       "    <tr>\n",
       "      <td>Grocery</td>\n",
       "      <td>14.318473</td>\n",
       "      <td>23626.140838</td>\n",
       "      <td>0.184844</td>\n",
       "      <td>3.100959</td>\n",
       "      <td>2174.313776</td>\n",
       "      <td>0.100707</td>\n",
       "    </tr>\n",
       "    <tr>\n",
       "      <td>Healthcare</td>\n",
       "      <td>11.719490</td>\n",
       "      <td>6803.901344</td>\n",
       "      <td>-0.055255</td>\n",
       "      <td>3.338399</td>\n",
       "      <td>862.184313</td>\n",
       "      <td>0.080998</td>\n",
       "    </tr>\n",
       "    <tr>\n",
       "      <td>Hotels/Lodging</td>\n",
       "      <td>12.855351</td>\n",
       "      <td>17739.085753</td>\n",
       "      <td>-0.019569</td>\n",
       "      <td>3.563005</td>\n",
       "      <td>2067.787957</td>\n",
       "      <td>0.143969</td>\n",
       "    </tr>\n",
       "    <tr>\n",
       "      <td>Manufacturing</td>\n",
       "      <td>12.030247</td>\n",
       "      <td>8034.676175</td>\n",
       "      <td>0.027494</td>\n",
       "      <td>3.580229</td>\n",
       "      <td>944.520600</td>\n",
       "      <td>0.078583</td>\n",
       "    </tr>\n",
       "    <tr>\n",
       "      <td>Office/Real Estate</td>\n",
       "      <td>9.406334</td>\n",
       "      <td>3852.886145</td>\n",
       "      <td>0.048636</td>\n",
       "      <td>3.295672</td>\n",
       "      <td>554.974218</td>\n",
       "      <td>0.101029</td>\n",
       "    </tr>\n",
       "    <tr>\n",
       "      <td>Other</td>\n",
       "      <td>13.571609</td>\n",
       "      <td>2300.802566</td>\n",
       "      <td>0.014635</td>\n",
       "      <td>3.129158</td>\n",
       "      <td>351.185230</td>\n",
       "      <td>0.075671</td>\n",
       "    </tr>\n",
       "    <tr>\n",
       "      <td>Restaurants</td>\n",
       "      <td>9.138139</td>\n",
       "      <td>8342.588518</td>\n",
       "      <td>0.017975</td>\n",
       "      <td>2.722096</td>\n",
       "      <td>1065.228508</td>\n",
       "      <td>0.200567</td>\n",
       "    </tr>\n",
       "    <tr>\n",
       "      <td>Retail/Mercantile</td>\n",
       "      <td>11.008879</td>\n",
       "      <td>6865.479276</td>\n",
       "      <td>-0.022818</td>\n",
       "      <td>3.121741</td>\n",
       "      <td>798.362196</td>\n",
       "      <td>0.124713</td>\n",
       "    </tr>\n",
       "    <tr>\n",
       "      <td>Services</td>\n",
       "      <td>12.251756</td>\n",
       "      <td>2049.457244</td>\n",
       "      <td>-0.059094</td>\n",
       "      <td>2.222246</td>\n",
       "      <td>346.833168</td>\n",
       "      <td>0.199372</td>\n",
       "    </tr>\n",
       "    <tr>\n",
       "      <td>Transportation</td>\n",
       "      <td>12.819473</td>\n",
       "      <td>3748.637935</td>\n",
       "      <td>0.017452</td>\n",
       "      <td>4.233067</td>\n",
       "      <td>556.913663</td>\n",
       "      <td>0.108302</td>\n",
       "    </tr>\n",
       "    <tr>\n",
       "      <td>Utility</td>\n",
       "      <td>15.665908</td>\n",
       "      <td>3644.353646</td>\n",
       "      <td>2.350025</td>\n",
       "      <td>4.109890</td>\n",
       "      <td>363.232919</td>\n",
       "      <td>0.040659</td>\n",
       "    </tr>\n",
       "    <tr>\n",
       "      <td>Warehouses</td>\n",
       "      <td>6.567306</td>\n",
       "      <td>3848.063740</td>\n",
       "      <td>0.112314</td>\n",
       "      <td>3.114323</td>\n",
       "      <td>501.097885</td>\n",
       "      <td>0.104400</td>\n",
       "    </tr>\n",
       "    <tr>\n",
       "      <td>Wholesale</td>\n",
       "      <td>16.165703</td>\n",
       "      <td>6856.003080</td>\n",
       "      <td>0.298250</td>\n",
       "      <td>3.719004</td>\n",
       "      <td>789.245627</td>\n",
       "      <td>0.077523</td>\n",
       "    </tr>\n",
       "    <tr>\n",
       "      <td>Worship</td>\n",
       "      <td>24.701906</td>\n",
       "      <td>2303.305482</td>\n",
       "      <td>-0.124903</td>\n",
       "      <td>2.428219</td>\n",
       "      <td>447.693750</td>\n",
       "      <td>0.088049</td>\n",
       "    </tr>\n",
       "  </tbody>\n",
       "</table>\n",
       "</div>"
      ],
      "text/plain": [
       "                           Account_Age  electricity_monthly_usage     chgrt  \\\n",
       "sgmt                                                                          \n",
       "Agriculture                  14.778958                3517.911737  1.158169   \n",
       "Amusement                    12.453721                3510.178586  0.026013   \n",
       "Communications               15.362741                2450.793574  0.049186   \n",
       "Construction                  7.017536                2033.862323  0.214933   \n",
       "Convenience Stores            9.595270                8919.000548  0.053159   \n",
       "Data Center & Web Service    12.356208               71767.648148 -0.053657   \n",
       "Education                    13.194885                5920.652509 -0.071015   \n",
       "Government                   17.957904                3571.124081  0.043967   \n",
       "Grocery                      14.318473               23626.140838  0.184844   \n",
       "Healthcare                   11.719490                6803.901344 -0.055255   \n",
       "Hotels/Lodging               12.855351               17739.085753 -0.019569   \n",
       "Manufacturing                12.030247                8034.676175  0.027494   \n",
       "Office/Real Estate            9.406334                3852.886145  0.048636   \n",
       "Other                        13.571609                2300.802566  0.014635   \n",
       "Restaurants                   9.138139                8342.588518  0.017975   \n",
       "Retail/Mercantile            11.008879                6865.479276 -0.022818   \n",
       "Services                     12.251756                2049.457244 -0.059094   \n",
       "Transportation               12.819473                3748.637935  0.017452   \n",
       "Utility                      15.665908                3644.353646  2.350025   \n",
       "Warehouses                    6.567306                3848.063740  0.112314   \n",
       "Wholesale                    16.165703                6856.003080  0.298250   \n",
       "Worship                      24.701906                2303.305482 -0.124903   \n",
       "\n",
       "                           SQFT_Code  mothly_Payment  In_Arrears  \n",
       "sgmt                                                              \n",
       "Agriculture                 2.397659      342.860457    0.066118  \n",
       "Amusement                   3.667831      543.765834    0.137240  \n",
       "Communications              3.151522      289.705860    0.039517  \n",
       "Construction                3.073103      312.263672    0.101857  \n",
       "Convenience Stores          2.177632     1076.598791    0.128838  \n",
       "Data Center & Web Service   3.232804     3943.125688    0.097884  \n",
       "Education                   4.388582      837.021199    0.098874  \n",
       "Government                  4.853934      510.574554    0.027974  \n",
       "Grocery                     3.100959     2174.313776    0.100707  \n",
       "Healthcare                  3.338399      862.184313    0.080998  \n",
       "Hotels/Lodging              3.563005     2067.787957    0.143969  \n",
       "Manufacturing               3.580229      944.520600    0.078583  \n",
       "Office/Real Estate          3.295672      554.974218    0.101029  \n",
       "Other                       3.129158      351.185230    0.075671  \n",
       "Restaurants                 2.722096     1065.228508    0.200567  \n",
       "Retail/Mercantile           3.121741      798.362196    0.124713  \n",
       "Services                    2.222246      346.833168    0.199372  \n",
       "Transportation              4.233067      556.913663    0.108302  \n",
       "Utility                     4.109890      363.232919    0.040659  \n",
       "Warehouses                  3.114323      501.097885    0.104400  \n",
       "Wholesale                   3.719004      789.245627    0.077523  \n",
       "Worship                     2.428219      447.693750    0.088049  "
      ]
     },
     "execution_count": 38,
     "metadata": {},
     "output_type": "execute_result"
    }
   ],
   "source": [
    "Training_Data.groupby('sgmt').mean()"
   ]
  },
  {
   "cell_type": "code",
   "execution_count": 39,
   "metadata": {},
   "outputs": [
    {
     "data": {
      "text/html": [
       "<div>\n",
       "<style scoped>\n",
       "    .dataframe tbody tr th:only-of-type {\n",
       "        vertical-align: middle;\n",
       "    }\n",
       "\n",
       "    .dataframe tbody tr th {\n",
       "        vertical-align: top;\n",
       "    }\n",
       "\n",
       "    .dataframe thead th {\n",
       "        text-align: right;\n",
       "    }\n",
       "</style>\n",
       "<table border=\"1\" class=\"dataframe\">\n",
       "  <thead>\n",
       "    <tr style=\"text-align: right;\">\n",
       "      <th></th>\n",
       "      <th>Account_Age</th>\n",
       "      <th>electricity_monthly_usage</th>\n",
       "      <th>chgrt</th>\n",
       "      <th>SQFT_Code</th>\n",
       "      <th>mothly_Payment</th>\n",
       "      <th>In_Arrears</th>\n",
       "    </tr>\n",
       "    <tr>\n",
       "      <th>GPC_Region</th>\n",
       "      <th></th>\n",
       "      <th></th>\n",
       "      <th></th>\n",
       "      <th></th>\n",
       "      <th></th>\n",
       "      <th></th>\n",
       "    </tr>\n",
       "  </thead>\n",
       "  <tbody>\n",
       "    <tr>\n",
       "      <td>Missing</td>\n",
       "      <td>10.050156</td>\n",
       "      <td>0.156406</td>\n",
       "      <td>0.000051</td>\n",
       "      <td>3.023789</td>\n",
       "      <td>85.523441</td>\n",
       "      <td>0.054453</td>\n",
       "    </tr>\n",
       "    <tr>\n",
       "      <td>Northeast</td>\n",
       "      <td>13.105021</td>\n",
       "      <td>4333.244579</td>\n",
       "      <td>0.013749</td>\n",
       "      <td>3.183236</td>\n",
       "      <td>563.932680</td>\n",
       "      <td>0.089715</td>\n",
       "    </tr>\n",
       "    <tr>\n",
       "      <td>Northwest</td>\n",
       "      <td>10.935509</td>\n",
       "      <td>5745.895986</td>\n",
       "      <td>0.003037</td>\n",
       "      <td>3.278818</td>\n",
       "      <td>728.242825</td>\n",
       "      <td>0.112608</td>\n",
       "    </tr>\n",
       "    <tr>\n",
       "      <td>Southeast</td>\n",
       "      <td>13.892020</td>\n",
       "      <td>3983.841277</td>\n",
       "      <td>0.107096</td>\n",
       "      <td>3.240643</td>\n",
       "      <td>542.766512</td>\n",
       "      <td>0.099226</td>\n",
       "    </tr>\n",
       "    <tr>\n",
       "      <td>Southwest</td>\n",
       "      <td>14.634541</td>\n",
       "      <td>4032.908076</td>\n",
       "      <td>0.342731</td>\n",
       "      <td>3.155916</td>\n",
       "      <td>511.641775</td>\n",
       "      <td>0.099859</td>\n",
       "    </tr>\n",
       "  </tbody>\n",
       "</table>\n",
       "</div>"
      ],
      "text/plain": [
       "            Account_Age  electricity_monthly_usage     chgrt  SQFT_Code  \\\n",
       "GPC_Region                                                                \n",
       "Missing       10.050156                   0.156406  0.000051   3.023789   \n",
       "Northeast     13.105021                4333.244579  0.013749   3.183236   \n",
       "Northwest     10.935509                5745.895986  0.003037   3.278818   \n",
       "Southeast     13.892020                3983.841277  0.107096   3.240643   \n",
       "Southwest     14.634541                4032.908076  0.342731   3.155916   \n",
       "\n",
       "            mothly_Payment  In_Arrears  \n",
       "GPC_Region                              \n",
       "Missing          85.523441    0.054453  \n",
       "Northeast       563.932680    0.089715  \n",
       "Northwest       728.242825    0.112608  \n",
       "Southeast       542.766512    0.099226  \n",
       "Southwest       511.641775    0.099859  "
      ]
     },
     "execution_count": 39,
     "metadata": {},
     "output_type": "execute_result"
    }
   ],
   "source": [
    "Training_Data.groupby('GPC_Region').mean()"
   ]
  },
  {
   "cell_type": "code",
   "execution_count": 40,
   "metadata": {},
   "outputs": [
    {
     "data": {
      "text/html": [
       "<div>\n",
       "<style scoped>\n",
       "    .dataframe tbody tr th:only-of-type {\n",
       "        vertical-align: middle;\n",
       "    }\n",
       "\n",
       "    .dataframe tbody tr th {\n",
       "        vertical-align: top;\n",
       "    }\n",
       "\n",
       "    .dataframe thead th {\n",
       "        text-align: right;\n",
       "    }\n",
       "</style>\n",
       "<table border=\"1\" class=\"dataframe\">\n",
       "  <thead>\n",
       "    <tr style=\"text-align: right;\">\n",
       "      <th></th>\n",
       "      <th>Account_Age</th>\n",
       "      <th>electricity_monthly_usage</th>\n",
       "      <th>chgrt</th>\n",
       "      <th>SQFT_Code</th>\n",
       "      <th>mothly_Payment</th>\n",
       "      <th>In_Arrears</th>\n",
       "    </tr>\n",
       "    <tr>\n",
       "      <th>FL_EBILL</th>\n",
       "      <th></th>\n",
       "      <th></th>\n",
       "      <th></th>\n",
       "      <th></th>\n",
       "      <th></th>\n",
       "      <th></th>\n",
       "    </tr>\n",
       "  </thead>\n",
       "  <tbody>\n",
       "    <tr>\n",
       "      <td>D</td>\n",
       "      <td>16.601816</td>\n",
       "      <td>10143.941869</td>\n",
       "      <td>-0.000242</td>\n",
       "      <td>3.500437</td>\n",
       "      <td>1039.836128</td>\n",
       "      <td>0.011439</td>\n",
       "    </tr>\n",
       "    <tr>\n",
       "      <td>E</td>\n",
       "      <td>7.647970</td>\n",
       "      <td>4562.628035</td>\n",
       "      <td>0.054402</td>\n",
       "      <td>3.003403</td>\n",
       "      <td>632.670580</td>\n",
       "      <td>0.148590</td>\n",
       "    </tr>\n",
       "    <tr>\n",
       "      <td>F</td>\n",
       "      <td>26.734247</td>\n",
       "      <td>748.500000</td>\n",
       "      <td>-0.157178</td>\n",
       "      <td>3.000000</td>\n",
       "      <td>104.670000</td>\n",
       "      <td>0.000000</td>\n",
       "    </tr>\n",
       "    <tr>\n",
       "      <td>I</td>\n",
       "      <td>12.482877</td>\n",
       "      <td>14154.325000</td>\n",
       "      <td>0.019149</td>\n",
       "      <td>3.450000</td>\n",
       "      <td>2055.708000</td>\n",
       "      <td>0.000000</td>\n",
       "    </tr>\n",
       "    <tr>\n",
       "      <td>M</td>\n",
       "      <td>24.946979</td>\n",
       "      <td>5963.920131</td>\n",
       "      <td>0.046446</td>\n",
       "      <td>3.319068</td>\n",
       "      <td>686.224109</td>\n",
       "      <td>0.078383</td>\n",
       "    </tr>\n",
       "    <tr>\n",
       "      <td>N</td>\n",
       "      <td>8.114553</td>\n",
       "      <td>2963.056153</td>\n",
       "      <td>0.123795</td>\n",
       "      <td>3.249399</td>\n",
       "      <td>461.397149</td>\n",
       "      <td>0.107957</td>\n",
       "    </tr>\n",
       "  </tbody>\n",
       "</table>\n",
       "</div>"
      ],
      "text/plain": [
       "          Account_Age  electricity_monthly_usage     chgrt  SQFT_Code  \\\n",
       "FL_EBILL                                                                \n",
       "D           16.601816               10143.941869 -0.000242   3.500437   \n",
       "E            7.647970                4562.628035  0.054402   3.003403   \n",
       "F           26.734247                 748.500000 -0.157178   3.000000   \n",
       "I           12.482877               14154.325000  0.019149   3.450000   \n",
       "M           24.946979                5963.920131  0.046446   3.319068   \n",
       "N            8.114553                2963.056153  0.123795   3.249399   \n",
       "\n",
       "          mothly_Payment  In_Arrears  \n",
       "FL_EBILL                              \n",
       "D            1039.836128    0.011439  \n",
       "E             632.670580    0.148590  \n",
       "F             104.670000    0.000000  \n",
       "I            2055.708000    0.000000  \n",
       "M             686.224109    0.078383  \n",
       "N             461.397149    0.107957  "
      ]
     },
     "execution_count": 40,
     "metadata": {},
     "output_type": "execute_result"
    }
   ],
   "source": [
    "Training_Data.groupby('FL_EBILL').mean()"
   ]
  },
  {
   "cell_type": "code",
   "execution_count": 41,
   "metadata": {},
   "outputs": [
    {
     "data": {
      "text/html": [
       "<div>\n",
       "<style scoped>\n",
       "    .dataframe tbody tr th:only-of-type {\n",
       "        vertical-align: middle;\n",
       "    }\n",
       "\n",
       "    .dataframe tbody tr th {\n",
       "        vertical-align: top;\n",
       "    }\n",
       "\n",
       "    .dataframe thead th {\n",
       "        text-align: right;\n",
       "    }\n",
       "</style>\n",
       "<table border=\"1\" class=\"dataframe\">\n",
       "  <thead>\n",
       "    <tr style=\"text-align: right;\">\n",
       "      <th></th>\n",
       "      <th>Account_Age</th>\n",
       "      <th>electricity_monthly_usage</th>\n",
       "      <th>chgrt</th>\n",
       "      <th>SQFT_Code</th>\n",
       "      <th>mothly_Payment</th>\n",
       "      <th>In_Arrears</th>\n",
       "    </tr>\n",
       "    <tr>\n",
       "      <th>CD_AD_TYPE</th>\n",
       "      <th></th>\n",
       "      <th></th>\n",
       "      <th></th>\n",
       "      <th></th>\n",
       "      <th></th>\n",
       "      <th></th>\n",
       "    </tr>\n",
       "  </thead>\n",
       "  <tbody>\n",
       "    <tr>\n",
       "      <td>C</td>\n",
       "      <td>11.754265</td>\n",
       "      <td>4878.884912</td>\n",
       "      <td>0.119049</td>\n",
       "      <td>3.496436</td>\n",
       "      <td>578.988074</td>\n",
       "      <td>0.069474</td>\n",
       "    </tr>\n",
       "    <tr>\n",
       "      <td>L</td>\n",
       "      <td>2.657449</td>\n",
       "      <td>434.278155</td>\n",
       "      <td>0.113956</td>\n",
       "      <td>3.266990</td>\n",
       "      <td>90.345694</td>\n",
       "      <td>0.087864</td>\n",
       "    </tr>\n",
       "    <tr>\n",
       "      <td>M</td>\n",
       "      <td>13.676504</td>\n",
       "      <td>5103.088463</td>\n",
       "      <td>0.097481</td>\n",
       "      <td>3.283840</td>\n",
       "      <td>653.672518</td>\n",
       "      <td>0.090874</td>\n",
       "    </tr>\n",
       "    <tr>\n",
       "      <td>P</td>\n",
       "      <td>9.543135</td>\n",
       "      <td>3652.227991</td>\n",
       "      <td>-0.024021</td>\n",
       "      <td>2.779207</td>\n",
       "      <td>542.646662</td>\n",
       "      <td>0.168899</td>\n",
       "    </tr>\n",
       "    <tr>\n",
       "      <td>Y</td>\n",
       "      <td>17.272027</td>\n",
       "      <td>4280.300725</td>\n",
       "      <td>0.406391</td>\n",
       "      <td>3.195652</td>\n",
       "      <td>584.854855</td>\n",
       "      <td>0.088164</td>\n",
       "    </tr>\n",
       "  </tbody>\n",
       "</table>\n",
       "</div>"
      ],
      "text/plain": [
       "            Account_Age  electricity_monthly_usage     chgrt  SQFT_Code  \\\n",
       "CD_AD_TYPE                                                                \n",
       "C             11.754265                4878.884912  0.119049   3.496436   \n",
       "L              2.657449                 434.278155  0.113956   3.266990   \n",
       "M             13.676504                5103.088463  0.097481   3.283840   \n",
       "P              9.543135                3652.227991 -0.024021   2.779207   \n",
       "Y             17.272027                4280.300725  0.406391   3.195652   \n",
       "\n",
       "            mothly_Payment  In_Arrears  \n",
       "CD_AD_TYPE                              \n",
       "C               578.988074    0.069474  \n",
       "L                90.345694    0.087864  \n",
       "M               653.672518    0.090874  \n",
       "P               542.646662    0.168899  \n",
       "Y               584.854855    0.088164  "
      ]
     },
     "execution_count": 41,
     "metadata": {},
     "output_type": "execute_result"
    }
   ],
   "source": [
    "Training_Data.groupby('CD_AD_TYPE').mean()"
   ]
  },
  {
   "cell_type": "code",
   "execution_count": 42,
   "metadata": {
    "scrolled": false
   },
   "outputs": [
    {
     "data": {
      "text/plain": [
       "(5.0, 0.0)"
      ]
     },
     "execution_count": 42,
     "metadata": {},
     "output_type": "execute_result"
    },
    {
     "data": {
      "image/png": "[encoded data removed]",
      "text/plain": [
       "<Figure size 432x288 with 2 Axes>"
      ]
     },
     "metadata": {},
     "output_type": "display_data"
    }
   ],
   "source": [
    "df = Training_Data.iloc[:,0:5]\n",
    "hm = sns.heatmap(df.corr(), fmt='.1g', annot = True, vmin=-1, vmax=1, cmap = 'coolwarm', square = True)\n",
    "bottom, top = hm.get_ylim()\n",
    "hm.set_ylim(bottom + 0.5, top - 0.5)\n"
   ]
  },
  {
   "cell_type": "code",
   "execution_count": 43,
   "metadata": {
    "scrolled": true
   },
   "outputs": [
    {
     "data": {
      "text/html": [
       "<div>\n",
       "<style scoped>\n",
       "    .dataframe tbody tr th:only-of-type {\n",
       "        vertical-align: middle;\n",
       "    }\n",
       "\n",
       "    .dataframe tbody tr th {\n",
       "        vertical-align: top;\n",
       "    }\n",
       "\n",
       "    .dataframe thead th {\n",
       "        text-align: right;\n",
       "    }\n",
       "</style>\n",
       "<table border=\"1\" class=\"dataframe\">\n",
       "  <thead>\n",
       "    <tr style=\"text-align: right;\">\n",
       "      <th></th>\n",
       "      <th>Account_Age</th>\n",
       "      <th>electricity_monthly_usage</th>\n",
       "      <th>chgrt</th>\n",
       "      <th>SQFT_Code</th>\n",
       "      <th>mothly_Payment</th>\n",
       "      <th>sgmt</th>\n",
       "      <th>GPC_Region</th>\n",
       "      <th>CD_CREDIT_RATING</th>\n",
       "      <th>FL_EBILL</th>\n",
       "      <th>CD_AD_TYPE</th>\n",
       "    </tr>\n",
       "  </thead>\n",
       "  <tbody>\n",
       "    <tr>\n",
       "      <td>0</td>\n",
       "      <td>6.846575</td>\n",
       "      <td>12000.0</td>\n",
       "      <td>0.111111</td>\n",
       "      <td>6.0</td>\n",
       "      <td>2200.56</td>\n",
       "      <td>Manufacturing</td>\n",
       "      <td>Southeast</td>\n",
       "      <td>A</td>\n",
       "      <td>N</td>\n",
       "      <td>M</td>\n",
       "    </tr>\n",
       "    <tr>\n",
       "      <td>1</td>\n",
       "      <td>1.210959</td>\n",
       "      <td>167244.0</td>\n",
       "      <td>-0.078469</td>\n",
       "      <td>7.0</td>\n",
       "      <td>0.00</td>\n",
       "      <td>Office/Real Estate</td>\n",
       "      <td>Northwest</td>\n",
       "      <td>A</td>\n",
       "      <td>M</td>\n",
       "      <td>M</td>\n",
       "    </tr>\n",
       "    <tr>\n",
       "      <td>2</td>\n",
       "      <td>2.123288</td>\n",
       "      <td>168898.0</td>\n",
       "      <td>-0.047383</td>\n",
       "      <td>1.0</td>\n",
       "      <td>22444.97</td>\n",
       "      <td>Office/Real Estate</td>\n",
       "      <td>Northwest</td>\n",
       "      <td>A</td>\n",
       "      <td>M</td>\n",
       "      <td>M</td>\n",
       "    </tr>\n",
       "    <tr>\n",
       "      <td>3</td>\n",
       "      <td>22.915068</td>\n",
       "      <td>52489.0</td>\n",
       "      <td>-0.231651</td>\n",
       "      <td>7.0</td>\n",
       "      <td>3181.58</td>\n",
       "      <td>Hotels/Lodging</td>\n",
       "      <td>Northwest</td>\n",
       "      <td>A</td>\n",
       "      <td>D</td>\n",
       "      <td>M</td>\n",
       "    </tr>\n",
       "    <tr>\n",
       "      <td>4</td>\n",
       "      <td>16.715068</td>\n",
       "      <td>61200.0</td>\n",
       "      <td>-0.055556</td>\n",
       "      <td>3.0</td>\n",
       "      <td>7348.08</td>\n",
       "      <td>Retail/Mercantile</td>\n",
       "      <td>Northwest</td>\n",
       "      <td>A</td>\n",
       "      <td>D</td>\n",
       "      <td>M</td>\n",
       "    </tr>\n",
       "  </tbody>\n",
       "</table>\n",
       "</div>"
      ],
      "text/plain": [
       "   Account_Age  electricity_monthly_usage     chgrt  SQFT_Code  \\\n",
       "0     6.846575                    12000.0  0.111111        6.0   \n",
       "1     1.210959                   167244.0 -0.078469        7.0   \n",
       "2     2.123288                   168898.0 -0.047383        1.0   \n",
       "3    22.915068                    52489.0 -0.231651        7.0   \n",
       "4    16.715068                    61200.0 -0.055556        3.0   \n",
       "\n",
       "   mothly_Payment                sgmt GPC_Region CD_CREDIT_RATING FL_EBILL  \\\n",
       "0         2200.56       Manufacturing  Southeast                A        N   \n",
       "1            0.00  Office/Real Estate  Northwest                A        M   \n",
       "2        22444.97  Office/Real Estate  Northwest                A        M   \n",
       "3         3181.58      Hotels/Lodging  Northwest                A        D   \n",
       "4         7348.08   Retail/Mercantile  Northwest                A        D   \n",
       "\n",
       "  CD_AD_TYPE  \n",
       "0          M  \n",
       "1          M  \n",
       "2          M  \n",
       "3          M  \n",
       "4          M  "
      ]
     },
     "execution_count": 43,
     "metadata": {},
     "output_type": "execute_result"
    }
   ],
   "source": [
    "X = Training_Data.iloc[:,:-1]\n",
    "X.head()"
   ]
  },
  {
   "cell_type": "code",
   "execution_count": 44,
   "metadata": {},
   "outputs": [],
   "source": [
    "from statsmodels.stats.outliers_influence import variance_inflation_factor \n",
    "def calc_vif(X): \n",
    "    # Calculating VIF \n",
    "    vif = pd.DataFrame()\n",
    "    vif[\"variables\"] = X.columns \n",
    "    vif[\"VIF\"] = [variance_inflation_factor(X.values, i) for i in range(X.shape[1])] \n",
    "    return(vif) "
   ]
  },
  {
   "cell_type": "code",
   "execution_count": 45,
   "metadata": {},
   "outputs": [
    {
     "data": {
      "text/html": [
       "<div>\n",
       "<style scoped>\n",
       "    .dataframe tbody tr th:only-of-type {\n",
       "        vertical-align: middle;\n",
       "    }\n",
       "\n",
       "    .dataframe tbody tr th {\n",
       "        vertical-align: top;\n",
       "    }\n",
       "\n",
       "    .dataframe thead th {\n",
       "        text-align: right;\n",
       "    }\n",
       "</style>\n",
       "<table border=\"1\" class=\"dataframe\">\n",
       "  <thead>\n",
       "    <tr style=\"text-align: right;\">\n",
       "      <th></th>\n",
       "      <th>variables</th>\n",
       "      <th>VIF</th>\n",
       "    </tr>\n",
       "  </thead>\n",
       "  <tbody>\n",
       "    <tr>\n",
       "      <td>0</td>\n",
       "      <td>Account_Age</td>\n",
       "      <td>1.697185</td>\n",
       "    </tr>\n",
       "    <tr>\n",
       "      <td>1</td>\n",
       "      <td>electricity_monthly_usage</td>\n",
       "      <td>2.576381</td>\n",
       "    </tr>\n",
       "    <tr>\n",
       "      <td>2</td>\n",
       "      <td>chgrt</td>\n",
       "      <td>1.000111</td>\n",
       "    </tr>\n",
       "    <tr>\n",
       "      <td>3</td>\n",
       "      <td>SQFT_Code</td>\n",
       "      <td>1.768650</td>\n",
       "    </tr>\n",
       "    <tr>\n",
       "      <td>4</td>\n",
       "      <td>mothly_Payment</td>\n",
       "      <td>2.700886</td>\n",
       "    </tr>\n",
       "  </tbody>\n",
       "</table>\n",
       "</div>"
      ],
      "text/plain": [
       "                   variables       VIF\n",
       "0                Account_Age  1.697185\n",
       "1  electricity_monthly_usage  2.576381\n",
       "2                      chgrt  1.000111\n",
       "3                  SQFT_Code  1.768650\n",
       "4             mothly_Payment  2.700886"
      ]
     },
     "execution_count": 45,
     "metadata": {},
     "output_type": "execute_result"
    }
   ],
   "source": [
    "calc_vif(X.iloc[:,:5])"
   ]
  },
  {
   "cell_type": "code",
   "execution_count": 46,
   "metadata": {},
   "outputs": [
    {
     "data": {
      "text/plain": [
       "['sgmt', 'GPC_Region', 'CD_CREDIT_RATING', 'FL_EBILL', 'CD_AD_TYPE']"
      ]
     },
     "execution_count": 46,
     "metadata": {},
     "output_type": "execute_result"
    }
   ],
   "source": [
    "cat_vars = list(X.columns[5:])\n",
    "cat_vars"
   ]
  },
  {
   "cell_type": "code",
   "execution_count": 47,
   "metadata": {
    "scrolled": true
   },
   "outputs": [],
   "source": [
    "for var in cat_vars:\n",
    "    cat_list='var'+'_'+var\n",
    "    cat_list = pd.get_dummies(X[var], prefix = var)\n",
    "    data1 = pd.concat([X, cat_list], axis = 1)\n",
    "    X = data1"
   ]
  },
  {
   "cell_type": "code",
   "execution_count": 48,
   "metadata": {
    "scrolled": true
   },
   "outputs": [
    {
     "data": {
      "text/html": [
       "<div>\n",
       "<style scoped>\n",
       "    .dataframe tbody tr th:only-of-type {\n",
       "        vertical-align: middle;\n",
       "    }\n",
       "\n",
       "    .dataframe tbody tr th {\n",
       "        vertical-align: top;\n",
       "    }\n",
       "\n",
       "    .dataframe thead th {\n",
       "        text-align: right;\n",
       "    }\n",
       "</style>\n",
       "<table border=\"1\" class=\"dataframe\">\n",
       "  <thead>\n",
       "    <tr style=\"text-align: right;\">\n",
       "      <th></th>\n",
       "      <th>Account_Age</th>\n",
       "      <th>electricity_monthly_usage</th>\n",
       "      <th>chgrt</th>\n",
       "      <th>SQFT_Code</th>\n",
       "      <th>mothly_Payment</th>\n",
       "      <th>sgmt</th>\n",
       "      <th>GPC_Region</th>\n",
       "      <th>CD_CREDIT_RATING</th>\n",
       "      <th>FL_EBILL</th>\n",
       "      <th>CD_AD_TYPE</th>\n",
       "      <th>...</th>\n",
       "      <th>FL_EBILL_E</th>\n",
       "      <th>FL_EBILL_F</th>\n",
       "      <th>FL_EBILL_I</th>\n",
       "      <th>FL_EBILL_M</th>\n",
       "      <th>FL_EBILL_N</th>\n",
       "      <th>CD_AD_TYPE_C</th>\n",
       "      <th>CD_AD_TYPE_L</th>\n",
       "      <th>CD_AD_TYPE_M</th>\n",
       "      <th>CD_AD_TYPE_P</th>\n",
       "      <th>CD_AD_TYPE_Y</th>\n",
       "    </tr>\n",
       "  </thead>\n",
       "  <tbody>\n",
       "    <tr>\n",
       "      <td>0</td>\n",
       "      <td>6.846575</td>\n",
       "      <td>12000.0</td>\n",
       "      <td>0.111111</td>\n",
       "      <td>6.0</td>\n",
       "      <td>2200.56</td>\n",
       "      <td>Manufacturing</td>\n",
       "      <td>Southeast</td>\n",
       "      <td>A</td>\n",
       "      <td>N</td>\n",
       "      <td>M</td>\n",
       "      <td>...</td>\n",
       "      <td>0</td>\n",
       "      <td>0</td>\n",
       "      <td>0</td>\n",
       "      <td>0</td>\n",
       "      <td>1</td>\n",
       "      <td>0</td>\n",
       "      <td>0</td>\n",
       "      <td>1</td>\n",
       "      <td>0</td>\n",
       "      <td>0</td>\n",
       "    </tr>\n",
       "    <tr>\n",
       "      <td>1</td>\n",
       "      <td>1.210959</td>\n",
       "      <td>167244.0</td>\n",
       "      <td>-0.078469</td>\n",
       "      <td>7.0</td>\n",
       "      <td>0.00</td>\n",
       "      <td>Office/Real Estate</td>\n",
       "      <td>Northwest</td>\n",
       "      <td>A</td>\n",
       "      <td>M</td>\n",
       "      <td>M</td>\n",
       "      <td>...</td>\n",
       "      <td>0</td>\n",
       "      <td>0</td>\n",
       "      <td>0</td>\n",
       "      <td>1</td>\n",
       "      <td>0</td>\n",
       "      <td>0</td>\n",
       "      <td>0</td>\n",
       "      <td>1</td>\n",
       "      <td>0</td>\n",
       "      <td>0</td>\n",
       "    </tr>\n",
       "    <tr>\n",
       "      <td>2</td>\n",
       "      <td>2.123288</td>\n",
       "      <td>168898.0</td>\n",
       "      <td>-0.047383</td>\n",
       "      <td>1.0</td>\n",
       "      <td>22444.97</td>\n",
       "      <td>Office/Real Estate</td>\n",
       "      <td>Northwest</td>\n",
       "      <td>A</td>\n",
       "      <td>M</td>\n",
       "      <td>M</td>\n",
       "      <td>...</td>\n",
       "      <td>0</td>\n",
       "      <td>0</td>\n",
       "      <td>0</td>\n",
       "      <td>1</td>\n",
       "      <td>0</td>\n",
       "      <td>0</td>\n",
       "      <td>0</td>\n",
       "      <td>1</td>\n",
       "      <td>0</td>\n",
       "      <td>0</td>\n",
       "    </tr>\n",
       "    <tr>\n",
       "      <td>3</td>\n",
       "      <td>22.915068</td>\n",
       "      <td>52489.0</td>\n",
       "      <td>-0.231651</td>\n",
       "      <td>7.0</td>\n",
       "      <td>3181.58</td>\n",
       "      <td>Hotels/Lodging</td>\n",
       "      <td>Northwest</td>\n",
       "      <td>A</td>\n",
       "      <td>D</td>\n",
       "      <td>M</td>\n",
       "      <td>...</td>\n",
       "      <td>0</td>\n",
       "      <td>0</td>\n",
       "      <td>0</td>\n",
       "      <td>0</td>\n",
       "      <td>0</td>\n",
       "      <td>0</td>\n",
       "      <td>0</td>\n",
       "      <td>1</td>\n",
       "      <td>0</td>\n",
       "      <td>0</td>\n",
       "    </tr>\n",
       "    <tr>\n",
       "      <td>4</td>\n",
       "      <td>16.715068</td>\n",
       "      <td>61200.0</td>\n",
       "      <td>-0.055556</td>\n",
       "      <td>3.0</td>\n",
       "      <td>7348.08</td>\n",
       "      <td>Retail/Mercantile</td>\n",
       "      <td>Northwest</td>\n",
       "      <td>A</td>\n",
       "      <td>D</td>\n",
       "      <td>M</td>\n",
       "      <td>...</td>\n",
       "      <td>0</td>\n",
       "      <td>0</td>\n",
       "      <td>0</td>\n",
       "      <td>0</td>\n",
       "      <td>0</td>\n",
       "      <td>0</td>\n",
       "      <td>0</td>\n",
       "      <td>1</td>\n",
       "      <td>0</td>\n",
       "      <td>0</td>\n",
       "    </tr>\n",
       "  </tbody>\n",
       "</table>\n",
       "<p>5 rows × 53 columns</p>\n",
       "</div>"
      ],
      "text/plain": [
       "   Account_Age  electricity_monthly_usage     chgrt  SQFT_Code  \\\n",
       "0     6.846575                    12000.0  0.111111        6.0   \n",
       "1     1.210959                   167244.0 -0.078469        7.0   \n",
       "2     2.123288                   168898.0 -0.047383        1.0   \n",
       "3    22.915068                    52489.0 -0.231651        7.0   \n",
       "4    16.715068                    61200.0 -0.055556        3.0   \n",
       "\n",
       "   mothly_Payment                sgmt GPC_Region CD_CREDIT_RATING FL_EBILL  \\\n",
       "0         2200.56       Manufacturing  Southeast                A        N   \n",
       "1            0.00  Office/Real Estate  Northwest                A        M   \n",
       "2        22444.97  Office/Real Estate  Northwest                A        M   \n",
       "3         3181.58      Hotels/Lodging  Northwest                A        D   \n",
       "4         7348.08   Retail/Mercantile  Northwest                A        D   \n",
       "\n",
       "  CD_AD_TYPE  ...  FL_EBILL_E  FL_EBILL_F  FL_EBILL_I  FL_EBILL_M  FL_EBILL_N  \\\n",
       "0          M  ...           0           0           0           0           1   \n",
       "1          M  ...           0           0           0           1           0   \n",
       "2          M  ...           0           0           0           1           0   \n",
       "3          M  ...           0           0           0           0           0   \n",
       "4          M  ...           0           0           0           0           0   \n",
       "\n",
       "   CD_AD_TYPE_C  CD_AD_TYPE_L  CD_AD_TYPE_M  CD_AD_TYPE_P  CD_AD_TYPE_Y  \n",
       "0             0             0             1             0             0  \n",
       "1             0             0             1             0             0  \n",
       "2             0             0             1             0             0  \n",
       "3             0             0             1             0             0  \n",
       "4             0             0             1             0             0  \n",
       "\n",
       "[5 rows x 53 columns]"
      ]
     },
     "execution_count": 48,
     "metadata": {},
     "output_type": "execute_result"
    }
   ],
   "source": [
    "X.head()"
   ]
  },
  {
   "cell_type": "code",
   "execution_count": 49,
   "metadata": {},
   "outputs": [],
   "source": [
    "data_vars = X.columns.values.tolist()\n",
    "to_keep = [i for i in data_vars if i not in cat_vars]"
   ]
  },
  {
   "cell_type": "code",
   "execution_count": 50,
   "metadata": {},
   "outputs": [],
   "source": [
    "X_Train=X[to_keep]"
   ]
  },
  {
   "cell_type": "code",
   "execution_count": 51,
   "metadata": {},
   "outputs": [],
   "source": [
    "Train_Label = Training_Data['In_Arrears']"
   ]
  },
  {
   "cell_type": "code",
   "execution_count": 52,
   "metadata": {},
   "outputs": [],
   "source": [
    "X_train, X_test, y_train, y_test = train_test_split(X_Train, Train_Label, test_size=0.3, random_state=0)"
   ]
  },
  {
   "cell_type": "code",
   "execution_count": 53,
   "metadata": {
    "scrolled": true
   },
   "outputs": [
    {
     "name": "stdout",
     "output_type": "stream",
     "text": [
      "length of oversampled data is  810332\n",
      "Number of non-arrears in oversampled data 405166\n",
      "Number of arrears in oversampled data 405166\n",
      "Proportion of non-arrears data in oversampled data is  0.5\n",
      "Proportion of arrears data in oversampled data is  0.5\n"
     ]
    }
   ],
   "source": [
    "#SMOTE\n",
    "from imblearn.over_sampling import SMOTE\n",
    "os = SMOTE(random_state=0)\n",
    "columns = X_train.columns\n",
    "os_data_X,os_data_y=os.fit_sample(X_train, y_train)\n",
    "os_data_X = pd.DataFrame(data=os_data_X,columns=columns )\n",
    "os_data_y= pd.DataFrame(data=os_data_y,columns=['In_Arrears'])\n",
    "# we can Check the numbers of our data\n",
    "print(\"length of oversampled data is \",len(os_data_X))\n",
    "print(\"Number of non-arrears in oversampled data\",len(os_data_y[os_data_y['In_Arrears']==0]))\n",
    "print(\"Number of arrears in oversampled data\",len(os_data_y[os_data_y['In_Arrears']==1]))\n",
    "print(\"Proportion of non-arrears data in oversampled data is \",len(os_data_y[os_data_y['In_Arrears']==0])/len(os_data_X))\n",
    "print(\"Proportion of arrears data in oversampled data is \",len(os_data_y[os_data_y['In_Arrears']==1])/len(os_data_X))"
   ]
  },
  {
   "cell_type": "code",
   "execution_count": 364,
   "metadata": {
    "scrolled": true
   },
   "outputs": [
    {
     "data": {
      "text/plain": [
       "LogisticRegression(C=1, class_weight='balanced', l1_ratio=0.6, n_jobs=-1,\n",
       "                   penalty='elasticnet', solver='saga')"
      ]
     },
     "execution_count": 364,
     "metadata": {},
     "output_type": "execute_result"
    }
   ],
   "source": [
    "from sklearn.linear_model import LogisticRegression\n",
    "from sklearn import metrics\n",
    "logreg = LogisticRegression(penalty = 'elasticnet', solver = 'saga', l1_ratio = 0.6, C = 1, n_jobs = -1, class_weight = 'balanced')\n",
    "logreg.fit(X_train, y_train)"
   ]
  },
  {
   "cell_type": "code",
   "execution_count": 372,
   "metadata": {
    "scrolled": true
   },
   "outputs": [
    {
     "name": "stdout",
     "output_type": "stream",
     "text": [
      "Accuracy of logistic regression classifier on test set: 0.89\n"
     ]
    }
   ],
   "source": [
    "print('Accuracy of logistic regression classifier on test set: {:.2f}'.format(logreg.score(X_test, y_test)))"
   ]
  },
  {
   "cell_type": "code",
   "execution_count": 366,
   "metadata": {},
   "outputs": [
    {
     "name": "stdout",
     "output_type": "stream",
     "text": [
      "[[162855  10722]\n",
      " [ 10245   9596]]\n"
     ]
    }
   ],
   "source": [
    "y_pred = logreg.predict(X_test)\n",
    "from sklearn.metrics import confusion_matrix\n",
    "confusion_matrix = confusion_matrix(y_test, y_pred)\n",
    "print(confusion_matrix)"
   ]
  },
  {
   "cell_type": "markdown",
   "metadata": {},
   "source": [
    "Recall: Recall gives us an idea about when it's actually yes, how often does it predict yes.\\\n",
    "Precision: Precision tells us about when it predicts yes, how often it is correct.\\\n",
    "F-measure: (2*Recall*Precision)/(Recall+Precision).\\\n",
    "High recall, low precision: This means that most of the positive examples are correctly recognized (Low FN) but there are a lot of false positive.\\\n",
    "Low recall, high precision: This shows that we miss a lof of positive examples(high FN) but those we predict positive are indeed positive (low FP).\\\n",
    "F-measure: Since we have two measures (Precision and Recall) it helps to have a measurement that represents both of them. We calculate an F-measure which uses Harmonic Mean in place of Arithmetic Mean as it punishes the extreme values more. The F-Measure will always be nearer to the smaller value of Precision or Recall."
   ]
  },
  {
   "cell_type": "code",
   "execution_count": 367,
   "metadata": {
    "scrolled": true
   },
   "outputs": [
    {
     "name": "stdout",
     "output_type": "stream",
     "text": [
      "              precision    recall  f1-score   support\n",
      "\n",
      "           0       0.94      0.94      0.94    173577\n",
      "           1       0.47      0.48      0.48     19841\n",
      "\n",
      "    accuracy                           0.89    193418\n",
      "   macro avg       0.71      0.71      0.71    193418\n",
      "weighted avg       0.89      0.89      0.89    193418\n",
      "\n"
     ]
    }
   ],
   "source": [
    "from sklearn.metrics import classification_report\n",
    "print(classification_report(y_test, y_pred))"
   ]
  },
  {
   "cell_type": "markdown",
   "metadata": {},
   "source": [
    "ROC is a probability curve and AUC represents degree or measure of separability. It tells how much model is capable of distinguishing between classes. Higher the AUC, better the model is at predicting 0s AS 0s and 1s as 1s."
   ]
  },
  {
   "cell_type": "code",
   "execution_count": 368,
   "metadata": {
    "scrolled": true
   },
   "outputs": [
    {
     "data": {
      "image/png": "[encoded data removed]",
      "text/plain": [
       "<Figure size 432x288 with 1 Axes>"
      ]
     },
     "metadata": {},
     "output_type": "display_data"
    }
   ],
   "source": [
    "from sklearn.metrics import roc_auc_score\n",
    "from sklearn.metrics import roc_curve\n",
    "logit_roc_auc = roc_auc_score(y_test, logreg.predict(X_test))\n",
    "fpr, tpr, thresholds = roc_curve(y_test, logreg.predict_proba(X_test)[:,1])\n",
    "plt.figure()\n",
    "plt.plot(fpr, tpr, label='Logistic Regression (area = %0.2f)' % logit_roc_auc)\n",
    "plt.plot([0, 1], [0, 1],'r--')\n",
    "plt.xlim([0.0, 1.0])\n",
    "plt.ylim([0.0, 1.05])\n",
    "plt.xlabel('False Positive Rate')\n",
    "plt.ylabel('True Positive Rate')\n",
    "plt.title('Receiver operating characteristic')\n",
    "plt.legend(loc=\"lower right\")\n",
    "plt.savefig('Log_ROC')\n",
    "plt.show()"
   ]
  },
  {
   "cell_type": "code",
   "execution_count": 369,
   "metadata": {},
   "outputs": [],
   "source": [
    "coefs = np.reshape(np.round(logreg.coef_,8),(-1,1))"
   ]
  },
  {
   "cell_type": "code",
   "execution_count": 370,
   "metadata": {},
   "outputs": [
    {
     "data": {
      "text/html": [
       "<div>\n",
       "<style scoped>\n",
       "    .dataframe tbody tr th:only-of-type {\n",
       "        vertical-align: middle;\n",
       "    }\n",
       "\n",
       "    .dataframe tbody tr th {\n",
       "        vertical-align: top;\n",
       "    }\n",
       "\n",
       "    .dataframe thead th {\n",
       "        text-align: right;\n",
       "    }\n",
       "</style>\n",
       "<table border=\"1\" class=\"dataframe\">\n",
       "  <thead>\n",
       "    <tr style=\"text-align: right;\">\n",
       "      <th></th>\n",
       "      <th>feature_name</th>\n",
       "      <th>coef</th>\n",
       "    </tr>\n",
       "  </thead>\n",
       "  <tbody>\n",
       "    <tr>\n",
       "      <td>0</td>\n",
       "      <td>Account_Age</td>\n",
       "      <td>-1.830000e-06</td>\n",
       "    </tr>\n",
       "    <tr>\n",
       "      <td>1</td>\n",
       "      <td>electricity_monthly_usage</td>\n",
       "      <td>1.980000e-06</td>\n",
       "    </tr>\n",
       "    <tr>\n",
       "      <td>2</td>\n",
       "      <td>chgrt</td>\n",
       "      <td>-1.000000e-08</td>\n",
       "    </tr>\n",
       "    <tr>\n",
       "      <td>3</td>\n",
       "      <td>SQFT_Code</td>\n",
       "      <td>-1.400000e-07</td>\n",
       "    </tr>\n",
       "    <tr>\n",
       "      <td>4</td>\n",
       "      <td>mothly_Payment</td>\n",
       "      <td>-6.999000e-05</td>\n",
       "    </tr>\n",
       "    <tr>\n",
       "      <td>5</td>\n",
       "      <td>sgmt_Agriculture</td>\n",
       "      <td>-0.000000e+00</td>\n",
       "    </tr>\n",
       "    <tr>\n",
       "      <td>6</td>\n",
       "      <td>sgmt_Amusement</td>\n",
       "      <td>0.000000e+00</td>\n",
       "    </tr>\n",
       "    <tr>\n",
       "      <td>7</td>\n",
       "      <td>sgmt_Communications</td>\n",
       "      <td>-2.000000e-08</td>\n",
       "    </tr>\n",
       "    <tr>\n",
       "      <td>8</td>\n",
       "      <td>sgmt_Construction</td>\n",
       "      <td>0.000000e+00</td>\n",
       "    </tr>\n",
       "    <tr>\n",
       "      <td>9</td>\n",
       "      <td>sgmt_Convenience Stores</td>\n",
       "      <td>0.000000e+00</td>\n",
       "    </tr>\n",
       "    <tr>\n",
       "      <td>10</td>\n",
       "      <td>sgmt_Data Center &amp; Web Service</td>\n",
       "      <td>0.000000e+00</td>\n",
       "    </tr>\n",
       "    <tr>\n",
       "      <td>11</td>\n",
       "      <td>sgmt_Education</td>\n",
       "      <td>-0.000000e+00</td>\n",
       "    </tr>\n",
       "    <tr>\n",
       "      <td>12</td>\n",
       "      <td>sgmt_Government</td>\n",
       "      <td>-2.000000e-08</td>\n",
       "    </tr>\n",
       "    <tr>\n",
       "      <td>13</td>\n",
       "      <td>sgmt_Grocery</td>\n",
       "      <td>0.000000e+00</td>\n",
       "    </tr>\n",
       "    <tr>\n",
       "      <td>14</td>\n",
       "      <td>sgmt_Healthcare</td>\n",
       "      <td>-0.000000e+00</td>\n",
       "    </tr>\n",
       "    <tr>\n",
       "      <td>15</td>\n",
       "      <td>sgmt_Hotels/Lodging</td>\n",
       "      <td>0.000000e+00</td>\n",
       "    </tr>\n",
       "    <tr>\n",
       "      <td>16</td>\n",
       "      <td>sgmt_Manufacturing</td>\n",
       "      <td>-1.000000e-08</td>\n",
       "    </tr>\n",
       "    <tr>\n",
       "      <td>17</td>\n",
       "      <td>sgmt_Office/Real Estate</td>\n",
       "      <td>0.000000e+00</td>\n",
       "    </tr>\n",
       "    <tr>\n",
       "      <td>18</td>\n",
       "      <td>sgmt_Other</td>\n",
       "      <td>-1.000000e-08</td>\n",
       "    </tr>\n",
       "    <tr>\n",
       "      <td>19</td>\n",
       "      <td>sgmt_Restaurants</td>\n",
       "      <td>2.000000e-08</td>\n",
       "    </tr>\n",
       "    <tr>\n",
       "      <td>20</td>\n",
       "      <td>sgmt_Retail/Mercantile</td>\n",
       "      <td>1.000000e-08</td>\n",
       "    </tr>\n",
       "    <tr>\n",
       "      <td>21</td>\n",
       "      <td>sgmt_Services</td>\n",
       "      <td>3.000000e-08</td>\n",
       "    </tr>\n",
       "    <tr>\n",
       "      <td>22</td>\n",
       "      <td>sgmt_Transportation</td>\n",
       "      <td>0.000000e+00</td>\n",
       "    </tr>\n",
       "    <tr>\n",
       "      <td>23</td>\n",
       "      <td>sgmt_Utility</td>\n",
       "      <td>-0.000000e+00</td>\n",
       "    </tr>\n",
       "    <tr>\n",
       "      <td>24</td>\n",
       "      <td>sgmt_Warehouses</td>\n",
       "      <td>0.000000e+00</td>\n",
       "    </tr>\n",
       "    <tr>\n",
       "      <td>25</td>\n",
       "      <td>sgmt_Wholesale</td>\n",
       "      <td>-0.000000e+00</td>\n",
       "    </tr>\n",
       "    <tr>\n",
       "      <td>26</td>\n",
       "      <td>sgmt_Worship</td>\n",
       "      <td>-0.000000e+00</td>\n",
       "    </tr>\n",
       "    <tr>\n",
       "      <td>27</td>\n",
       "      <td>GPC_Region_Missing</td>\n",
       "      <td>-1.000000e-08</td>\n",
       "    </tr>\n",
       "    <tr>\n",
       "      <td>28</td>\n",
       "      <td>GPC_Region_Northeast</td>\n",
       "      <td>-1.000000e-08</td>\n",
       "    </tr>\n",
       "    <tr>\n",
       "      <td>29</td>\n",
       "      <td>GPC_Region_Northwest</td>\n",
       "      <td>3.000000e-08</td>\n",
       "    </tr>\n",
       "    <tr>\n",
       "      <td>30</td>\n",
       "      <td>GPC_Region_Southeast</td>\n",
       "      <td>-0.000000e+00</td>\n",
       "    </tr>\n",
       "    <tr>\n",
       "      <td>31</td>\n",
       "      <td>GPC_Region_Southwest</td>\n",
       "      <td>-0.000000e+00</td>\n",
       "    </tr>\n",
       "    <tr>\n",
       "      <td>32</td>\n",
       "      <td>CD_CREDIT_RATING_A</td>\n",
       "      <td>-1.500000e-07</td>\n",
       "    </tr>\n",
       "    <tr>\n",
       "      <td>33</td>\n",
       "      <td>CD_CREDIT_RATING_B</td>\n",
       "      <td>2.000000e-08</td>\n",
       "    </tr>\n",
       "    <tr>\n",
       "      <td>34</td>\n",
       "      <td>CD_CREDIT_RATING_C</td>\n",
       "      <td>2.000000e-08</td>\n",
       "    </tr>\n",
       "    <tr>\n",
       "      <td>35</td>\n",
       "      <td>CD_CREDIT_RATING_D</td>\n",
       "      <td>1.300000e-07</td>\n",
       "    </tr>\n",
       "    <tr>\n",
       "      <td>36</td>\n",
       "      <td>CD_CREDIT_RATING_Missing</td>\n",
       "      <td>-0.000000e+00</td>\n",
       "    </tr>\n",
       "    <tr>\n",
       "      <td>37</td>\n",
       "      <td>FL_EBILL_D</td>\n",
       "      <td>-5.000000e-08</td>\n",
       "    </tr>\n",
       "    <tr>\n",
       "      <td>38</td>\n",
       "      <td>FL_EBILL_E</td>\n",
       "      <td>6.000000e-08</td>\n",
       "    </tr>\n",
       "    <tr>\n",
       "      <td>39</td>\n",
       "      <td>FL_EBILL_F</td>\n",
       "      <td>0.000000e+00</td>\n",
       "    </tr>\n",
       "    <tr>\n",
       "      <td>40</td>\n",
       "      <td>FL_EBILL_I</td>\n",
       "      <td>-0.000000e+00</td>\n",
       "    </tr>\n",
       "    <tr>\n",
       "      <td>41</td>\n",
       "      <td>FL_EBILL_M</td>\n",
       "      <td>-2.000000e-08</td>\n",
       "    </tr>\n",
       "    <tr>\n",
       "      <td>42</td>\n",
       "      <td>FL_EBILL_N</td>\n",
       "      <td>1.000000e-08</td>\n",
       "    </tr>\n",
       "    <tr>\n",
       "      <td>43</td>\n",
       "      <td>CD_AD_TYPE_C</td>\n",
       "      <td>-3.000000e-08</td>\n",
       "    </tr>\n",
       "    <tr>\n",
       "      <td>44</td>\n",
       "      <td>CD_AD_TYPE_L</td>\n",
       "      <td>-0.000000e+00</td>\n",
       "    </tr>\n",
       "    <tr>\n",
       "      <td>45</td>\n",
       "      <td>CD_AD_TYPE_M</td>\n",
       "      <td>-3.000000e-08</td>\n",
       "    </tr>\n",
       "    <tr>\n",
       "      <td>46</td>\n",
       "      <td>CD_AD_TYPE_P</td>\n",
       "      <td>7.000000e-08</td>\n",
       "    </tr>\n",
       "    <tr>\n",
       "      <td>47</td>\n",
       "      <td>CD_AD_TYPE_Y</td>\n",
       "      <td>-0.000000e+00</td>\n",
       "    </tr>\n",
       "  </tbody>\n",
       "</table>\n",
       "</div>"
      ],
      "text/plain": [
       "                      feature_name          coef\n",
       "0                      Account_Age -1.830000e-06\n",
       "1        electricity_monthly_usage  1.980000e-06\n",
       "2                            chgrt -1.000000e-08\n",
       "3                        SQFT_Code -1.400000e-07\n",
       "4                   mothly_Payment -6.999000e-05\n",
       "5                 sgmt_Agriculture -0.000000e+00\n",
       "6                   sgmt_Amusement  0.000000e+00\n",
       "7              sgmt_Communications -2.000000e-08\n",
       "8                sgmt_Construction  0.000000e+00\n",
       "9          sgmt_Convenience Stores  0.000000e+00\n",
       "10  sgmt_Data Center & Web Service  0.000000e+00\n",
       "11                  sgmt_Education -0.000000e+00\n",
       "12                 sgmt_Government -2.000000e-08\n",
       "13                    sgmt_Grocery  0.000000e+00\n",
       "14                 sgmt_Healthcare -0.000000e+00\n",
       "15             sgmt_Hotels/Lodging  0.000000e+00\n",
       "16              sgmt_Manufacturing -1.000000e-08\n",
       "17         sgmt_Office/Real Estate  0.000000e+00\n",
       "18                      sgmt_Other -1.000000e-08\n",
       "19                sgmt_Restaurants  2.000000e-08\n",
       "20          sgmt_Retail/Mercantile  1.000000e-08\n",
       "21                   sgmt_Services  3.000000e-08\n",
       "22             sgmt_Transportation  0.000000e+00\n",
       "23                    sgmt_Utility -0.000000e+00\n",
       "24                 sgmt_Warehouses  0.000000e+00\n",
       "25                  sgmt_Wholesale -0.000000e+00\n",
       "26                    sgmt_Worship -0.000000e+00\n",
       "27              GPC_Region_Missing -1.000000e-08\n",
       "28            GPC_Region_Northeast -1.000000e-08\n",
       "29            GPC_Region_Northwest  3.000000e-08\n",
       "30            GPC_Region_Southeast -0.000000e+00\n",
       "31            GPC_Region_Southwest -0.000000e+00\n",
       "32              CD_CREDIT_RATING_A -1.500000e-07\n",
       "33              CD_CREDIT_RATING_B  2.000000e-08\n",
       "34              CD_CREDIT_RATING_C  2.000000e-08\n",
       "35              CD_CREDIT_RATING_D  1.300000e-07\n",
       "36        CD_CREDIT_RATING_Missing -0.000000e+00\n",
       "37                      FL_EBILL_D -5.000000e-08\n",
       "38                      FL_EBILL_E  6.000000e-08\n",
       "39                      FL_EBILL_F  0.000000e+00\n",
       "40                      FL_EBILL_I -0.000000e+00\n",
       "41                      FL_EBILL_M -2.000000e-08\n",
       "42                      FL_EBILL_N  1.000000e-08\n",
       "43                    CD_AD_TYPE_C -3.000000e-08\n",
       "44                    CD_AD_TYPE_L -0.000000e+00\n",
       "45                    CD_AD_TYPE_M -3.000000e-08\n",
       "46                    CD_AD_TYPE_P  7.000000e-08\n",
       "47                    CD_AD_TYPE_Y -0.000000e+00"
      ]
     },
     "execution_count": 370,
     "metadata": {},
     "output_type": "execute_result"
    }
   ],
   "source": [
    "coef = pd.DataFrame()\n",
    "coef['feature_name'] = X_train.columns\n",
    "coef['coef'] = coefs\n",
    "coef"
   ]
  },
  {
   "cell_type": "code",
   "execution_count": 371,
   "metadata": {},
   "outputs": [
    {
     "data": {
      "text/plain": [
       "array([8.36018783e-09])"
      ]
     },
     "execution_count": 371,
     "metadata": {},
     "output_type": "execute_result"
    }
   ],
   "source": [
    "logreg.intercept_"
   ]
  },
  {
   "cell_type": "code",
   "execution_count": 374,
   "metadata": {},
   "outputs": [
    {
     "data": {
      "text/plain": [
       "LogisticRegression(C=1, l1_ratio=0.6, n_jobs=-1, penalty='elasticnet',\n",
       "                   solver='saga')"
      ]
     },
     "execution_count": 374,
     "metadata": {},
     "output_type": "execute_result"
    }
   ],
   "source": [
    "logreg2 = LogisticRegression(penalty = 'elasticnet', solver = 'saga', l1_ratio = 0.6, C = 1, n_jobs = -1)\n",
    "logreg2.fit(os_data_X, os_data_y)"
   ]
  },
  {
   "cell_type": "code",
   "execution_count": 375,
   "metadata": {},
   "outputs": [
    {
     "name": "stdout",
     "output_type": "stream",
     "text": [
      "[[162935  10642]\n",
      " [ 10209   9632]]\n"
     ]
    }
   ],
   "source": [
    "y_pred = logreg2.predict(X_test)\n",
    "from sklearn.metrics import confusion_matrix\n",
    "confusion_matrix = confusion_matrix(y_test, y_pred)\n",
    "print(confusion_matrix)"
   ]
  },
  {
   "cell_type": "code",
   "execution_count": 376,
   "metadata": {},
   "outputs": [
    {
     "name": "stdout",
     "output_type": "stream",
     "text": [
      "              precision    recall  f1-score   support\n",
      "\n",
      "           0       0.94      0.94      0.94    173577\n",
      "           1       0.48      0.49      0.48     19841\n",
      "\n",
      "    accuracy                           0.89    193418\n",
      "   macro avg       0.71      0.71      0.71    193418\n",
      "weighted avg       0.89      0.89      0.89    193418\n",
      "\n"
     ]
    }
   ],
   "source": [
    "from sklearn.metrics import classification_report\n",
    "print(classification_report(y_test, y_pred))"
   ]
  },
  {
   "cell_type": "code",
   "execution_count": 294,
   "metadata": {},
   "outputs": [
    {
     "data": {
      "text/plain": [
       "RandomForestClassifier(class_weight='balanced', max_depth=25, n_jobs=-1,\n",
       "                       random_state=42)"
      ]
     },
     "execution_count": 294,
     "metadata": {},
     "output_type": "execute_result"
    }
   ],
   "source": [
    "# Import the model we are using\n",
    "from sklearn.ensemble import RandomForestClassifier\n",
    "rf = RandomForestClassifier(n_estimators = 100, n_jobs=-1, random_state=42, max_depth = 25, class_weight = 'balanced')# Train the model on training data\n",
    "rf.fit(X_train, y_train)"
   ]
  },
  {
   "cell_type": "code",
   "execution_count": 295,
   "metadata": {},
   "outputs": [
    {
     "name": "stdout",
     "output_type": "stream",
     "text": [
      "Accuracy of Random Forest classifier on test set: 0.91\n"
     ]
    }
   ],
   "source": [
    "y_pred = rf.predict(X_test)\n",
    "print('Accuracy of Random Forest classifier on test set: {:.2f}'.format(rf.score(X_test, y_test)))"
   ]
  },
  {
   "cell_type": "code",
   "execution_count": 296,
   "metadata": {},
   "outputs": [
    {
     "name": "stdout",
     "output_type": "stream",
     "text": [
      "[[164772   8805]\n",
      " [  8435  11406]]\n"
     ]
    }
   ],
   "source": [
    "from sklearn.metrics import confusion_matrix\n",
    "confusion_matrix = confusion_matrix(y_test, y_pred)\n",
    "print(confusion_matrix)"
   ]
  },
  {
   "cell_type": "code",
   "execution_count": 297,
   "metadata": {
    "scrolled": false
   },
   "outputs": [
    {
     "name": "stdout",
     "output_type": "stream",
     "text": [
      "              precision    recall  f1-score   support\n",
      "\n",
      "           0       0.95      0.95      0.95    173577\n",
      "           1       0.56      0.57      0.57     19841\n",
      "\n",
      "    accuracy                           0.91    193418\n",
      "   macro avg       0.76      0.76      0.76    193418\n",
      "weighted avg       0.91      0.91      0.91    193418\n",
      "\n"
     ]
    }
   ],
   "source": [
    "from sklearn.metrics import classification_report\n",
    "print(classification_report(y_test, y_pred))"
   ]
  },
  {
   "cell_type": "code",
   "execution_count": 304,
   "metadata": {},
   "outputs": [
    {
     "data": {
      "image/png": "[encoded data removed]",
      "text/plain": [
       "<Figure size 432x288 with 1 Axes>"
      ]
     },
     "metadata": {},
     "output_type": "display_data"
    }
   ],
   "source": [
    "rf_roc_auc = roc_auc_score(y_test, rf.predict(X_test))\n",
    "fpr, tpr, thresholds = roc_curve(y_test, rf.predict_proba(X_test)[:,1])\n",
    "plt.figure()\n",
    "plt.plot(fpr, tpr, label='Random Forest (area = %0.2f)' % rf_roc_auc)\n",
    "plt.plot([0, 1], [0, 1],'r--')\n",
    "plt.xlim([0.0, 1.0])\n",
    "plt.ylim([0.0, 1.05])\n",
    "plt.xlabel('False Positive Rate')\n",
    "plt.ylabel('True Positive Rate')\n",
    "plt.title('Receiver operating characteristic')\n",
    "plt.legend(loc=\"lower right\")\n",
    "plt.savefig('RF_ROC')\n",
    "plt.show()"
   ]
  },
  {
   "cell_type": "markdown",
   "metadata": {},
   "source": [
    "Tree-specific feature importance measure and computes the average reduction in impurity across all trees in the forest due to each feature. That is, features that tend to split nodes closer to the root of a tree will result in a larger imporance value. When we plot the feature importance of all features below, we see that the most important feature accoring to the algorithm is monthly payment. (Monthly payment is the top feature contributing to the predictions of the model.) Node splits based on this feature on average result in a larger decrease of node impurity."
   ]
  },
  {
   "cell_type": "code",
   "execution_count": 298,
   "metadata": {
    "scrolled": true
   },
   "outputs": [
    {
     "data": {
      "image/png": "[encoded data removed]",
      "text/plain": [
       "<Figure size 800x1200 with 1 Axes>"
      ]
     },
     "metadata": {},
     "output_type": "display_data"
    }
   ],
   "source": [
    "features = X_train.columns\n",
    "importances = rf.feature_importances_\n",
    "indices = np.argsort(importances)\n",
    "from matplotlib.pyplot import figure\n",
    "figure(num=None, figsize=(10, 15), dpi=80, facecolor='w', edgecolor='k')\n",
    "plt.title('Feature Importances')\n",
    "plt.barh(range(len(indices)), importances[indices], color='b', align='center')\n",
    "plt.yticks(range(len(indices)), [features[i] for i in indices])\n",
    "plt.xlabel('Relative Importance')\n",
    "plt.show()"
   ]
  },
  {
   "cell_type": "code",
   "execution_count": 299,
   "metadata": {},
   "outputs": [
    {
     "data": {
      "text/plain": [
       "RandomForestClassifier(max_depth=25, n_jobs=-1, random_state=42)"
      ]
     },
     "execution_count": 299,
     "metadata": {},
     "output_type": "execute_result"
    }
   ],
   "source": [
    "rf2 = RandomForestClassifier(n_estimators = 100, n_jobs=-1, random_state=42, max_depth = 25)# Train the model on training data\n",
    "rf2.fit(os_data_X, os_data_y)"
   ]
  },
  {
   "cell_type": "code",
   "execution_count": 300,
   "metadata": {},
   "outputs": [
    {
     "name": "stdout",
     "output_type": "stream",
     "text": [
      "Accuracy of Random Forest classifier on test set: 0.92\n"
     ]
    }
   ],
   "source": [
    "y_pred = rf2.predict(X_test)\n",
    "print('Accuracy of Random Forest classifier on test set: {:.2f}'.format(rf2.score(X_test, y_test)))"
   ]
  },
  {
   "cell_type": "code",
   "execution_count": 301,
   "metadata": {},
   "outputs": [
    {
     "name": "stdout",
     "output_type": "stream",
     "text": [
      "[[168469   5108]\n",
      " [ 10273   9568]]\n"
     ]
    }
   ],
   "source": [
    "from sklearn.metrics import confusion_matrix\n",
    "confusion_matrix = confusion_matrix(y_test, y_pred)\n",
    "print(confusion_matrix)"
   ]
  },
  {
   "cell_type": "code",
   "execution_count": 302,
   "metadata": {},
   "outputs": [
    {
     "name": "stdout",
     "output_type": "stream",
     "text": [
      "              precision    recall  f1-score   support\n",
      "\n",
      "           0       0.94      0.97      0.96    173577\n",
      "           1       0.65      0.48      0.55     19841\n",
      "\n",
      "    accuracy                           0.92    193418\n",
      "   macro avg       0.80      0.73      0.76    193418\n",
      "weighted avg       0.91      0.92      0.92    193418\n",
      "\n"
     ]
    }
   ],
   "source": [
    "y_pred = rf2.predict(X_test)\n",
    "print(classification_report(y_test, y_pred))"
   ]
  },
  {
   "cell_type": "code",
   "execution_count": 305,
   "metadata": {},
   "outputs": [
    {
     "data": {
      "image/png": "[encoded data removed]",
      "text/plain": [
       "<Figure size 432x288 with 1 Axes>"
      ]
     },
     "metadata": {},
     "output_type": "display_data"
    }
   ],
   "source": [
    "rf2_roc_auc = roc_auc_score(y_test, rf.predict(X_test))\n",
    "fpr, tpr, thresholds = roc_curve(y_test, rf2.predict_proba(X_test)[:,1])\n",
    "plt.figure()\n",
    "plt.plot(fpr, tpr, label='Random Forest (area = %0.2f)' % rf2_roc_auc)\n",
    "plt.plot([0, 1], [0, 1],'r--')\n",
    "plt.xlim([0.0, 1.0])\n",
    "plt.ylim([0.0, 1.05])\n",
    "plt.xlabel('False Positive Rate')\n",
    "plt.ylabel('True Positive Rate')\n",
    "plt.title('Receiver operating characteristic')\n",
    "plt.legend(loc=\"lower right\")\n",
    "plt.savefig('RF2_ROC')\n",
    "plt.show()"
   ]
  },
  {
   "cell_type": "code",
   "execution_count": 309,
   "metadata": {},
   "outputs": [
    {
     "data": {
      "text/plain": [
       "array([[0.85505903, 0.14494097],\n",
       "       [0.77083492, 0.22916508],\n",
       "       [0.91412401, 0.08587599],\n",
       "       ...,\n",
       "       [0.83219167, 0.16780833],\n",
       "       [0.97944209, 0.02055791],\n",
       "       [0.67502605, 0.32497395]])"
      ]
     },
     "execution_count": 309,
     "metadata": {},
     "output_type": "execute_result"
    }
   ],
   "source": [
    "rf.predict_proba(X_test)"
   ]
  },
  {
   "cell_type": "code",
   "execution_count": 314,
   "metadata": {},
   "outputs": [
    {
     "data": {
      "text/plain": [
       "array([0, 0, 0, ..., 0, 0, 0])"
      ]
     },
     "execution_count": 314,
     "metadata": {},
     "output_type": "execute_result"
    }
   ],
   "source": [
    "y_predict = np.where(rf.predict_proba(X_test)[:,1]>=0.45, 1, 0)\n",
    "y_predict"
   ]
  },
  {
   "cell_type": "code",
   "execution_count": 315,
   "metadata": {},
   "outputs": [
    {
     "name": "stdout",
     "output_type": "stream",
     "text": [
      "[[162491  11086]\n",
      " [  7530  12311]]\n",
      "              precision    recall  f1-score   support\n",
      "\n",
      "           0       0.96      0.94      0.95    173577\n",
      "           1       0.53      0.62      0.57     19841\n",
      "\n",
      "    accuracy                           0.90    193418\n",
      "   macro avg       0.74      0.78      0.76    193418\n",
      "weighted avg       0.91      0.90      0.91    193418\n",
      "\n"
     ]
    }
   ],
   "source": [
    "from sklearn.metrics import confusion_matrix\n",
    "confusion_matrix = confusion_matrix(y_test, y_predict)\n",
    "print(confusion_matrix)\n",
    "print(classification_report(y_test, y_predict))"
   ]
  },
  {
   "cell_type": "code",
   "execution_count": 316,
   "metadata": {},
   "outputs": [
    {
     "data": {
      "text/plain": [
       "AdaBoostClassifier(random_state=0)"
      ]
     },
     "execution_count": 316,
     "metadata": {},
     "output_type": "execute_result"
    }
   ],
   "source": [
    "from sklearn.ensemble import AdaBoostClassifier\n",
    "ab = AdaBoostClassifier(random_state=0)\n",
    "ab.fit(os_data_X, os_data_y)"
   ]
  },
  {
   "cell_type": "code",
   "execution_count": 317,
   "metadata": {},
   "outputs": [],
   "source": [
    "y_pred = ab.predict(X_test)"
   ]
  },
  {
   "cell_type": "code",
   "execution_count": 318,
   "metadata": {},
   "outputs": [
    {
     "name": "stdout",
     "output_type": "stream",
     "text": [
      "[[162165  11412]\n",
      " [ 10120   9721]]\n"
     ]
    }
   ],
   "source": [
    "from sklearn.metrics import confusion_matrix\n",
    "confusion_matrix = confusion_matrix(y_test, y_pred)\n",
    "print(confusion_matrix)"
   ]
  },
  {
   "cell_type": "code",
   "execution_count": 319,
   "metadata": {},
   "outputs": [
    {
     "name": "stdout",
     "output_type": "stream",
     "text": [
      "              precision    recall  f1-score   support\n",
      "\n",
      "           0       0.94      0.93      0.94    173577\n",
      "           1       0.46      0.49      0.47     19841\n",
      "\n",
      "    accuracy                           0.89    193418\n",
      "   macro avg       0.70      0.71      0.71    193418\n",
      "weighted avg       0.89      0.89      0.89    193418\n",
      "\n"
     ]
    }
   ],
   "source": [
    "print(classification_report(y_test, y_pred))"
   ]
  },
  {
   "cell_type": "code",
   "execution_count": 320,
   "metadata": {},
   "outputs": [
    {
     "data": {
      "image/png": "[encoded data removed]",
      "text/plain": [
       "<Figure size 432x288 with 1 Axes>"
      ]
     },
     "metadata": {},
     "output_type": "display_data"
    }
   ],
   "source": [
    "ab_roc_auc = roc_auc_score(y_test, ab.predict(X_test))\n",
    "fpr, tpr, thresholds = roc_curve(y_test, ab.predict_proba(X_test)[:,1])\n",
    "plt.figure()\n",
    "plt.plot(fpr, tpr, label='AdaBoosting (area = %0.2f)' % ab_roc_auc)\n",
    "plt.plot([0, 1], [0, 1],'r--')\n",
    "plt.xlim([0.0, 1.0])\n",
    "plt.ylim([0.0, 1.05])\n",
    "plt.xlabel('False Positive Rate')\n",
    "plt.ylabel('True Positive Rate')\n",
    "plt.title('Receiver operating characteristic')\n",
    "plt.legend(loc=\"lower right\")\n",
    "plt.savefig('AB_ROC')\n",
    "plt.show()"
   ]
  },
  {
   "cell_type": "code",
   "execution_count": 326,
   "metadata": {},
   "outputs": [
    {
     "data": {
      "text/plain": [
       "XGBClassifier(alpha=1, n_estimators=30)"
      ]
     },
     "execution_count": 326,
     "metadata": {},
     "output_type": "execute_result"
    }
   ],
   "source": [
    "xb = xgb.XGBClassifier(n_estimators = 30, learning_rate = 0.1, alpha = 1, random_state = 0)\n",
    "xb.fit(os_data_X, os_data_y)"
   ]
  },
  {
   "cell_type": "code",
   "execution_count": 327,
   "metadata": {},
   "outputs": [
    {
     "name": "stdout",
     "output_type": "stream",
     "text": [
      "[[153509  20068]\n",
      " [  6588  13253]]\n",
      "              precision    recall  f1-score   support\n",
      "\n",
      "           0       0.96      0.88      0.92    173577\n",
      "           1       0.40      0.67      0.50     19841\n",
      "\n",
      "    accuracy                           0.86    193418\n",
      "   macro avg       0.68      0.78      0.71    193418\n",
      "weighted avg       0.90      0.86      0.88    193418\n",
      "\n"
     ]
    }
   ],
   "source": [
    "y_pred = xb.predict(X_test)\n",
    "from sklearn.metrics import confusion_matrix\n",
    "confusion_matrix = confusion_matrix(y_test, y_pred)\n",
    "print(confusion_matrix)\n",
    "print(classification_report(y_test, y_pred))"
   ]
  },
  {
   "cell_type": "code",
   "execution_count": 338,
   "metadata": {},
   "outputs": [
    {
     "data": {
      "image/png": "[encoded data removed]",
      "text/plain": [
       "<Figure size 432x288 with 1 Axes>"
      ]
     },
     "metadata": {},
     "output_type": "display_data"
    }
   ],
   "source": [
    "xb_roc_auc = roc_auc_score(y_test, xb.predict(X_test))\n",
    "fpr, tpr, thresholds = roc_curve(y_test, xb.predict_proba(X_test)[:,1])\n",
    "plt.figure()\n",
    "plt.plot(fpr, tpr, label='XGBoosting (area = %0.2f)' % xb_roc_auc)\n",
    "plt.plot([0, 1], [0, 1],'r--')\n",
    "plt.xlim([0.0, 1.0])\n",
    "plt.ylim([0.0, 1.05])\n",
    "plt.xlabel('False Positive Rate')\n",
    "plt.ylabel('True Positive Rate')\n",
    "plt.title('Receiver operating characteristic')\n",
    "plt.legend(loc=\"lower right\")\n",
    "plt.savefig('XB_ROC')\n",
    "plt.show()"
   ]
  },
  {
   "cell_type": "code",
   "execution_count": 345,
   "metadata": {},
   "outputs": [
    {
     "data": {
      "text/plain": [
       "array([0, 0, 0, ..., 0, 0, 0])"
      ]
     },
     "execution_count": 345,
     "metadata": {},
     "output_type": "execute_result"
    }
   ],
   "source": [
    "y_predict = np.where(xb.predict_proba(X_test)[:,1]>=0.6, 1, 0)\n",
    "y_predict\n"
   ]
  },
  {
   "cell_type": "code",
   "execution_count": 346,
   "metadata": {},
   "outputs": [
    {
     "name": "stdout",
     "output_type": "stream",
     "text": [
      "[[157231  16346]\n",
      " [  7518  12323]]\n",
      "              precision    recall  f1-score   support\n",
      "\n",
      "           0       0.95      0.91      0.93    173577\n",
      "           1       0.43      0.62      0.51     19841\n",
      "\n",
      "    accuracy                           0.88    193418\n",
      "   macro avg       0.69      0.76      0.72    193418\n",
      "weighted avg       0.90      0.88      0.89    193418\n",
      "\n"
     ]
    }
   ],
   "source": [
    "from sklearn.metrics import confusion_matrix\n",
    "confusion_matrix = confusion_matrix(y_test, y_predict)\n",
    "print(confusion_matrix)\n",
    "print(classification_report(y_test, y_predict))"
   ]
  },
  {
   "cell_type": "code",
   "execution_count": 347,
   "metadata": {},
   "outputs": [
    {
     "data": {
      "image/png": "[encoded data removed]",
      "text/plain": [
       "<Figure size 800x1200 with 1 Axes>"
      ]
     },
     "metadata": {},
     "output_type": "display_data"
    }
   ],
   "source": [
    "features = X_train.columns\n",
    "importances = xb.feature_importances_\n",
    "indices = np.argsort(importances)\n",
    "from matplotlib.pyplot import figure\n",
    "figure(num=None, figsize=(10, 15), dpi=80, facecolor='w', edgecolor='k')\n",
    "plt.title('Feature Importances')\n",
    "plt.barh(range(len(indices)), importances[indices], color='b', align='center')\n",
    "plt.yticks(range(len(indices)), [features[i] for i in indices])\n",
    "plt.xlabel('Relative Importance')\n",
    "plt.show()"
   ]
  },
  {
   "cell_type": "code",
   "execution_count": null,
   "metadata": {},
   "outputs": [],
   "source": []
  }
 ],
 "metadata": {
  "kernelspec": {
   "display_name": "Python 3",
   "language": "python",
   "name": "python3"
  },
  "language_info": {
   "codemirror_mode": {
    "name": "ipython",
    "version": 3
   },
   "file_extension": ".py",
   "mimetype": "text/x-python",
   "name": "python",
   "nbconvert_exporter": "python",
   "pygments_lexer": "ipython3",
   "version": "3.7.4"
  }
 },
 "nbformat": 4,
 "nbformat_minor": 2
}
